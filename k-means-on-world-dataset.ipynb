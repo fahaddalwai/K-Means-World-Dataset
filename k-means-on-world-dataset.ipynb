{
 "cells": [
  {
   "cell_type": "code",
   "execution_count": 1,
   "id": "ab140868",
   "metadata": {
    "_cell_guid": "b1076dfc-b9ad-4769-8c92-a6c4dae69d19",
    "_uuid": "8f2839f25d086af736a60e9eeb907d3b93b6e0e5",
    "execution": {
     "iopub.execute_input": "2023-01-16T10:47:23.099193Z",
     "iopub.status.busy": "2023-01-16T10:47:23.098548Z",
     "iopub.status.idle": "2023-01-16T10:47:28.038436Z",
     "shell.execute_reply": "2023-01-16T10:47:28.036388Z"
    },
    "papermill": {
     "duration": 4.959923,
     "end_time": "2023-01-16T10:47:28.042270",
     "exception": false,
     "start_time": "2023-01-16T10:47:23.082347",
     "status": "completed"
    },
    "tags": []
   },
   "outputs": [
    {
     "name": "stderr",
     "output_type": "stream",
     "text": [
      "/opt/conda/lib/python3.7/site-packages/geopandas/_compat.py:115: UserWarning: The Shapely GEOS version (3.9.1-CAPI-1.14.2) is incompatible with the GEOS version PyGEOS was compiled with (3.10.4-CAPI-1.16.2). Conversions between both will be slow.\n",
      "  shapely_geos_version, geos_capi_version_string\n"
     ]
    },
    {
     "name": "stdout",
     "output_type": "stream",
     "text": [
      "/kaggle/input/countries-iso-codes-continent-flags-url/countries_continents_codes_flags_url.csv\n",
      "/kaggle/input/countries-of-the-world/countries of the world.csv\n"
     ]
    }
   ],
   "source": [
    "# This Python 3 environment comes with many helpful analytics libraries installed\n",
    "# It is defined by the kaggle/python Docker image: https://github.com/kaggle/docker-python\n",
    "# For example, here's several helpful packages to load\n",
    "\n",
    "import numpy as np # linear algebra\n",
    "import pandas as pd # data processing, CSV file I/O (e.g. pd.read_csv)\n",
    "import matplotlib.pyplot as plt\n",
    "import seaborn as sns\n",
    "import plotly.express as px\n",
    "import plotly.figure_factory as ff\n",
    "from sklearn.preprocessing import StandardScaler\n",
    "from sklearn.cluster import KMeans\n",
    "# Input data files are available in the read-only \"../input/\" directory\n",
    "# For example, running this (by clicking run or pressing Shift+Enter) will list all files under the input directory\n",
    "\n",
    "import os\n",
    "for dirname, _, filenames in os.walk('/kaggle/input'):\n",
    "    for filename in filenames:\n",
    "        print(os.path.join(dirname, filename))\n",
    "\n",
    "# You can write up to 20GB to the current directory (/kaggle/working/) that gets preserved as output when you create a version using \"Save & Run All\" \n",
    "# You can also write temporary files to /kaggle/temp/, but they won't be saved outside of the current session"
   ]
  },
  {
   "cell_type": "markdown",
   "id": "03c2146a",
   "metadata": {
    "papermill": {
     "duration": 0.015329,
     "end_time": "2023-01-16T10:47:28.072596",
     "exception": false,
     "start_time": "2023-01-16T10:47:28.057267",
     "status": "completed"
    },
    "tags": []
   },
   "source": [
    "# Dataset overview  \n",
    "Hello there! Todays topic of discussion is centered around using K-means for creating clusters on our dataset to identify and recognize features. We will perform some exploration on our dataset and proceeed with the model after that. Lets dig in..."
   ]
  },
  {
   "cell_type": "code",
   "execution_count": 2,
   "id": "0c304698",
   "metadata": {
    "execution": {
     "iopub.execute_input": "2023-01-16T10:47:28.102695Z",
     "iopub.status.busy": "2023-01-16T10:47:28.101406Z",
     "iopub.status.idle": "2023-01-16T10:47:28.127260Z",
     "shell.execute_reply": "2023-01-16T10:47:28.126208Z"
    },
    "papermill": {
     "duration": 0.043688,
     "end_time": "2023-01-16T10:47:28.129917",
     "exception": false,
     "start_time": "2023-01-16T10:47:28.086229",
     "status": "completed"
    },
    "tags": []
   },
   "outputs": [],
   "source": [
    "df=pd.read_csv('/kaggle/input/countries-of-the-world/countries of the world.csv',decimal=',')"
   ]
  },
  {
   "cell_type": "markdown",
   "id": "853126d5",
   "metadata": {
    "papermill": {
     "duration": 0.012965,
     "end_time": "2023-01-16T10:47:28.156675",
     "exception": false,
     "start_time": "2023-01-16T10:47:28.143710",
     "status": "completed"
    },
    "tags": []
   },
   "source": [
    "We have quite a large number of columns in our dataset varying from the literacy rate, crop percentage, etc. This dataset was collected by the US Government and captures important aspects of each of the countries on the planet."
   ]
  },
  {
   "cell_type": "code",
   "execution_count": 3,
   "id": "b102e68e",
   "metadata": {
    "execution": {
     "iopub.execute_input": "2023-01-16T10:47:28.183520Z",
     "iopub.status.busy": "2023-01-16T10:47:28.182802Z",
     "iopub.status.idle": "2023-01-16T10:47:28.223165Z",
     "shell.execute_reply": "2023-01-16T10:47:28.221827Z"
    },
    "papermill": {
     "duration": 0.056773,
     "end_time": "2023-01-16T10:47:28.225738",
     "exception": false,
     "start_time": "2023-01-16T10:47:28.168965",
     "status": "completed"
    },
    "tags": []
   },
   "outputs": [
    {
     "data": {
      "text/html": [
       "<div>\n",
       "<style scoped>\n",
       "    .dataframe tbody tr th:only-of-type {\n",
       "        vertical-align: middle;\n",
       "    }\n",
       "\n",
       "    .dataframe tbody tr th {\n",
       "        vertical-align: top;\n",
       "    }\n",
       "\n",
       "    .dataframe thead th {\n",
       "        text-align: right;\n",
       "    }\n",
       "</style>\n",
       "<table border=\"1\" class=\"dataframe\">\n",
       "  <thead>\n",
       "    <tr style=\"text-align: right;\">\n",
       "      <th></th>\n",
       "      <th>Country</th>\n",
       "      <th>Region</th>\n",
       "      <th>Population</th>\n",
       "      <th>Area (sq. mi.)</th>\n",
       "      <th>Pop. Density (per sq. mi.)</th>\n",
       "      <th>Coastline (coast/area ratio)</th>\n",
       "      <th>Net migration</th>\n",
       "      <th>Infant mortality (per 1000 births)</th>\n",
       "      <th>GDP ($ per capita)</th>\n",
       "      <th>Literacy (%)</th>\n",
       "      <th>Phones (per 1000)</th>\n",
       "      <th>Arable (%)</th>\n",
       "      <th>Crops (%)</th>\n",
       "      <th>Other (%)</th>\n",
       "      <th>Climate</th>\n",
       "      <th>Birthrate</th>\n",
       "      <th>Deathrate</th>\n",
       "      <th>Agriculture</th>\n",
       "      <th>Industry</th>\n",
       "      <th>Service</th>\n",
       "    </tr>\n",
       "  </thead>\n",
       "  <tbody>\n",
       "    <tr>\n",
       "      <th>0</th>\n",
       "      <td>Afghanistan</td>\n",
       "      <td>ASIA (EX. NEAR EAST)</td>\n",
       "      <td>31056997</td>\n",
       "      <td>647500</td>\n",
       "      <td>48.0</td>\n",
       "      <td>0.00</td>\n",
       "      <td>23.06</td>\n",
       "      <td>163.07</td>\n",
       "      <td>700.0</td>\n",
       "      <td>36.0</td>\n",
       "      <td>3.2</td>\n",
       "      <td>12.13</td>\n",
       "      <td>0.22</td>\n",
       "      <td>87.65</td>\n",
       "      <td>1.0</td>\n",
       "      <td>46.60</td>\n",
       "      <td>20.34</td>\n",
       "      <td>0.380</td>\n",
       "      <td>0.240</td>\n",
       "      <td>0.380</td>\n",
       "    </tr>\n",
       "    <tr>\n",
       "      <th>1</th>\n",
       "      <td>Albania</td>\n",
       "      <td>EASTERN EUROPE</td>\n",
       "      <td>3581655</td>\n",
       "      <td>28748</td>\n",
       "      <td>124.6</td>\n",
       "      <td>1.26</td>\n",
       "      <td>-4.93</td>\n",
       "      <td>21.52</td>\n",
       "      <td>4500.0</td>\n",
       "      <td>86.5</td>\n",
       "      <td>71.2</td>\n",
       "      <td>21.09</td>\n",
       "      <td>4.42</td>\n",
       "      <td>74.49</td>\n",
       "      <td>3.0</td>\n",
       "      <td>15.11</td>\n",
       "      <td>5.22</td>\n",
       "      <td>0.232</td>\n",
       "      <td>0.188</td>\n",
       "      <td>0.579</td>\n",
       "    </tr>\n",
       "    <tr>\n",
       "      <th>2</th>\n",
       "      <td>Algeria</td>\n",
       "      <td>NORTHERN AFRICA</td>\n",
       "      <td>32930091</td>\n",
       "      <td>2381740</td>\n",
       "      <td>13.8</td>\n",
       "      <td>0.04</td>\n",
       "      <td>-0.39</td>\n",
       "      <td>31.00</td>\n",
       "      <td>6000.0</td>\n",
       "      <td>70.0</td>\n",
       "      <td>78.1</td>\n",
       "      <td>3.22</td>\n",
       "      <td>0.25</td>\n",
       "      <td>96.53</td>\n",
       "      <td>1.0</td>\n",
       "      <td>17.14</td>\n",
       "      <td>4.61</td>\n",
       "      <td>0.101</td>\n",
       "      <td>0.600</td>\n",
       "      <td>0.298</td>\n",
       "    </tr>\n",
       "    <tr>\n",
       "      <th>3</th>\n",
       "      <td>American Samoa</td>\n",
       "      <td>OCEANIA</td>\n",
       "      <td>57794</td>\n",
       "      <td>199</td>\n",
       "      <td>290.4</td>\n",
       "      <td>58.29</td>\n",
       "      <td>-20.71</td>\n",
       "      <td>9.27</td>\n",
       "      <td>8000.0</td>\n",
       "      <td>97.0</td>\n",
       "      <td>259.5</td>\n",
       "      <td>10.00</td>\n",
       "      <td>15.00</td>\n",
       "      <td>75.00</td>\n",
       "      <td>2.0</td>\n",
       "      <td>22.46</td>\n",
       "      <td>3.27</td>\n",
       "      <td>NaN</td>\n",
       "      <td>NaN</td>\n",
       "      <td>NaN</td>\n",
       "    </tr>\n",
       "    <tr>\n",
       "      <th>4</th>\n",
       "      <td>Andorra</td>\n",
       "      <td>WESTERN EUROPE</td>\n",
       "      <td>71201</td>\n",
       "      <td>468</td>\n",
       "      <td>152.1</td>\n",
       "      <td>0.00</td>\n",
       "      <td>6.60</td>\n",
       "      <td>4.05</td>\n",
       "      <td>19000.0</td>\n",
       "      <td>100.0</td>\n",
       "      <td>497.2</td>\n",
       "      <td>2.22</td>\n",
       "      <td>0.00</td>\n",
       "      <td>97.78</td>\n",
       "      <td>3.0</td>\n",
       "      <td>8.71</td>\n",
       "      <td>6.25</td>\n",
       "      <td>NaN</td>\n",
       "      <td>NaN</td>\n",
       "      <td>NaN</td>\n",
       "    </tr>\n",
       "  </tbody>\n",
       "</table>\n",
       "</div>"
      ],
      "text/plain": [
       "           Country                               Region  Population  \\\n",
       "0     Afghanistan         ASIA (EX. NEAR EAST)             31056997   \n",
       "1         Albania   EASTERN EUROPE                          3581655   \n",
       "2         Algeria   NORTHERN AFRICA                        32930091   \n",
       "3  American Samoa   OCEANIA                                   57794   \n",
       "4         Andorra   WESTERN EUROPE                            71201   \n",
       "\n",
       "   Area (sq. mi.)  Pop. Density (per sq. mi.)  Coastline (coast/area ratio)  \\\n",
       "0          647500                        48.0                          0.00   \n",
       "1           28748                       124.6                          1.26   \n",
       "2         2381740                        13.8                          0.04   \n",
       "3             199                       290.4                         58.29   \n",
       "4             468                       152.1                          0.00   \n",
       "\n",
       "   Net migration  Infant mortality (per 1000 births)  GDP ($ per capita)  \\\n",
       "0          23.06                              163.07               700.0   \n",
       "1          -4.93                               21.52              4500.0   \n",
       "2          -0.39                               31.00              6000.0   \n",
       "3         -20.71                                9.27              8000.0   \n",
       "4           6.60                                4.05             19000.0   \n",
       "\n",
       "   Literacy (%)  Phones (per 1000)  Arable (%)  Crops (%)  Other (%)  Climate  \\\n",
       "0          36.0                3.2       12.13       0.22      87.65      1.0   \n",
       "1          86.5               71.2       21.09       4.42      74.49      3.0   \n",
       "2          70.0               78.1        3.22       0.25      96.53      1.0   \n",
       "3          97.0              259.5       10.00      15.00      75.00      2.0   \n",
       "4         100.0              497.2        2.22       0.00      97.78      3.0   \n",
       "\n",
       "   Birthrate  Deathrate  Agriculture  Industry  Service  \n",
       "0      46.60      20.34        0.380     0.240    0.380  \n",
       "1      15.11       5.22        0.232     0.188    0.579  \n",
       "2      17.14       4.61        0.101     0.600    0.298  \n",
       "3      22.46       3.27          NaN       NaN      NaN  \n",
       "4       8.71       6.25          NaN       NaN      NaN  "
      ]
     },
     "execution_count": 3,
     "metadata": {},
     "output_type": "execute_result"
    }
   ],
   "source": [
    "df.head()"
   ]
  },
  {
   "cell_type": "markdown",
   "id": "f75ad8bf",
   "metadata": {
    "papermill": {
     "duration": 0.013772,
     "end_time": "2023-01-16T10:47:28.253528",
     "exception": false,
     "start_time": "2023-01-16T10:47:28.239756",
     "status": "completed"
    },
    "tags": []
   },
   "source": [
    "Notice how we do have a small amount of null values in a few columns. However, this shouldn't be of a large concern to us."
   ]
  },
  {
   "cell_type": "code",
   "execution_count": 4,
   "id": "070edba1",
   "metadata": {
    "execution": {
     "iopub.execute_input": "2023-01-16T10:47:28.284773Z",
     "iopub.status.busy": "2023-01-16T10:47:28.284056Z",
     "iopub.status.idle": "2023-01-16T10:47:28.314750Z",
     "shell.execute_reply": "2023-01-16T10:47:28.313026Z"
    },
    "papermill": {
     "duration": 0.05015,
     "end_time": "2023-01-16T10:47:28.318098",
     "exception": false,
     "start_time": "2023-01-16T10:47:28.267948",
     "status": "completed"
    },
    "tags": []
   },
   "outputs": [
    {
     "name": "stdout",
     "output_type": "stream",
     "text": [
      "<class 'pandas.core.frame.DataFrame'>\n",
      "RangeIndex: 227 entries, 0 to 226\n",
      "Data columns (total 20 columns):\n",
      " #   Column                              Non-Null Count  Dtype  \n",
      "---  ------                              --------------  -----  \n",
      " 0   Country                             227 non-null    object \n",
      " 1   Region                              227 non-null    object \n",
      " 2   Population                          227 non-null    int64  \n",
      " 3   Area (sq. mi.)                      227 non-null    int64  \n",
      " 4   Pop. Density (per sq. mi.)          227 non-null    float64\n",
      " 5   Coastline (coast/area ratio)        227 non-null    float64\n",
      " 6   Net migration                       224 non-null    float64\n",
      " 7   Infant mortality (per 1000 births)  224 non-null    float64\n",
      " 8   GDP ($ per capita)                  226 non-null    float64\n",
      " 9   Literacy (%)                        209 non-null    float64\n",
      " 10  Phones (per 1000)                   223 non-null    float64\n",
      " 11  Arable (%)                          225 non-null    float64\n",
      " 12  Crops (%)                           225 non-null    float64\n",
      " 13  Other (%)                           225 non-null    float64\n",
      " 14  Climate                             205 non-null    float64\n",
      " 15  Birthrate                           224 non-null    float64\n",
      " 16  Deathrate                           223 non-null    float64\n",
      " 17  Agriculture                         212 non-null    float64\n",
      " 18  Industry                            211 non-null    float64\n",
      " 19  Service                             212 non-null    float64\n",
      "dtypes: float64(16), int64(2), object(2)\n",
      "memory usage: 35.6+ KB\n"
     ]
    }
   ],
   "source": [
    "df.info()"
   ]
  },
  {
   "cell_type": "code",
   "execution_count": 5,
   "id": "09a3dac1",
   "metadata": {
    "execution": {
     "iopub.execute_input": "2023-01-16T10:47:28.349298Z",
     "iopub.status.busy": "2023-01-16T10:47:28.348840Z",
     "iopub.status.idle": "2023-01-16T10:47:28.431821Z",
     "shell.execute_reply": "2023-01-16T10:47:28.430266Z"
    },
    "papermill": {
     "duration": 0.101825,
     "end_time": "2023-01-16T10:47:28.435029",
     "exception": false,
     "start_time": "2023-01-16T10:47:28.333204",
     "status": "completed"
    },
    "tags": []
   },
   "outputs": [
    {
     "data": {
      "text/html": [
       "<div>\n",
       "<style scoped>\n",
       "    .dataframe tbody tr th:only-of-type {\n",
       "        vertical-align: middle;\n",
       "    }\n",
       "\n",
       "    .dataframe tbody tr th {\n",
       "        vertical-align: top;\n",
       "    }\n",
       "\n",
       "    .dataframe thead th {\n",
       "        text-align: right;\n",
       "    }\n",
       "</style>\n",
       "<table border=\"1\" class=\"dataframe\">\n",
       "  <thead>\n",
       "    <tr style=\"text-align: right;\">\n",
       "      <th></th>\n",
       "      <th>Population</th>\n",
       "      <th>Area (sq. mi.)</th>\n",
       "      <th>Pop. Density (per sq. mi.)</th>\n",
       "      <th>Coastline (coast/area ratio)</th>\n",
       "      <th>Net migration</th>\n",
       "      <th>Infant mortality (per 1000 births)</th>\n",
       "      <th>GDP ($ per capita)</th>\n",
       "      <th>Literacy (%)</th>\n",
       "      <th>Phones (per 1000)</th>\n",
       "      <th>Arable (%)</th>\n",
       "      <th>Crops (%)</th>\n",
       "      <th>Other (%)</th>\n",
       "      <th>Climate</th>\n",
       "      <th>Birthrate</th>\n",
       "      <th>Deathrate</th>\n",
       "      <th>Agriculture</th>\n",
       "      <th>Industry</th>\n",
       "      <th>Service</th>\n",
       "    </tr>\n",
       "  </thead>\n",
       "  <tbody>\n",
       "    <tr>\n",
       "      <th>count</th>\n",
       "      <td>2.270000e+02</td>\n",
       "      <td>2.270000e+02</td>\n",
       "      <td>227.000000</td>\n",
       "      <td>227.000000</td>\n",
       "      <td>224.000000</td>\n",
       "      <td>224.000000</td>\n",
       "      <td>226.000000</td>\n",
       "      <td>209.000000</td>\n",
       "      <td>223.000000</td>\n",
       "      <td>225.000000</td>\n",
       "      <td>225.000000</td>\n",
       "      <td>225.000000</td>\n",
       "      <td>205.000000</td>\n",
       "      <td>224.000000</td>\n",
       "      <td>223.000000</td>\n",
       "      <td>212.000000</td>\n",
       "      <td>211.000000</td>\n",
       "      <td>212.000000</td>\n",
       "    </tr>\n",
       "    <tr>\n",
       "      <th>mean</th>\n",
       "      <td>2.874028e+07</td>\n",
       "      <td>5.982270e+05</td>\n",
       "      <td>379.047137</td>\n",
       "      <td>21.165330</td>\n",
       "      <td>0.038125</td>\n",
       "      <td>35.506964</td>\n",
       "      <td>9689.823009</td>\n",
       "      <td>82.838278</td>\n",
       "      <td>236.061435</td>\n",
       "      <td>13.797111</td>\n",
       "      <td>4.564222</td>\n",
       "      <td>81.638311</td>\n",
       "      <td>2.139024</td>\n",
       "      <td>22.114732</td>\n",
       "      <td>9.241345</td>\n",
       "      <td>0.150844</td>\n",
       "      <td>0.282711</td>\n",
       "      <td>0.565283</td>\n",
       "    </tr>\n",
       "    <tr>\n",
       "      <th>std</th>\n",
       "      <td>1.178913e+08</td>\n",
       "      <td>1.790282e+06</td>\n",
       "      <td>1660.185825</td>\n",
       "      <td>72.286863</td>\n",
       "      <td>4.889269</td>\n",
       "      <td>35.389899</td>\n",
       "      <td>10049.138513</td>\n",
       "      <td>19.722173</td>\n",
       "      <td>227.991829</td>\n",
       "      <td>13.040402</td>\n",
       "      <td>8.361470</td>\n",
       "      <td>16.140835</td>\n",
       "      <td>0.699397</td>\n",
       "      <td>11.176716</td>\n",
       "      <td>4.990026</td>\n",
       "      <td>0.146798</td>\n",
       "      <td>0.138272</td>\n",
       "      <td>0.165841</td>\n",
       "    </tr>\n",
       "    <tr>\n",
       "      <th>min</th>\n",
       "      <td>7.026000e+03</td>\n",
       "      <td>2.000000e+00</td>\n",
       "      <td>0.000000</td>\n",
       "      <td>0.000000</td>\n",
       "      <td>-20.990000</td>\n",
       "      <td>2.290000</td>\n",
       "      <td>500.000000</td>\n",
       "      <td>17.600000</td>\n",
       "      <td>0.200000</td>\n",
       "      <td>0.000000</td>\n",
       "      <td>0.000000</td>\n",
       "      <td>33.330000</td>\n",
       "      <td>1.000000</td>\n",
       "      <td>7.290000</td>\n",
       "      <td>2.290000</td>\n",
       "      <td>0.000000</td>\n",
       "      <td>0.020000</td>\n",
       "      <td>0.062000</td>\n",
       "    </tr>\n",
       "    <tr>\n",
       "      <th>25%</th>\n",
       "      <td>4.376240e+05</td>\n",
       "      <td>4.647500e+03</td>\n",
       "      <td>29.150000</td>\n",
       "      <td>0.100000</td>\n",
       "      <td>-0.927500</td>\n",
       "      <td>8.150000</td>\n",
       "      <td>1900.000000</td>\n",
       "      <td>70.600000</td>\n",
       "      <td>37.800000</td>\n",
       "      <td>3.220000</td>\n",
       "      <td>0.190000</td>\n",
       "      <td>71.650000</td>\n",
       "      <td>2.000000</td>\n",
       "      <td>12.672500</td>\n",
       "      <td>5.910000</td>\n",
       "      <td>0.037750</td>\n",
       "      <td>0.193000</td>\n",
       "      <td>0.429250</td>\n",
       "    </tr>\n",
       "    <tr>\n",
       "      <th>50%</th>\n",
       "      <td>4.786994e+06</td>\n",
       "      <td>8.660000e+04</td>\n",
       "      <td>78.800000</td>\n",
       "      <td>0.730000</td>\n",
       "      <td>0.000000</td>\n",
       "      <td>21.000000</td>\n",
       "      <td>5550.000000</td>\n",
       "      <td>92.500000</td>\n",
       "      <td>176.200000</td>\n",
       "      <td>10.420000</td>\n",
       "      <td>1.030000</td>\n",
       "      <td>85.700000</td>\n",
       "      <td>2.000000</td>\n",
       "      <td>18.790000</td>\n",
       "      <td>7.840000</td>\n",
       "      <td>0.099000</td>\n",
       "      <td>0.272000</td>\n",
       "      <td>0.571000</td>\n",
       "    </tr>\n",
       "    <tr>\n",
       "      <th>75%</th>\n",
       "      <td>1.749777e+07</td>\n",
       "      <td>4.418110e+05</td>\n",
       "      <td>190.150000</td>\n",
       "      <td>10.345000</td>\n",
       "      <td>0.997500</td>\n",
       "      <td>55.705000</td>\n",
       "      <td>15700.000000</td>\n",
       "      <td>98.000000</td>\n",
       "      <td>389.650000</td>\n",
       "      <td>20.000000</td>\n",
       "      <td>4.440000</td>\n",
       "      <td>95.440000</td>\n",
       "      <td>3.000000</td>\n",
       "      <td>29.820000</td>\n",
       "      <td>10.605000</td>\n",
       "      <td>0.221000</td>\n",
       "      <td>0.341000</td>\n",
       "      <td>0.678500</td>\n",
       "    </tr>\n",
       "    <tr>\n",
       "      <th>max</th>\n",
       "      <td>1.313974e+09</td>\n",
       "      <td>1.707520e+07</td>\n",
       "      <td>16271.500000</td>\n",
       "      <td>870.660000</td>\n",
       "      <td>23.060000</td>\n",
       "      <td>191.190000</td>\n",
       "      <td>55100.000000</td>\n",
       "      <td>100.000000</td>\n",
       "      <td>1035.600000</td>\n",
       "      <td>62.110000</td>\n",
       "      <td>50.680000</td>\n",
       "      <td>100.000000</td>\n",
       "      <td>4.000000</td>\n",
       "      <td>50.730000</td>\n",
       "      <td>29.740000</td>\n",
       "      <td>0.769000</td>\n",
       "      <td>0.906000</td>\n",
       "      <td>0.954000</td>\n",
       "    </tr>\n",
       "  </tbody>\n",
       "</table>\n",
       "</div>"
      ],
      "text/plain": [
       "         Population  Area (sq. mi.)  Pop. Density (per sq. mi.)  \\\n",
       "count  2.270000e+02    2.270000e+02                  227.000000   \n",
       "mean   2.874028e+07    5.982270e+05                  379.047137   \n",
       "std    1.178913e+08    1.790282e+06                 1660.185825   \n",
       "min    7.026000e+03    2.000000e+00                    0.000000   \n",
       "25%    4.376240e+05    4.647500e+03                   29.150000   \n",
       "50%    4.786994e+06    8.660000e+04                   78.800000   \n",
       "75%    1.749777e+07    4.418110e+05                  190.150000   \n",
       "max    1.313974e+09    1.707520e+07                16271.500000   \n",
       "\n",
       "       Coastline (coast/area ratio)  Net migration  \\\n",
       "count                    227.000000     224.000000   \n",
       "mean                      21.165330       0.038125   \n",
       "std                       72.286863       4.889269   \n",
       "min                        0.000000     -20.990000   \n",
       "25%                        0.100000      -0.927500   \n",
       "50%                        0.730000       0.000000   \n",
       "75%                       10.345000       0.997500   \n",
       "max                      870.660000      23.060000   \n",
       "\n",
       "       Infant mortality (per 1000 births)  GDP ($ per capita)  Literacy (%)  \\\n",
       "count                          224.000000          226.000000    209.000000   \n",
       "mean                            35.506964         9689.823009     82.838278   \n",
       "std                             35.389899        10049.138513     19.722173   \n",
       "min                              2.290000          500.000000     17.600000   \n",
       "25%                              8.150000         1900.000000     70.600000   \n",
       "50%                             21.000000         5550.000000     92.500000   \n",
       "75%                             55.705000        15700.000000     98.000000   \n",
       "max                            191.190000        55100.000000    100.000000   \n",
       "\n",
       "       Phones (per 1000)  Arable (%)   Crops (%)   Other (%)     Climate  \\\n",
       "count         223.000000  225.000000  225.000000  225.000000  205.000000   \n",
       "mean          236.061435   13.797111    4.564222   81.638311    2.139024   \n",
       "std           227.991829   13.040402    8.361470   16.140835    0.699397   \n",
       "min             0.200000    0.000000    0.000000   33.330000    1.000000   \n",
       "25%            37.800000    3.220000    0.190000   71.650000    2.000000   \n",
       "50%           176.200000   10.420000    1.030000   85.700000    2.000000   \n",
       "75%           389.650000   20.000000    4.440000   95.440000    3.000000   \n",
       "max          1035.600000   62.110000   50.680000  100.000000    4.000000   \n",
       "\n",
       "        Birthrate   Deathrate  Agriculture    Industry     Service  \n",
       "count  224.000000  223.000000   212.000000  211.000000  212.000000  \n",
       "mean    22.114732    9.241345     0.150844    0.282711    0.565283  \n",
       "std     11.176716    4.990026     0.146798    0.138272    0.165841  \n",
       "min      7.290000    2.290000     0.000000    0.020000    0.062000  \n",
       "25%     12.672500    5.910000     0.037750    0.193000    0.429250  \n",
       "50%     18.790000    7.840000     0.099000    0.272000    0.571000  \n",
       "75%     29.820000   10.605000     0.221000    0.341000    0.678500  \n",
       "max     50.730000   29.740000     0.769000    0.906000    0.954000  "
      ]
     },
     "execution_count": 5,
     "metadata": {},
     "output_type": "execute_result"
    }
   ],
   "source": [
    "df.describe()"
   ]
  },
  {
   "cell_type": "markdown",
   "id": "0c0c1cd1",
   "metadata": {
    "papermill": {
     "duration": 0.013415,
     "end_time": "2023-01-16T10:47:28.463338",
     "exception": false,
     "start_time": "2023-01-16T10:47:28.449923",
     "status": "completed"
    },
    "tags": []
   },
   "source": [
    "# Exploratory Data Analysis  \n",
    "Lets being with the population first. "
   ]
  },
  {
   "cell_type": "code",
   "execution_count": 6,
   "id": "a177bd20",
   "metadata": {
    "execution": {
     "iopub.execute_input": "2023-01-16T10:47:28.495066Z",
     "iopub.status.busy": "2023-01-16T10:47:28.494640Z",
     "iopub.status.idle": "2023-01-16T10:47:29.893009Z",
     "shell.execute_reply": "2023-01-16T10:47:29.890919Z"
    },
    "papermill": {
     "duration": 1.417855,
     "end_time": "2023-01-16T10:47:29.896192",
     "exception": false,
     "start_time": "2023-01-16T10:47:28.478337",
     "status": "completed"
    },
    "tags": []
   },
   "outputs": [
    {
     "data": {
      "text/html": [
       "        <script type=\"text/javascript\">\n",
       "        window.PlotlyConfig = {MathJaxConfig: 'local'};\n",
       "        if (window.MathJax && window.MathJax.Hub && window.MathJax.Hub.Config) {window.MathJax.Hub.Config({SVG: {font: \"STIX-Web\"}});}\n",
       "        if (typeof require !== 'undefined') {\n",
       "        require.undef(\"plotly\");\n",
       "        requirejs.config({\n",
       "            paths: {\n",
       "                'plotly': ['https://cdn.plot.ly/plotly-2.16.1.min']\n",
       "            }\n",
       "        });\n",
       "        require(['plotly'], function(Plotly) {\n",
       "            window._Plotly = Plotly;\n",
       "        });\n",
       "        }\n",
       "        </script>\n",
       "        "
      ]
     },
     "metadata": {},
     "output_type": "display_data"
    },
    {
     "data": {
      "text/html": [
       "<div>                            <div id=\"da5a1510-f830-427c-822c-a904338e479e\" class=\"plotly-graph-div\" style=\"height:525px; width:100%;\"></div>            <script type=\"text/javascript\">                require([\"plotly\"], function(Plotly) {                    window.PLOTLYENV=window.PLOTLYENV || {};                                    if (document.getElementById(\"da5a1510-f830-427c-822c-a904338e479e\")) {                    Plotly.newPlot(                        \"da5a1510-f830-427c-822c-a904338e479e\",                        [{\"alignmentgroup\":\"True\",\"bingroup\":\"x\",\"hovertemplate\":\"Population=%{x}<br>count=%{y}<extra></extra>\",\"legendgroup\":\"\",\"marker\":{\"color\":\"#636efa\",\"pattern\":{\"shape\":\"\"}},\"name\":\"\",\"offsetgroup\":\"\",\"orientation\":\"v\",\"showlegend\":false,\"x\":[31056997,3581655,32930091,57794,71201,12127071,13477,69108,39921833,2976372,71891,20264082,8192880,7961619,303770,698585,147365352,279912,10293011,10379067,287730,7862944,65773,2279723,8989046,4498976,1639833,188078227,23098,379444,7385367,13902972,47382633,8090068,13881427,17340702,33098932,420979,45436,4303356,9944201,16134219,1313973713,43593035,690948,62660551,3702314,21388,4075261,17654843,4494749,11382820,784301,10235455,5450661,486530,68910,9183984,1062777,13547510,78887007,6822378,540109,4786994,1324333,74777981,47246,905949,5231372,60876136,199509,274578,1424906,1641564,1428757,4661473,82422299,22409572,27928,10688058,56361,89703,452776,171019,12293545,65409,9690222,1442029,767245,8308504,7326496,6940432,9981334,299388,1095351995,245452739,68688433,26783383,4062235,75441,6352117,58133509,2758124,127463611,91084,5906760,15233244,34707817,105432,23113019,48846823,2418393,5213898,6368481,2274735,3874050,2022331,3042004,5900754,33987,3585906,474413,453125,2050554,18595469,13013926,24385858,359008,11716829,400214,60422,436131,3177388,1240827,201234,107449525,108004,4466706,32543,2832224,9439,33241259,19686505,2044147,13287,28287147,16491461,221736,219246,4076140,5570129,12525094,131859731,82459,4610820,3102229,165803560,20579,3191319,5670544,6506464,28302603,89468677,38536869,10605870,3927188,885359,787584,22303552,142893540,8648248,7502,39129,168458,7026,117848,176908,29251,193413,27019731,11987121,9396411,81541,6005250,4492150,5439448,2010347,552438,8863338,44187637,40397842,20222240,41236378,439117,1136334,9016596,7523934,18881361,23036087,7320815,37445392,64631595,5548702,114689,1065842,10175014,70413958,5042920,21152,11810,28195754,46710816,2602713,60609153,298444215,3431932,27307134,208869,25730435,84402966,108605,16025,2460492,273008,21456188,11502010,12236805],\"xaxis\":\"x\",\"yaxis\":\"y\",\"type\":\"histogram\"}],                        {\"template\":{\"data\":{\"histogram2dcontour\":[{\"type\":\"histogram2dcontour\",\"colorbar\":{\"outlinewidth\":0,\"ticks\":\"\"},\"colorscale\":[[0.0,\"#0d0887\"],[0.1111111111111111,\"#46039f\"],[0.2222222222222222,\"#7201a8\"],[0.3333333333333333,\"#9c179e\"],[0.4444444444444444,\"#bd3786\"],[0.5555555555555556,\"#d8576b\"],[0.6666666666666666,\"#ed7953\"],[0.7777777777777778,\"#fb9f3a\"],[0.8888888888888888,\"#fdca26\"],[1.0,\"#f0f921\"]]}],\"choropleth\":[{\"type\":\"choropleth\",\"colorbar\":{\"outlinewidth\":0,\"ticks\":\"\"}}],\"histogram2d\":[{\"type\":\"histogram2d\",\"colorbar\":{\"outlinewidth\":0,\"ticks\":\"\"},\"colorscale\":[[0.0,\"#0d0887\"],[0.1111111111111111,\"#46039f\"],[0.2222222222222222,\"#7201a8\"],[0.3333333333333333,\"#9c179e\"],[0.4444444444444444,\"#bd3786\"],[0.5555555555555556,\"#d8576b\"],[0.6666666666666666,\"#ed7953\"],[0.7777777777777778,\"#fb9f3a\"],[0.8888888888888888,\"#fdca26\"],[1.0,\"#f0f921\"]]}],\"heatmap\":[{\"type\":\"heatmap\",\"colorbar\":{\"outlinewidth\":0,\"ticks\":\"\"},\"colorscale\":[[0.0,\"#0d0887\"],[0.1111111111111111,\"#46039f\"],[0.2222222222222222,\"#7201a8\"],[0.3333333333333333,\"#9c179e\"],[0.4444444444444444,\"#bd3786\"],[0.5555555555555556,\"#d8576b\"],[0.6666666666666666,\"#ed7953\"],[0.7777777777777778,\"#fb9f3a\"],[0.8888888888888888,\"#fdca26\"],[1.0,\"#f0f921\"]]}],\"heatmapgl\":[{\"type\":\"heatmapgl\",\"colorbar\":{\"outlinewidth\":0,\"ticks\":\"\"},\"colorscale\":[[0.0,\"#0d0887\"],[0.1111111111111111,\"#46039f\"],[0.2222222222222222,\"#7201a8\"],[0.3333333333333333,\"#9c179e\"],[0.4444444444444444,\"#bd3786\"],[0.5555555555555556,\"#d8576b\"],[0.6666666666666666,\"#ed7953\"],[0.7777777777777778,\"#fb9f3a\"],[0.8888888888888888,\"#fdca26\"],[1.0,\"#f0f921\"]]}],\"contourcarpet\":[{\"type\":\"contourcarpet\",\"colorbar\":{\"outlinewidth\":0,\"ticks\":\"\"}}],\"contour\":[{\"type\":\"contour\",\"colorbar\":{\"outlinewidth\":0,\"ticks\":\"\"},\"colorscale\":[[0.0,\"#0d0887\"],[0.1111111111111111,\"#46039f\"],[0.2222222222222222,\"#7201a8\"],[0.3333333333333333,\"#9c179e\"],[0.4444444444444444,\"#bd3786\"],[0.5555555555555556,\"#d8576b\"],[0.6666666666666666,\"#ed7953\"],[0.7777777777777778,\"#fb9f3a\"],[0.8888888888888888,\"#fdca26\"],[1.0,\"#f0f921\"]]}],\"surface\":[{\"type\":\"surface\",\"colorbar\":{\"outlinewidth\":0,\"ticks\":\"\"},\"colorscale\":[[0.0,\"#0d0887\"],[0.1111111111111111,\"#46039f\"],[0.2222222222222222,\"#7201a8\"],[0.3333333333333333,\"#9c179e\"],[0.4444444444444444,\"#bd3786\"],[0.5555555555555556,\"#d8576b\"],[0.6666666666666666,\"#ed7953\"],[0.7777777777777778,\"#fb9f3a\"],[0.8888888888888888,\"#fdca26\"],[1.0,\"#f0f921\"]]}],\"mesh3d\":[{\"type\":\"mesh3d\",\"colorbar\":{\"outlinewidth\":0,\"ticks\":\"\"}}],\"scatter\":[{\"fillpattern\":{\"fillmode\":\"overlay\",\"size\":10,\"solidity\":0.2},\"type\":\"scatter\"}],\"parcoords\":[{\"type\":\"parcoords\",\"line\":{\"colorbar\":{\"outlinewidth\":0,\"ticks\":\"\"}}}],\"scatterpolargl\":[{\"type\":\"scatterpolargl\",\"marker\":{\"colorbar\":{\"outlinewidth\":0,\"ticks\":\"\"}}}],\"bar\":[{\"error_x\":{\"color\":\"#2a3f5f\"},\"error_y\":{\"color\":\"#2a3f5f\"},\"marker\":{\"line\":{\"color\":\"#E5ECF6\",\"width\":0.5},\"pattern\":{\"fillmode\":\"overlay\",\"size\":10,\"solidity\":0.2}},\"type\":\"bar\"}],\"scattergeo\":[{\"type\":\"scattergeo\",\"marker\":{\"colorbar\":{\"outlinewidth\":0,\"ticks\":\"\"}}}],\"scatterpolar\":[{\"type\":\"scatterpolar\",\"marker\":{\"colorbar\":{\"outlinewidth\":0,\"ticks\":\"\"}}}],\"histogram\":[{\"marker\":{\"pattern\":{\"fillmode\":\"overlay\",\"size\":10,\"solidity\":0.2}},\"type\":\"histogram\"}],\"scattergl\":[{\"type\":\"scattergl\",\"marker\":{\"colorbar\":{\"outlinewidth\":0,\"ticks\":\"\"}}}],\"scatter3d\":[{\"type\":\"scatter3d\",\"line\":{\"colorbar\":{\"outlinewidth\":0,\"ticks\":\"\"}},\"marker\":{\"colorbar\":{\"outlinewidth\":0,\"ticks\":\"\"}}}],\"scattermapbox\":[{\"type\":\"scattermapbox\",\"marker\":{\"colorbar\":{\"outlinewidth\":0,\"ticks\":\"\"}}}],\"scatterternary\":[{\"type\":\"scatterternary\",\"marker\":{\"colorbar\":{\"outlinewidth\":0,\"ticks\":\"\"}}}],\"scattercarpet\":[{\"type\":\"scattercarpet\",\"marker\":{\"colorbar\":{\"outlinewidth\":0,\"ticks\":\"\"}}}],\"carpet\":[{\"aaxis\":{\"endlinecolor\":\"#2a3f5f\",\"gridcolor\":\"white\",\"linecolor\":\"white\",\"minorgridcolor\":\"white\",\"startlinecolor\":\"#2a3f5f\"},\"baxis\":{\"endlinecolor\":\"#2a3f5f\",\"gridcolor\":\"white\",\"linecolor\":\"white\",\"minorgridcolor\":\"white\",\"startlinecolor\":\"#2a3f5f\"},\"type\":\"carpet\"}],\"table\":[{\"cells\":{\"fill\":{\"color\":\"#EBF0F8\"},\"line\":{\"color\":\"white\"}},\"header\":{\"fill\":{\"color\":\"#C8D4E3\"},\"line\":{\"color\":\"white\"}},\"type\":\"table\"}],\"barpolar\":[{\"marker\":{\"line\":{\"color\":\"#E5ECF6\",\"width\":0.5},\"pattern\":{\"fillmode\":\"overlay\",\"size\":10,\"solidity\":0.2}},\"type\":\"barpolar\"}],\"pie\":[{\"automargin\":true,\"type\":\"pie\"}]},\"layout\":{\"autotypenumbers\":\"strict\",\"colorway\":[\"#636efa\",\"#EF553B\",\"#00cc96\",\"#ab63fa\",\"#FFA15A\",\"#19d3f3\",\"#FF6692\",\"#B6E880\",\"#FF97FF\",\"#FECB52\"],\"font\":{\"color\":\"#2a3f5f\"},\"hovermode\":\"closest\",\"hoverlabel\":{\"align\":\"left\"},\"paper_bgcolor\":\"white\",\"plot_bgcolor\":\"#E5ECF6\",\"polar\":{\"bgcolor\":\"#E5ECF6\",\"angularaxis\":{\"gridcolor\":\"white\",\"linecolor\":\"white\",\"ticks\":\"\"},\"radialaxis\":{\"gridcolor\":\"white\",\"linecolor\":\"white\",\"ticks\":\"\"}},\"ternary\":{\"bgcolor\":\"#E5ECF6\",\"aaxis\":{\"gridcolor\":\"white\",\"linecolor\":\"white\",\"ticks\":\"\"},\"baxis\":{\"gridcolor\":\"white\",\"linecolor\":\"white\",\"ticks\":\"\"},\"caxis\":{\"gridcolor\":\"white\",\"linecolor\":\"white\",\"ticks\":\"\"}},\"coloraxis\":{\"colorbar\":{\"outlinewidth\":0,\"ticks\":\"\"}},\"colorscale\":{\"sequential\":[[0.0,\"#0d0887\"],[0.1111111111111111,\"#46039f\"],[0.2222222222222222,\"#7201a8\"],[0.3333333333333333,\"#9c179e\"],[0.4444444444444444,\"#bd3786\"],[0.5555555555555556,\"#d8576b\"],[0.6666666666666666,\"#ed7953\"],[0.7777777777777778,\"#fb9f3a\"],[0.8888888888888888,\"#fdca26\"],[1.0,\"#f0f921\"]],\"sequentialminus\":[[0.0,\"#0d0887\"],[0.1111111111111111,\"#46039f\"],[0.2222222222222222,\"#7201a8\"],[0.3333333333333333,\"#9c179e\"],[0.4444444444444444,\"#bd3786\"],[0.5555555555555556,\"#d8576b\"],[0.6666666666666666,\"#ed7953\"],[0.7777777777777778,\"#fb9f3a\"],[0.8888888888888888,\"#fdca26\"],[1.0,\"#f0f921\"]],\"diverging\":[[0,\"#8e0152\"],[0.1,\"#c51b7d\"],[0.2,\"#de77ae\"],[0.3,\"#f1b6da\"],[0.4,\"#fde0ef\"],[0.5,\"#f7f7f7\"],[0.6,\"#e6f5d0\"],[0.7,\"#b8e186\"],[0.8,\"#7fbc41\"],[0.9,\"#4d9221\"],[1,\"#276419\"]]},\"xaxis\":{\"gridcolor\":\"white\",\"linecolor\":\"white\",\"ticks\":\"\",\"title\":{\"standoff\":15},\"zerolinecolor\":\"white\",\"automargin\":true,\"zerolinewidth\":2},\"yaxis\":{\"gridcolor\":\"white\",\"linecolor\":\"white\",\"ticks\":\"\",\"title\":{\"standoff\":15},\"zerolinecolor\":\"white\",\"automargin\":true,\"zerolinewidth\":2},\"scene\":{\"xaxis\":{\"backgroundcolor\":\"#E5ECF6\",\"gridcolor\":\"white\",\"linecolor\":\"white\",\"showbackground\":true,\"ticks\":\"\",\"zerolinecolor\":\"white\",\"gridwidth\":2},\"yaxis\":{\"backgroundcolor\":\"#E5ECF6\",\"gridcolor\":\"white\",\"linecolor\":\"white\",\"showbackground\":true,\"ticks\":\"\",\"zerolinecolor\":\"white\",\"gridwidth\":2},\"zaxis\":{\"backgroundcolor\":\"#E5ECF6\",\"gridcolor\":\"white\",\"linecolor\":\"white\",\"showbackground\":true,\"ticks\":\"\",\"zerolinecolor\":\"white\",\"gridwidth\":2}},\"shapedefaults\":{\"line\":{\"color\":\"#2a3f5f\"}},\"annotationdefaults\":{\"arrowcolor\":\"#2a3f5f\",\"arrowhead\":0,\"arrowwidth\":1},\"geo\":{\"bgcolor\":\"white\",\"landcolor\":\"#E5ECF6\",\"subunitcolor\":\"white\",\"showland\":true,\"showlakes\":true,\"lakecolor\":\"white\"},\"title\":{\"x\":0.05},\"mapbox\":{\"style\":\"light\"}}},\"xaxis\":{\"anchor\":\"y\",\"domain\":[0.0,1.0],\"title\":{\"text\":\"Population\"}},\"yaxis\":{\"anchor\":\"x\",\"domain\":[0.0,1.0],\"title\":{\"text\":\"count\"}},\"legend\":{\"tracegroupgap\":0},\"margin\":{\"t\":60},\"barmode\":\"relative\"},                        {\"responsive\": true}                    ).then(function(){\n",
       "                            \n",
       "var gd = document.getElementById('da5a1510-f830-427c-822c-a904338e479e');\n",
       "var x = new MutationObserver(function (mutations, observer) {{\n",
       "        var display = window.getComputedStyle(gd).display;\n",
       "        if (!display || display === 'none') {{\n",
       "            console.log([gd, 'removed!']);\n",
       "            Plotly.purge(gd);\n",
       "            observer.disconnect();\n",
       "        }}\n",
       "}});\n",
       "\n",
       "// Listen for the removal of the full notebook cells\n",
       "var notebookContainer = gd.closest('#notebook-container');\n",
       "if (notebookContainer) {{\n",
       "    x.observe(notebookContainer, {childList: true});\n",
       "}}\n",
       "\n",
       "// Listen for the clearing of the current output cell\n",
       "var outputEl = gd.closest('.output');\n",
       "if (outputEl) {{\n",
       "    x.observe(outputEl, {childList: true});\n",
       "}}\n",
       "\n",
       "                        })                };                });            </script>        </div>"
      ]
     },
     "metadata": {},
     "output_type": "display_data"
    }
   ],
   "source": [
    "px.histogram(df, x=\"Population\")"
   ]
  },
  {
   "cell_type": "markdown",
   "id": "2e86e0dd",
   "metadata": {
    "papermill": {
     "duration": 0.014473,
     "end_time": "2023-01-16T10:47:29.926225",
     "exception": false,
     "start_time": "2023-01-16T10:47:29.911752",
     "status": "completed"
    },
    "tags": []
   },
   "source": [
    "Our histogram is extremely skewed due to a few large countries which reduces the readabilty of our chart. Lets go ahead and reset the X axis to show countries with a relatively smaller population"
   ]
  },
  {
   "cell_type": "code",
   "execution_count": 7,
   "id": "3bc4ac9b",
   "metadata": {
    "execution": {
     "iopub.execute_input": "2023-01-16T10:47:29.959765Z",
     "iopub.status.busy": "2023-01-16T10:47:29.958941Z",
     "iopub.status.idle": "2023-01-16T10:47:30.024087Z",
     "shell.execute_reply": "2023-01-16T10:47:30.023038Z"
    },
    "papermill": {
     "duration": 0.084868,
     "end_time": "2023-01-16T10:47:30.027016",
     "exception": false,
     "start_time": "2023-01-16T10:47:29.942148",
     "status": "completed"
    },
    "tags": []
   },
   "outputs": [
    {
     "data": {
      "text/html": [
       "<div>                            <div id=\"b6eaa4aa-cfd6-4afc-b68e-d948068e287e\" class=\"plotly-graph-div\" style=\"height:525px; width:100%;\"></div>            <script type=\"text/javascript\">                require([\"plotly\"], function(Plotly) {                    window.PLOTLYENV=window.PLOTLYENV || {};                                    if (document.getElementById(\"b6eaa4aa-cfd6-4afc-b68e-d948068e287e\")) {                    Plotly.newPlot(                        \"b6eaa4aa-cfd6-4afc-b68e-d948068e287e\",                        [{\"alignmentgroup\":\"True\",\"bingroup\":\"x\",\"hovertemplate\":\"Population=%{x}<br>count=%{y}<extra></extra>\",\"legendgroup\":\"\",\"marker\":{\"color\":\"#636efa\",\"pattern\":{\"shape\":\"\"}},\"name\":\"\",\"offsetgroup\":\"\",\"orientation\":\"v\",\"showlegend\":false,\"x\":[31056997,3581655,32930091,57794,71201,12127071,13477,69108,39921833,2976372,71891,20264082,8192880,7961619,303770,698585,147365352,279912,10293011,10379067,287730,7862944,65773,2279723,8989046,4498976,1639833,188078227,23098,379444,7385367,13902972,47382633,8090068,13881427,17340702,33098932,420979,45436,4303356,9944201,16134219,43593035,690948,62660551,3702314,21388,4075261,17654843,4494749,11382820,784301,10235455,5450661,486530,68910,9183984,1062777,13547510,78887007,6822378,540109,4786994,1324333,74777981,47246,905949,5231372,60876136,199509,274578,1424906,1641564,1428757,4661473,82422299,22409572,27928,10688058,56361,89703,452776,171019,12293545,65409,9690222,1442029,767245,8308504,7326496,6940432,9981334,299388,245452739,68688433,26783383,4062235,75441,6352117,58133509,2758124,127463611,91084,5906760,15233244,34707817,105432,23113019,48846823,2418393,5213898,6368481,2274735,3874050,2022331,3042004,5900754,33987,3585906,474413,453125,2050554,18595469,13013926,24385858,359008,11716829,400214,60422,436131,3177388,1240827,201234,107449525,108004,4466706,32543,2832224,9439,33241259,19686505,2044147,13287,28287147,16491461,221736,219246,4076140,5570129,12525094,131859731,82459,4610820,3102229,165803560,20579,3191319,5670544,6506464,28302603,89468677,38536869,10605870,3927188,885359,787584,22303552,142893540,8648248,7502,39129,168458,7026,117848,176908,29251,193413,27019731,11987121,9396411,81541,6005250,4492150,5439448,2010347,552438,8863338,44187637,40397842,20222240,41236378,439117,1136334,9016596,7523934,18881361,23036087,7320815,37445392,64631595,5548702,114689,1065842,10175014,70413958,5042920,21152,11810,28195754,46710816,2602713,60609153,298444215,3431932,27307134,208869,25730435,84402966,108605,16025,2460492,273008,21456188,11502010,12236805],\"xaxis\":\"x\",\"yaxis\":\"y\",\"type\":\"histogram\"}],                        {\"template\":{\"data\":{\"histogram2dcontour\":[{\"type\":\"histogram2dcontour\",\"colorbar\":{\"outlinewidth\":0,\"ticks\":\"\"},\"colorscale\":[[0.0,\"#0d0887\"],[0.1111111111111111,\"#46039f\"],[0.2222222222222222,\"#7201a8\"],[0.3333333333333333,\"#9c179e\"],[0.4444444444444444,\"#bd3786\"],[0.5555555555555556,\"#d8576b\"],[0.6666666666666666,\"#ed7953\"],[0.7777777777777778,\"#fb9f3a\"],[0.8888888888888888,\"#fdca26\"],[1.0,\"#f0f921\"]]}],\"choropleth\":[{\"type\":\"choropleth\",\"colorbar\":{\"outlinewidth\":0,\"ticks\":\"\"}}],\"histogram2d\":[{\"type\":\"histogram2d\",\"colorbar\":{\"outlinewidth\":0,\"ticks\":\"\"},\"colorscale\":[[0.0,\"#0d0887\"],[0.1111111111111111,\"#46039f\"],[0.2222222222222222,\"#7201a8\"],[0.3333333333333333,\"#9c179e\"],[0.4444444444444444,\"#bd3786\"],[0.5555555555555556,\"#d8576b\"],[0.6666666666666666,\"#ed7953\"],[0.7777777777777778,\"#fb9f3a\"],[0.8888888888888888,\"#fdca26\"],[1.0,\"#f0f921\"]]}],\"heatmap\":[{\"type\":\"heatmap\",\"colorbar\":{\"outlinewidth\":0,\"ticks\":\"\"},\"colorscale\":[[0.0,\"#0d0887\"],[0.1111111111111111,\"#46039f\"],[0.2222222222222222,\"#7201a8\"],[0.3333333333333333,\"#9c179e\"],[0.4444444444444444,\"#bd3786\"],[0.5555555555555556,\"#d8576b\"],[0.6666666666666666,\"#ed7953\"],[0.7777777777777778,\"#fb9f3a\"],[0.8888888888888888,\"#fdca26\"],[1.0,\"#f0f921\"]]}],\"heatmapgl\":[{\"type\":\"heatmapgl\",\"colorbar\":{\"outlinewidth\":0,\"ticks\":\"\"},\"colorscale\":[[0.0,\"#0d0887\"],[0.1111111111111111,\"#46039f\"],[0.2222222222222222,\"#7201a8\"],[0.3333333333333333,\"#9c179e\"],[0.4444444444444444,\"#bd3786\"],[0.5555555555555556,\"#d8576b\"],[0.6666666666666666,\"#ed7953\"],[0.7777777777777778,\"#fb9f3a\"],[0.8888888888888888,\"#fdca26\"],[1.0,\"#f0f921\"]]}],\"contourcarpet\":[{\"type\":\"contourcarpet\",\"colorbar\":{\"outlinewidth\":0,\"ticks\":\"\"}}],\"contour\":[{\"type\":\"contour\",\"colorbar\":{\"outlinewidth\":0,\"ticks\":\"\"},\"colorscale\":[[0.0,\"#0d0887\"],[0.1111111111111111,\"#46039f\"],[0.2222222222222222,\"#7201a8\"],[0.3333333333333333,\"#9c179e\"],[0.4444444444444444,\"#bd3786\"],[0.5555555555555556,\"#d8576b\"],[0.6666666666666666,\"#ed7953\"],[0.7777777777777778,\"#fb9f3a\"],[0.8888888888888888,\"#fdca26\"],[1.0,\"#f0f921\"]]}],\"surface\":[{\"type\":\"surface\",\"colorbar\":{\"outlinewidth\":0,\"ticks\":\"\"},\"colorscale\":[[0.0,\"#0d0887\"],[0.1111111111111111,\"#46039f\"],[0.2222222222222222,\"#7201a8\"],[0.3333333333333333,\"#9c179e\"],[0.4444444444444444,\"#bd3786\"],[0.5555555555555556,\"#d8576b\"],[0.6666666666666666,\"#ed7953\"],[0.7777777777777778,\"#fb9f3a\"],[0.8888888888888888,\"#fdca26\"],[1.0,\"#f0f921\"]]}],\"mesh3d\":[{\"type\":\"mesh3d\",\"colorbar\":{\"outlinewidth\":0,\"ticks\":\"\"}}],\"scatter\":[{\"fillpattern\":{\"fillmode\":\"overlay\",\"size\":10,\"solidity\":0.2},\"type\":\"scatter\"}],\"parcoords\":[{\"type\":\"parcoords\",\"line\":{\"colorbar\":{\"outlinewidth\":0,\"ticks\":\"\"}}}],\"scatterpolargl\":[{\"type\":\"scatterpolargl\",\"marker\":{\"colorbar\":{\"outlinewidth\":0,\"ticks\":\"\"}}}],\"bar\":[{\"error_x\":{\"color\":\"#2a3f5f\"},\"error_y\":{\"color\":\"#2a3f5f\"},\"marker\":{\"line\":{\"color\":\"#E5ECF6\",\"width\":0.5},\"pattern\":{\"fillmode\":\"overlay\",\"size\":10,\"solidity\":0.2}},\"type\":\"bar\"}],\"scattergeo\":[{\"type\":\"scattergeo\",\"marker\":{\"colorbar\":{\"outlinewidth\":0,\"ticks\":\"\"}}}],\"scatterpolar\":[{\"type\":\"scatterpolar\",\"marker\":{\"colorbar\":{\"outlinewidth\":0,\"ticks\":\"\"}}}],\"histogram\":[{\"marker\":{\"pattern\":{\"fillmode\":\"overlay\",\"size\":10,\"solidity\":0.2}},\"type\":\"histogram\"}],\"scattergl\":[{\"type\":\"scattergl\",\"marker\":{\"colorbar\":{\"outlinewidth\":0,\"ticks\":\"\"}}}],\"scatter3d\":[{\"type\":\"scatter3d\",\"line\":{\"colorbar\":{\"outlinewidth\":0,\"ticks\":\"\"}},\"marker\":{\"colorbar\":{\"outlinewidth\":0,\"ticks\":\"\"}}}],\"scattermapbox\":[{\"type\":\"scattermapbox\",\"marker\":{\"colorbar\":{\"outlinewidth\":0,\"ticks\":\"\"}}}],\"scatterternary\":[{\"type\":\"scatterternary\",\"marker\":{\"colorbar\":{\"outlinewidth\":0,\"ticks\":\"\"}}}],\"scattercarpet\":[{\"type\":\"scattercarpet\",\"marker\":{\"colorbar\":{\"outlinewidth\":0,\"ticks\":\"\"}}}],\"carpet\":[{\"aaxis\":{\"endlinecolor\":\"#2a3f5f\",\"gridcolor\":\"white\",\"linecolor\":\"white\",\"minorgridcolor\":\"white\",\"startlinecolor\":\"#2a3f5f\"},\"baxis\":{\"endlinecolor\":\"#2a3f5f\",\"gridcolor\":\"white\",\"linecolor\":\"white\",\"minorgridcolor\":\"white\",\"startlinecolor\":\"#2a3f5f\"},\"type\":\"carpet\"}],\"table\":[{\"cells\":{\"fill\":{\"color\":\"#EBF0F8\"},\"line\":{\"color\":\"white\"}},\"header\":{\"fill\":{\"color\":\"#C8D4E3\"},\"line\":{\"color\":\"white\"}},\"type\":\"table\"}],\"barpolar\":[{\"marker\":{\"line\":{\"color\":\"#E5ECF6\",\"width\":0.5},\"pattern\":{\"fillmode\":\"overlay\",\"size\":10,\"solidity\":0.2}},\"type\":\"barpolar\"}],\"pie\":[{\"automargin\":true,\"type\":\"pie\"}]},\"layout\":{\"autotypenumbers\":\"strict\",\"colorway\":[\"#636efa\",\"#EF553B\",\"#00cc96\",\"#ab63fa\",\"#FFA15A\",\"#19d3f3\",\"#FF6692\",\"#B6E880\",\"#FF97FF\",\"#FECB52\"],\"font\":{\"color\":\"#2a3f5f\"},\"hovermode\":\"closest\",\"hoverlabel\":{\"align\":\"left\"},\"paper_bgcolor\":\"white\",\"plot_bgcolor\":\"#E5ECF6\",\"polar\":{\"bgcolor\":\"#E5ECF6\",\"angularaxis\":{\"gridcolor\":\"white\",\"linecolor\":\"white\",\"ticks\":\"\"},\"radialaxis\":{\"gridcolor\":\"white\",\"linecolor\":\"white\",\"ticks\":\"\"}},\"ternary\":{\"bgcolor\":\"#E5ECF6\",\"aaxis\":{\"gridcolor\":\"white\",\"linecolor\":\"white\",\"ticks\":\"\"},\"baxis\":{\"gridcolor\":\"white\",\"linecolor\":\"white\",\"ticks\":\"\"},\"caxis\":{\"gridcolor\":\"white\",\"linecolor\":\"white\",\"ticks\":\"\"}},\"coloraxis\":{\"colorbar\":{\"outlinewidth\":0,\"ticks\":\"\"}},\"colorscale\":{\"sequential\":[[0.0,\"#0d0887\"],[0.1111111111111111,\"#46039f\"],[0.2222222222222222,\"#7201a8\"],[0.3333333333333333,\"#9c179e\"],[0.4444444444444444,\"#bd3786\"],[0.5555555555555556,\"#d8576b\"],[0.6666666666666666,\"#ed7953\"],[0.7777777777777778,\"#fb9f3a\"],[0.8888888888888888,\"#fdca26\"],[1.0,\"#f0f921\"]],\"sequentialminus\":[[0.0,\"#0d0887\"],[0.1111111111111111,\"#46039f\"],[0.2222222222222222,\"#7201a8\"],[0.3333333333333333,\"#9c179e\"],[0.4444444444444444,\"#bd3786\"],[0.5555555555555556,\"#d8576b\"],[0.6666666666666666,\"#ed7953\"],[0.7777777777777778,\"#fb9f3a\"],[0.8888888888888888,\"#fdca26\"],[1.0,\"#f0f921\"]],\"diverging\":[[0,\"#8e0152\"],[0.1,\"#c51b7d\"],[0.2,\"#de77ae\"],[0.3,\"#f1b6da\"],[0.4,\"#fde0ef\"],[0.5,\"#f7f7f7\"],[0.6,\"#e6f5d0\"],[0.7,\"#b8e186\"],[0.8,\"#7fbc41\"],[0.9,\"#4d9221\"],[1,\"#276419\"]]},\"xaxis\":{\"gridcolor\":\"white\",\"linecolor\":\"white\",\"ticks\":\"\",\"title\":{\"standoff\":15},\"zerolinecolor\":\"white\",\"automargin\":true,\"zerolinewidth\":2},\"yaxis\":{\"gridcolor\":\"white\",\"linecolor\":\"white\",\"ticks\":\"\",\"title\":{\"standoff\":15},\"zerolinecolor\":\"white\",\"automargin\":true,\"zerolinewidth\":2},\"scene\":{\"xaxis\":{\"backgroundcolor\":\"#E5ECF6\",\"gridcolor\":\"white\",\"linecolor\":\"white\",\"showbackground\":true,\"ticks\":\"\",\"zerolinecolor\":\"white\",\"gridwidth\":2},\"yaxis\":{\"backgroundcolor\":\"#E5ECF6\",\"gridcolor\":\"white\",\"linecolor\":\"white\",\"showbackground\":true,\"ticks\":\"\",\"zerolinecolor\":\"white\",\"gridwidth\":2},\"zaxis\":{\"backgroundcolor\":\"#E5ECF6\",\"gridcolor\":\"white\",\"linecolor\":\"white\",\"showbackground\":true,\"ticks\":\"\",\"zerolinecolor\":\"white\",\"gridwidth\":2}},\"shapedefaults\":{\"line\":{\"color\":\"#2a3f5f\"}},\"annotationdefaults\":{\"arrowcolor\":\"#2a3f5f\",\"arrowhead\":0,\"arrowwidth\":1},\"geo\":{\"bgcolor\":\"white\",\"landcolor\":\"#E5ECF6\",\"subunitcolor\":\"white\",\"showland\":true,\"showlakes\":true,\"lakecolor\":\"white\"},\"title\":{\"x\":0.05},\"mapbox\":{\"style\":\"light\"}}},\"xaxis\":{\"anchor\":\"y\",\"domain\":[0.0,1.0],\"title\":{\"text\":\"Population\"}},\"yaxis\":{\"anchor\":\"x\",\"domain\":[0.0,1.0],\"title\":{\"text\":\"count\"}},\"legend\":{\"tracegroupgap\":0},\"margin\":{\"t\":60},\"barmode\":\"relative\"},                        {\"responsive\": true}                    ).then(function(){\n",
       "                            \n",
       "var gd = document.getElementById('b6eaa4aa-cfd6-4afc-b68e-d948068e287e');\n",
       "var x = new MutationObserver(function (mutations, observer) {{\n",
       "        var display = window.getComputedStyle(gd).display;\n",
       "        if (!display || display === 'none') {{\n",
       "            console.log([gd, 'removed!']);\n",
       "            Plotly.purge(gd);\n",
       "            observer.disconnect();\n",
       "        }}\n",
       "}});\n",
       "\n",
       "// Listen for the removal of the full notebook cells\n",
       "var notebookContainer = gd.closest('#notebook-container');\n",
       "if (notebookContainer) {{\n",
       "    x.observe(notebookContainer, {childList: true});\n",
       "}}\n",
       "\n",
       "// Listen for the clearing of the current output cell\n",
       "var outputEl = gd.closest('.output');\n",
       "if (outputEl) {{\n",
       "    x.observe(outputEl, {childList: true});\n",
       "}}\n",
       "\n",
       "                        })                };                });            </script>        </div>"
      ]
     },
     "metadata": {},
     "output_type": "display_data"
    }
   ],
   "source": [
    "px.histogram(df[df['Population']<500000000],x='Population')"
   ]
  },
  {
   "cell_type": "markdown",
   "id": "ee39b810",
   "metadata": {
    "papermill": {
     "duration": 0.01534,
     "end_time": "2023-01-16T10:47:30.056910",
     "exception": false,
     "start_time": "2023-01-16T10:47:30.041570",
     "status": "completed"
    },
    "tags": []
   },
   "source": [
    "Now lets explore the GDP of the various different regions and see which ones are extremely high or low."
   ]
  },
  {
   "cell_type": "markdown",
   "id": "3e544be7",
   "metadata": {
    "papermill": {
     "duration": 0.013658,
     "end_time": "2023-01-16T10:47:30.086151",
     "exception": false,
     "start_time": "2023-01-16T10:47:30.072493",
     "status": "completed"
    },
    "tags": []
   },
   "source": [
    "North America has an extremely large deviation mainly because of the presence of USA which is single handedly changing the mean. Hence it is responisble for the variations. The Sub-Saharan regions seem to have a really low GDP unsurprisingly, considering how they have small imports and exports."
   ]
  },
  {
   "cell_type": "code",
   "execution_count": 8,
   "id": "1e72a119",
   "metadata": {
    "execution": {
     "iopub.execute_input": "2023-01-16T10:47:30.116241Z",
     "iopub.status.busy": "2023-01-16T10:47:30.115383Z",
     "iopub.status.idle": "2023-01-16T10:47:31.001697Z",
     "shell.execute_reply": "2023-01-16T10:47:31.000561Z"
    },
    "papermill": {
     "duration": 0.904923,
     "end_time": "2023-01-16T10:47:31.004869",
     "exception": false,
     "start_time": "2023-01-16T10:47:30.099946",
     "status": "completed"
    },
    "tags": []
   },
   "outputs": [
    {
     "data": {
      "image/png": "[encoded data removed]",
      "text/plain": [
       "<Figure size 2000x1200 with 1 Axes>"
      ]
     },
     "metadata": {
      "needs_background": "light"
     },
     "output_type": "display_data"
    }
   ],
   "source": [
    "plt.figure(figsize=(10,6),dpi=200)\n",
    "sns.barplot(data=df,y='GDP ($ per capita)',x='Region',estimator=np.mean)\n",
    "plt.xticks(rotation=90);\n"
   ]
  },
  {
   "cell_type": "markdown",
   "id": "7620c12c",
   "metadata": {
    "papermill": {
     "duration": 0.016255,
     "end_time": "2023-01-16T10:47:31.037547",
     "exception": false,
     "start_time": "2023-01-16T10:47:31.021292",
     "status": "completed"
    },
    "tags": []
   },
   "source": [
    "Looking at the number of phones per 1000 people, we notice that it increases with the regions as the GDP increaes. As more and more people have greater wealth in a high GDP nation, they typically tend to have more  devices."
   ]
  },
  {
   "cell_type": "code",
   "execution_count": 9,
   "id": "68e18e02",
   "metadata": {
    "execution": {
     "iopub.execute_input": "2023-01-16T10:47:31.070872Z",
     "iopub.status.busy": "2023-01-16T10:47:31.070387Z",
     "iopub.status.idle": "2023-01-16T10:47:31.207939Z",
     "shell.execute_reply": "2023-01-16T10:47:31.206621Z"
    },
    "papermill": {
     "duration": 0.158025,
     "end_time": "2023-01-16T10:47:31.211007",
     "exception": false,
     "start_time": "2023-01-16T10:47:31.052982",
     "status": "completed"
    },
    "tags": []
   },
   "outputs": [
    {
     "data": {
      "text/html": [
       "<div>                            <div id=\"5d23e66b-d1d7-482e-9552-5e0263efb7f9\" class=\"plotly-graph-div\" style=\"height:525px; width:100%;\"></div>            <script type=\"text/javascript\">                require([\"plotly\"], function(Plotly) {                    window.PLOTLYENV=window.PLOTLYENV || {};                                    if (document.getElementById(\"5d23e66b-d1d7-482e-9552-5e0263efb7f9\")) {                    Plotly.newPlot(                        \"5d23e66b-d1d7-482e-9552-5e0263efb7f9\",                        [{\"hovertemplate\":\"Region=ASIA (EX. NEAR EAST)         <br>GDP ($ per capita)=%{x}<br>Phones (per 1000)=%{y}<extra></extra>\",\"legendgroup\":\"ASIA (EX. NEAR EAST)         \",\"marker\":{\"color\":\"#636efa\",\"symbol\":\"circle\"},\"mode\":\"markers\",\"name\":\"ASIA (EX. NEAR EAST)         \",\"orientation\":\"v\",\"showlegend\":true,\"x\":[700.0,1900.0,1300.0,18600.0,1800.0,1900.0,5000.0,500.0,28800.0,2900.0,3200.0,7000.0,28200.0,1300.0,17800.0,1700.0,19400.0,9000.0,3900.0,1800.0,1400.0,2100.0,4600.0,23700.0,3700.0,23400.0,7400.0,2500.0],\"xaxis\":\"x\",\"y\":[3.2,7.3,14.3,237.2,10.1,2.6,266.7,null,546.7,45.4,52.0,276.4,461.2,42.4,486.1,14.1,384.9,179.0,90.0,55.1,15.9,31.8,38.4,411.4,61.5,591.0,108.9,187.7],\"yaxis\":\"y\",\"type\":\"scatter\"},{\"hovertemplate\":\"Region=EASTERN EUROPE                     <br>GDP ($ per capita)=%{x}<br>Phones (per 1000)=%{y}<extra></extra>\",\"legendgroup\":\"EASTERN EUROPE                     \",\"marker\":{\"color\":\"#EF553B\",\"symbol\":\"circle\"},\"mode\":\"markers\",\"name\":\"EASTERN EUROPE                     \",\"orientation\":\"v\",\"showlegend\":true,\"x\":[4500.0,6100.0,7600.0,10600.0,15700.0,13900.0,6700.0,11100.0,7000.0,2200.0,13300.0,19000.0],\"xaxis\":\"x\",\"y\":[71.2,215.4,336.3,420.4,314.3,336.2,260.0,306.3,196.9,285.8,220.1,406.1],\"yaxis\":\"y\",\"type\":\"scatter\"},{\"hovertemplate\":\"Region=NORTHERN AFRICA                    <br>GDP ($ per capita)=%{x}<br>Phones (per 1000)=%{y}<extra></extra>\",\"legendgroup\":\"NORTHERN AFRICA                    \",\"marker\":{\"color\":\"#00cc96\",\"symbol\":\"circle\"},\"mode\":\"markers\",\"name\":\"NORTHERN AFRICA                    \",\"orientation\":\"v\",\"showlegend\":true,\"x\":[6000.0,4000.0,6400.0,4000.0,6900.0,null],\"xaxis\":\"x\",\"y\":[78.1,131.8,127.1,40.4,123.6,null],\"yaxis\":\"y\",\"type\":\"scatter\"},{\"hovertemplate\":\"Region=OCEANIA                            <br>GDP ($ per capita)=%{x}<br>Phones (per 1000)=%{y}<extra></extra>\",\"legendgroup\":\"OCEANIA                            \",\"marker\":{\"color\":\"#ab63fa\",\"symbol\":\"circle\"},\"mode\":\"markers\",\"name\":\"OCEANIA                            \",\"orientation\":\"v\",\"showlegend\":true,\"x\":[8000.0,29000.0,5000.0,5800.0,17500.0,21000.0,800.0,1600.0,2000.0,5000.0,15000.0,21600.0,12500.0,9000.0,2200.0,5600.0,1700.0,2200.0,1100.0,2900.0,3700.0],\"xaxis\":\"x\",\"y\":[259.5,565.5,289.9,112.6,194.5,492.0,42.7,91.2,114.8,143.0,252.2,441.7,254.7,325.6,10.9,75.2,13.4,97.7,59.3,32.6,118.6],\"yaxis\":\"y\",\"type\":\"scatter\"},{\"hovertemplate\":\"Region=WESTERN EUROPE                     <br>GDP ($ per capita)=%{x}<br>Phones (per 1000)=%{y}<extra></extra>\",\"legendgroup\":\"WESTERN EUROPE                     \",\"marker\":{\"color\":\"#FFA15A\",\"symbol\":\"circle\"},\"mode\":\"markers\",\"name\":\"WESTERN EUROPE                     \",\"orientation\":\"v\",\"showlegend\":true,\"x\":[19000.0,30000.0,29100.0,31100.0,22000.0,27400.0,27600.0,27600.0,17500.0,20000.0,20000.0,30900.0,29600.0,21000.0,26700.0,24800.0,25000.0,55100.0,17700.0,27000.0,28600.0,37800.0,18000.0,34600.0,22000.0,26800.0,32700.0,27700.0],\"xaxis\":\"x\",\"y\":[497.2,452.2,462.6,614.6,503.8,405.3,586.4,667.9,877.7,589.7,842.4,647.7,500.5,676.0,430.9,811.3,585.5,515.4,505.0,1035.6,460.8,461.7,399.2,704.3,453.5,715.0,680.9,543.5],\"yaxis\":\"y\",\"type\":\"scatter\"},{\"hovertemplate\":\"Region=SUB-SAHARAN AFRICA                 <br>GDP ($ per capita)=%{x}<br>Phones (per 1000)=%{y}<extra></extra>\",\"legendgroup\":\"SUB-SAHARAN AFRICA                 \",\"marker\":{\"color\":\"#19d3f3\",\"symbol\":\"circle\"},\"mode\":\"markers\",\"name\":\"SUB-SAHARAN AFRICA                 \",\"orientation\":\"v\",\"showlegend\":true,\"x\":[1900.0,1100.0,9000.0,1100.0,600.0,1800.0,1400.0,1100.0,1200.0,700.0,700.0,700.0,1400.0,1300.0,2700.0,700.0,700.0,5500.0,1700.0,2200.0,2100.0,800.0,1000.0,3000.0,1000.0,800.0,600.0,900.0,1800.0,11400.0,2600.0,1200.0,7200.0,800.0,900.0,5800.0,1300.0,2500.0,1200.0,1600.0,7800.0,500.0,500.0,10700.0,1900.0,4900.0,600.0,1500.0,1400.0,800.0,1900.0],\"xaxis\":\"x\",\"y\":[7.8,9.7,80.5,7.0,3.4,5.7,169.6,2.3,1.3,24.5,0.2,3.7,14.6,22.8,18.5,7.9,8.2,27.4,26.8,14.4,2.7,7.4,8.1,23.7,2.3,3.6,7.9,6.4,12.9,289.3,49.7,3.5,62.6,1.9,9.3,380.9,2.7,293.3,36.2,22.2,262.4,4.0,11.3,107.0,16.3,30.8,4.0,10.6,3.6,8.2,26.8],\"yaxis\":\"y\",\"type\":\"scatter\"},{\"hovertemplate\":\"Region=LATIN AMER. & CARIB    <br>GDP ($ per capita)=%{x}<br>Phones (per 1000)=%{y}<extra></extra>\",\"legendgroup\":\"LATIN AMER. & CARIB    \",\"marker\":{\"color\":\"#FF6692\",\"symbol\":\"circle\"},\"mode\":\"markers\",\"name\":\"LATIN AMER. & CARIB    \",\"orientation\":\"v\",\"showlegend\":true,\"x\":[8600.0,11000.0,11200.0,28000.0,16700.0,15700.0,4900.0,2400.0,7600.0,16000.0,35000.0,9900.0,6300.0,9100.0,2900.0,5400.0,6000.0,3300.0,4800.0,8300.0,5000.0,8000.0,4100.0,4000.0,1600.0,2600.0,3900.0,14400.0,9000.0,3400.0,11400.0,2300.0,6300.0,4700.0,5100.0,16800.0,8800.0,5400.0,2900.0,4000.0,9500.0,9600.0,12800.0,4800.0,17200.0],\"xaxis\":\"x\",\"y\":[460.0,549.9,220.4,516.1,460.6,481.9,115.7,71.9,225.3,506.5,836.3,213.0,176.2,340.7,74.7,304.8,97.4,125.6,142.4,255.6,364.5,463.8,92.1,143.5,16.9,67.5,124.0,394.4,181.6,null,365.3,39.7,137.9,49.2,79.5,283.1,638.9,303.3,190.9,184.7,303.5,269.5,291.4,140.1,652.8],\"yaxis\":\"y\",\"type\":\"scatter\"},{\"hovertemplate\":\"Region=C.W. OF IND. STATES <br>GDP ($ per capita)=%{x}<br>Phones (per 1000)=%{y}<extra></extra>\",\"legendgroup\":\"C.W. OF IND. STATES \",\"marker\":{\"color\":\"#B6E880\",\"symbol\":\"circle\"},\"mode\":\"markers\",\"name\":\"C.W. OF IND. STATES \",\"orientation\":\"v\",\"showlegend\":true,\"x\":[3500.0,3400.0,6100.0,2500.0,6300.0,1600.0,1800.0,8900.0,1000.0,5800.0,5400.0,1700.0],\"xaxis\":\"x\",\"y\":[195.7,137.1,319.1,146.6,164.1,84.0,208.1,280.6,33.5,74.6,259.9,62.9],\"yaxis\":\"y\",\"type\":\"scatter\"},{\"hovertemplate\":\"Region=NEAR EAST                          <br>GDP ($ per capita)=%{x}<br>Phones (per 1000)=%{y}<extra></extra>\",\"legendgroup\":\"NEAR EAST                          \",\"marker\":{\"color\":\"#FF97FF\",\"symbol\":\"circle\"},\"mode\":\"markers\",\"name\":\"NEAR EAST                          \",\"orientation\":\"v\",\"showlegend\":true,\"x\":[16900.0,19200.0,600.0,1500.0,19800.0,4300.0,19000.0,4800.0,13100.0,21500.0,11800.0,3300.0,6700.0,23200.0,800.0,800.0],\"xaxis\":\"x\",\"y\":[281.3,null,244.3,38.6,462.3,104.5,211.0,255.6,85.5,232.0,140.6,153.8,269.5,475.3,145.2,37.2],\"yaxis\":\"y\",\"type\":\"scatter\"},{\"hovertemplate\":\"Region=NORTHERN AMERICA                   <br>GDP ($ per capita)=%{x}<br>Phones (per 1000)=%{y}<extra></extra>\",\"legendgroup\":\"NORTHERN AMERICA                   \",\"marker\":{\"color\":\"#FECB52\",\"symbol\":\"circle\"},\"mode\":\"markers\",\"name\":\"NORTHERN AMERICA                   \",\"orientation\":\"v\",\"showlegend\":true,\"x\":[36000.0,29800.0,20000.0,6900.0,37800.0],\"xaxis\":\"x\",\"y\":[851.4,552.2,448.9,683.2,898.0],\"yaxis\":\"y\",\"type\":\"scatter\"},{\"hovertemplate\":\"Region=BALTICS                            <br>GDP ($ per capita)=%{x}<br>Phones (per 1000)=%{y}<extra></extra>\",\"legendgroup\":\"BALTICS                            \",\"marker\":{\"color\":\"#636efa\",\"symbol\":\"circle\"},\"mode\":\"markers\",\"name\":\"BALTICS                            \",\"orientation\":\"v\",\"showlegend\":true,\"x\":[12300.0,10200.0,11400.0],\"xaxis\":\"x\",\"y\":[333.8,321.4,223.4],\"yaxis\":\"y\",\"type\":\"scatter\"}],                        {\"template\":{\"data\":{\"histogram2dcontour\":[{\"type\":\"histogram2dcontour\",\"colorbar\":{\"outlinewidth\":0,\"ticks\":\"\"},\"colorscale\":[[0.0,\"#0d0887\"],[0.1111111111111111,\"#46039f\"],[0.2222222222222222,\"#7201a8\"],[0.3333333333333333,\"#9c179e\"],[0.4444444444444444,\"#bd3786\"],[0.5555555555555556,\"#d8576b\"],[0.6666666666666666,\"#ed7953\"],[0.7777777777777778,\"#fb9f3a\"],[0.8888888888888888,\"#fdca26\"],[1.0,\"#f0f921\"]]}],\"choropleth\":[{\"type\":\"choropleth\",\"colorbar\":{\"outlinewidth\":0,\"ticks\":\"\"}}],\"histogram2d\":[{\"type\":\"histogram2d\",\"colorbar\":{\"outlinewidth\":0,\"ticks\":\"\"},\"colorscale\":[[0.0,\"#0d0887\"],[0.1111111111111111,\"#46039f\"],[0.2222222222222222,\"#7201a8\"],[0.3333333333333333,\"#9c179e\"],[0.4444444444444444,\"#bd3786\"],[0.5555555555555556,\"#d8576b\"],[0.6666666666666666,\"#ed7953\"],[0.7777777777777778,\"#fb9f3a\"],[0.8888888888888888,\"#fdca26\"],[1.0,\"#f0f921\"]]}],\"heatmap\":[{\"type\":\"heatmap\",\"colorbar\":{\"outlinewidth\":0,\"ticks\":\"\"},\"colorscale\":[[0.0,\"#0d0887\"],[0.1111111111111111,\"#46039f\"],[0.2222222222222222,\"#7201a8\"],[0.3333333333333333,\"#9c179e\"],[0.4444444444444444,\"#bd3786\"],[0.5555555555555556,\"#d8576b\"],[0.6666666666666666,\"#ed7953\"],[0.7777777777777778,\"#fb9f3a\"],[0.8888888888888888,\"#fdca26\"],[1.0,\"#f0f921\"]]}],\"heatmapgl\":[{\"type\":\"heatmapgl\",\"colorbar\":{\"outlinewidth\":0,\"ticks\":\"\"},\"colorscale\":[[0.0,\"#0d0887\"],[0.1111111111111111,\"#46039f\"],[0.2222222222222222,\"#7201a8\"],[0.3333333333333333,\"#9c179e\"],[0.4444444444444444,\"#bd3786\"],[0.5555555555555556,\"#d8576b\"],[0.6666666666666666,\"#ed7953\"],[0.7777777777777778,\"#fb9f3a\"],[0.8888888888888888,\"#fdca26\"],[1.0,\"#f0f921\"]]}],\"contourcarpet\":[{\"type\":\"contourcarpet\",\"colorbar\":{\"outlinewidth\":0,\"ticks\":\"\"}}],\"contour\":[{\"type\":\"contour\",\"colorbar\":{\"outlinewidth\":0,\"ticks\":\"\"},\"colorscale\":[[0.0,\"#0d0887\"],[0.1111111111111111,\"#46039f\"],[0.2222222222222222,\"#7201a8\"],[0.3333333333333333,\"#9c179e\"],[0.4444444444444444,\"#bd3786\"],[0.5555555555555556,\"#d8576b\"],[0.6666666666666666,\"#ed7953\"],[0.7777777777777778,\"#fb9f3a\"],[0.8888888888888888,\"#fdca26\"],[1.0,\"#f0f921\"]]}],\"surface\":[{\"type\":\"surface\",\"colorbar\":{\"outlinewidth\":0,\"ticks\":\"\"},\"colorscale\":[[0.0,\"#0d0887\"],[0.1111111111111111,\"#46039f\"],[0.2222222222222222,\"#7201a8\"],[0.3333333333333333,\"#9c179e\"],[0.4444444444444444,\"#bd3786\"],[0.5555555555555556,\"#d8576b\"],[0.6666666666666666,\"#ed7953\"],[0.7777777777777778,\"#fb9f3a\"],[0.8888888888888888,\"#fdca26\"],[1.0,\"#f0f921\"]]}],\"mesh3d\":[{\"type\":\"mesh3d\",\"colorbar\":{\"outlinewidth\":0,\"ticks\":\"\"}}],\"scatter\":[{\"fillpattern\":{\"fillmode\":\"overlay\",\"size\":10,\"solidity\":0.2},\"type\":\"scatter\"}],\"parcoords\":[{\"type\":\"parcoords\",\"line\":{\"colorbar\":{\"outlinewidth\":0,\"ticks\":\"\"}}}],\"scatterpolargl\":[{\"type\":\"scatterpolargl\",\"marker\":{\"colorbar\":{\"outlinewidth\":0,\"ticks\":\"\"}}}],\"bar\":[{\"error_x\":{\"color\":\"#2a3f5f\"},\"error_y\":{\"color\":\"#2a3f5f\"},\"marker\":{\"line\":{\"color\":\"#E5ECF6\",\"width\":0.5},\"pattern\":{\"fillmode\":\"overlay\",\"size\":10,\"solidity\":0.2}},\"type\":\"bar\"}],\"scattergeo\":[{\"type\":\"scattergeo\",\"marker\":{\"colorbar\":{\"outlinewidth\":0,\"ticks\":\"\"}}}],\"scatterpolar\":[{\"type\":\"scatterpolar\",\"marker\":{\"colorbar\":{\"outlinewidth\":0,\"ticks\":\"\"}}}],\"histogram\":[{\"marker\":{\"pattern\":{\"fillmode\":\"overlay\",\"size\":10,\"solidity\":0.2}},\"type\":\"histogram\"}],\"scattergl\":[{\"type\":\"scattergl\",\"marker\":{\"colorbar\":{\"outlinewidth\":0,\"ticks\":\"\"}}}],\"scatter3d\":[{\"type\":\"scatter3d\",\"line\":{\"colorbar\":{\"outlinewidth\":0,\"ticks\":\"\"}},\"marker\":{\"colorbar\":{\"outlinewidth\":0,\"ticks\":\"\"}}}],\"scattermapbox\":[{\"type\":\"scattermapbox\",\"marker\":{\"colorbar\":{\"outlinewidth\":0,\"ticks\":\"\"}}}],\"scatterternary\":[{\"type\":\"scatterternary\",\"marker\":{\"colorbar\":{\"outlinewidth\":0,\"ticks\":\"\"}}}],\"scattercarpet\":[{\"type\":\"scattercarpet\",\"marker\":{\"colorbar\":{\"outlinewidth\":0,\"ticks\":\"\"}}}],\"carpet\":[{\"aaxis\":{\"endlinecolor\":\"#2a3f5f\",\"gridcolor\":\"white\",\"linecolor\":\"white\",\"minorgridcolor\":\"white\",\"startlinecolor\":\"#2a3f5f\"},\"baxis\":{\"endlinecolor\":\"#2a3f5f\",\"gridcolor\":\"white\",\"linecolor\":\"white\",\"minorgridcolor\":\"white\",\"startlinecolor\":\"#2a3f5f\"},\"type\":\"carpet\"}],\"table\":[{\"cells\":{\"fill\":{\"color\":\"#EBF0F8\"},\"line\":{\"color\":\"white\"}},\"header\":{\"fill\":{\"color\":\"#C8D4E3\"},\"line\":{\"color\":\"white\"}},\"type\":\"table\"}],\"barpolar\":[{\"marker\":{\"line\":{\"color\":\"#E5ECF6\",\"width\":0.5},\"pattern\":{\"fillmode\":\"overlay\",\"size\":10,\"solidity\":0.2}},\"type\":\"barpolar\"}],\"pie\":[{\"automargin\":true,\"type\":\"pie\"}]},\"layout\":{\"autotypenumbers\":\"strict\",\"colorway\":[\"#636efa\",\"#EF553B\",\"#00cc96\",\"#ab63fa\",\"#FFA15A\",\"#19d3f3\",\"#FF6692\",\"#B6E880\",\"#FF97FF\",\"#FECB52\"],\"font\":{\"color\":\"#2a3f5f\"},\"hovermode\":\"closest\",\"hoverlabel\":{\"align\":\"left\"},\"paper_bgcolor\":\"white\",\"plot_bgcolor\":\"#E5ECF6\",\"polar\":{\"bgcolor\":\"#E5ECF6\",\"angularaxis\":{\"gridcolor\":\"white\",\"linecolor\":\"white\",\"ticks\":\"\"},\"radialaxis\":{\"gridcolor\":\"white\",\"linecolor\":\"white\",\"ticks\":\"\"}},\"ternary\":{\"bgcolor\":\"#E5ECF6\",\"aaxis\":{\"gridcolor\":\"white\",\"linecolor\":\"white\",\"ticks\":\"\"},\"baxis\":{\"gridcolor\":\"white\",\"linecolor\":\"white\",\"ticks\":\"\"},\"caxis\":{\"gridcolor\":\"white\",\"linecolor\":\"white\",\"ticks\":\"\"}},\"coloraxis\":{\"colorbar\":{\"outlinewidth\":0,\"ticks\":\"\"}},\"colorscale\":{\"sequential\":[[0.0,\"#0d0887\"],[0.1111111111111111,\"#46039f\"],[0.2222222222222222,\"#7201a8\"],[0.3333333333333333,\"#9c179e\"],[0.4444444444444444,\"#bd3786\"],[0.5555555555555556,\"#d8576b\"],[0.6666666666666666,\"#ed7953\"],[0.7777777777777778,\"#fb9f3a\"],[0.8888888888888888,\"#fdca26\"],[1.0,\"#f0f921\"]],\"sequentialminus\":[[0.0,\"#0d0887\"],[0.1111111111111111,\"#46039f\"],[0.2222222222222222,\"#7201a8\"],[0.3333333333333333,\"#9c179e\"],[0.4444444444444444,\"#bd3786\"],[0.5555555555555556,\"#d8576b\"],[0.6666666666666666,\"#ed7953\"],[0.7777777777777778,\"#fb9f3a\"],[0.8888888888888888,\"#fdca26\"],[1.0,\"#f0f921\"]],\"diverging\":[[0,\"#8e0152\"],[0.1,\"#c51b7d\"],[0.2,\"#de77ae\"],[0.3,\"#f1b6da\"],[0.4,\"#fde0ef\"],[0.5,\"#f7f7f7\"],[0.6,\"#e6f5d0\"],[0.7,\"#b8e186\"],[0.8,\"#7fbc41\"],[0.9,\"#4d9221\"],[1,\"#276419\"]]},\"xaxis\":{\"gridcolor\":\"white\",\"linecolor\":\"white\",\"ticks\":\"\",\"title\":{\"standoff\":15},\"zerolinecolor\":\"white\",\"automargin\":true,\"zerolinewidth\":2},\"yaxis\":{\"gridcolor\":\"white\",\"linecolor\":\"white\",\"ticks\":\"\",\"title\":{\"standoff\":15},\"zerolinecolor\":\"white\",\"automargin\":true,\"zerolinewidth\":2},\"scene\":{\"xaxis\":{\"backgroundcolor\":\"#E5ECF6\",\"gridcolor\":\"white\",\"linecolor\":\"white\",\"showbackground\":true,\"ticks\":\"\",\"zerolinecolor\":\"white\",\"gridwidth\":2},\"yaxis\":{\"backgroundcolor\":\"#E5ECF6\",\"gridcolor\":\"white\",\"linecolor\":\"white\",\"showbackground\":true,\"ticks\":\"\",\"zerolinecolor\":\"white\",\"gridwidth\":2},\"zaxis\":{\"backgroundcolor\":\"#E5ECF6\",\"gridcolor\":\"white\",\"linecolor\":\"white\",\"showbackground\":true,\"ticks\":\"\",\"zerolinecolor\":\"white\",\"gridwidth\":2}},\"shapedefaults\":{\"line\":{\"color\":\"#2a3f5f\"}},\"annotationdefaults\":{\"arrowcolor\":\"#2a3f5f\",\"arrowhead\":0,\"arrowwidth\":1},\"geo\":{\"bgcolor\":\"white\",\"landcolor\":\"#E5ECF6\",\"subunitcolor\":\"white\",\"showland\":true,\"showlakes\":true,\"lakecolor\":\"white\"},\"title\":{\"x\":0.05},\"mapbox\":{\"style\":\"light\"}}},\"xaxis\":{\"anchor\":\"y\",\"domain\":[0.0,1.0],\"title\":{\"text\":\"GDP ($ per capita)\"}},\"yaxis\":{\"anchor\":\"x\",\"domain\":[0.0,1.0],\"title\":{\"text\":\"Phones (per 1000)\"}},\"legend\":{\"title\":{\"text\":\"Region\"},\"tracegroupgap\":0},\"margin\":{\"t\":60}},                        {\"responsive\": true}                    ).then(function(){\n",
       "                            \n",
       "var gd = document.getElementById('5d23e66b-d1d7-482e-9552-5e0263efb7f9');\n",
       "var x = new MutationObserver(function (mutations, observer) {{\n",
       "        var display = window.getComputedStyle(gd).display;\n",
       "        if (!display || display === 'none') {{\n",
       "            console.log([gd, 'removed!']);\n",
       "            Plotly.purge(gd);\n",
       "            observer.disconnect();\n",
       "        }}\n",
       "}});\n",
       "\n",
       "// Listen for the removal of the full notebook cells\n",
       "var notebookContainer = gd.closest('#notebook-container');\n",
       "if (notebookContainer) {{\n",
       "    x.observe(notebookContainer, {childList: true});\n",
       "}}\n",
       "\n",
       "// Listen for the clearing of the current output cell\n",
       "var outputEl = gd.closest('.output');\n",
       "if (outputEl) {{\n",
       "    x.observe(outputEl, {childList: true});\n",
       "}}\n",
       "\n",
       "                        })                };                });            </script>        </div>"
      ]
     },
     "metadata": {},
     "output_type": "display_data"
    }
   ],
   "source": [
    "px.scatter(df, x=\"GDP ($ per capita)\", y=\"Phones (per 1000)\",color=\"Region\")"
   ]
  },
  {
   "cell_type": "markdown",
   "id": "958d2199",
   "metadata": {
    "papermill": {
     "duration": 0.015584,
     "end_time": "2023-01-16T10:47:31.242677",
     "exception": false,
     "start_time": "2023-01-16T10:47:31.227093",
     "status": "completed"
    },
    "tags": []
   },
   "source": [
    "Notice the outlier which has more than number of phones than they have for individual people! Quite fascinating. Lets see which country this is..."
   ]
  },
  {
   "cell_type": "code",
   "execution_count": 10,
   "id": "91d458f7",
   "metadata": {
    "execution": {
     "iopub.execute_input": "2023-01-16T10:47:31.279517Z",
     "iopub.status.busy": "2023-01-16T10:47:31.278784Z",
     "iopub.status.idle": "2023-01-16T10:47:31.303437Z",
     "shell.execute_reply": "2023-01-16T10:47:31.301838Z"
    },
    "papermill": {
     "duration": 0.047171,
     "end_time": "2023-01-16T10:47:31.306758",
     "exception": false,
     "start_time": "2023-01-16T10:47:31.259587",
     "status": "completed"
    },
    "tags": []
   },
   "outputs": [
    {
     "data": {
      "text/html": [
       "<div>\n",
       "<style scoped>\n",
       "    .dataframe tbody tr th:only-of-type {\n",
       "        vertical-align: middle;\n",
       "    }\n",
       "\n",
       "    .dataframe tbody tr th {\n",
       "        vertical-align: top;\n",
       "    }\n",
       "\n",
       "    .dataframe thead th {\n",
       "        text-align: right;\n",
       "    }\n",
       "</style>\n",
       "<table border=\"1\" class=\"dataframe\">\n",
       "  <thead>\n",
       "    <tr style=\"text-align: right;\">\n",
       "      <th></th>\n",
       "      <th>Country</th>\n",
       "      <th>Region</th>\n",
       "      <th>Population</th>\n",
       "      <th>Area (sq. mi.)</th>\n",
       "      <th>Pop. Density (per sq. mi.)</th>\n",
       "      <th>Coastline (coast/area ratio)</th>\n",
       "      <th>Net migration</th>\n",
       "      <th>Infant mortality (per 1000 births)</th>\n",
       "      <th>GDP ($ per capita)</th>\n",
       "      <th>Literacy (%)</th>\n",
       "      <th>Phones (per 1000)</th>\n",
       "      <th>Arable (%)</th>\n",
       "      <th>Crops (%)</th>\n",
       "      <th>Other (%)</th>\n",
       "      <th>Climate</th>\n",
       "      <th>Birthrate</th>\n",
       "      <th>Deathrate</th>\n",
       "      <th>Agriculture</th>\n",
       "      <th>Industry</th>\n",
       "      <th>Service</th>\n",
       "    </tr>\n",
       "  </thead>\n",
       "  <tbody>\n",
       "    <tr>\n",
       "      <th>138</th>\n",
       "      <td>Monaco</td>\n",
       "      <td>WESTERN EUROPE</td>\n",
       "      <td>32543</td>\n",
       "      <td>2</td>\n",
       "      <td>16271.5</td>\n",
       "      <td>205.0</td>\n",
       "      <td>7.75</td>\n",
       "      <td>5.43</td>\n",
       "      <td>27000.0</td>\n",
       "      <td>99.0</td>\n",
       "      <td>1035.6</td>\n",
       "      <td>0.0</td>\n",
       "      <td>0.0</td>\n",
       "      <td>100.0</td>\n",
       "      <td>NaN</td>\n",
       "      <td>9.19</td>\n",
       "      <td>12.91</td>\n",
       "      <td>0.17</td>\n",
       "      <td>NaN</td>\n",
       "      <td>NaN</td>\n",
       "    </tr>\n",
       "  </tbody>\n",
       "</table>\n",
       "</div>"
      ],
      "text/plain": [
       "     Country                               Region  Population  Area (sq. mi.)  \\\n",
       "138  Monaco   WESTERN EUROPE                            32543               2   \n",
       "\n",
       "     Pop. Density (per sq. mi.)  Coastline (coast/area ratio)  Net migration  \\\n",
       "138                     16271.5                         205.0           7.75   \n",
       "\n",
       "     Infant mortality (per 1000 births)  GDP ($ per capita)  Literacy (%)  \\\n",
       "138                                5.43             27000.0          99.0   \n",
       "\n",
       "     Phones (per 1000)  Arable (%)  Crops (%)  Other (%)  Climate  Birthrate  \\\n",
       "138             1035.6         0.0        0.0      100.0      NaN       9.19   \n",
       "\n",
       "     Deathrate  Agriculture  Industry  Service  \n",
       "138      12.91         0.17       NaN      NaN  "
      ]
     },
     "execution_count": 10,
     "metadata": {},
     "output_type": "execute_result"
    }
   ],
   "source": [
    "df[df['Phones (per 1000)']>1000]"
   ]
  },
  {
   "cell_type": "markdown",
   "id": "31ac6da9",
   "metadata": {
    "papermill": {
     "duration": 0.017359,
     "end_time": "2023-01-16T10:47:31.342558",
     "exception": false,
     "start_time": "2023-01-16T10:47:31.325199",
     "status": "completed"
    },
    "tags": []
   },
   "source": [
    "Monaco! Not suprising, considering how tiny the nation is and the extreme number of wealthy people that reside ther."
   ]
  },
  {
   "cell_type": "markdown",
   "id": "7515bde6",
   "metadata": {
    "papermill": {
     "duration": 0.017255,
     "end_time": "2023-01-16T10:47:31.376968",
     "exception": false,
     "start_time": "2023-01-16T10:47:31.359713",
     "status": "completed"
    },
    "tags": []
   },
   "source": [
    "Lets observe the Literacy Rate, which should increase as GDP increases...  \n",
    "This is because a rising GDP is characteristic of larger trades and development which requires high literacy level for communication."
   ]
  },
  {
   "cell_type": "code",
   "execution_count": 11,
   "id": "f27603df",
   "metadata": {
    "execution": {
     "iopub.execute_input": "2023-01-16T10:47:31.413066Z",
     "iopub.status.busy": "2023-01-16T10:47:31.412576Z",
     "iopub.status.idle": "2023-01-16T10:47:31.511196Z",
     "shell.execute_reply": "2023-01-16T10:47:31.510156Z"
    },
    "papermill": {
     "duration": 0.119998,
     "end_time": "2023-01-16T10:47:31.513737",
     "exception": false,
     "start_time": "2023-01-16T10:47:31.393739",
     "status": "completed"
    },
    "tags": []
   },
   "outputs": [
    {
     "data": {
      "text/html": [
       "<div>                            <div id=\"fe50115e-23ea-414d-8732-ef09eb740e6f\" class=\"plotly-graph-div\" style=\"height:525px; width:100%;\"></div>            <script type=\"text/javascript\">                require([\"plotly\"], function(Plotly) {                    window.PLOTLYENV=window.PLOTLYENV || {};                                    if (document.getElementById(\"fe50115e-23ea-414d-8732-ef09eb740e6f\")) {                    Plotly.newPlot(                        \"fe50115e-23ea-414d-8732-ef09eb740e6f\",                        [{\"hovertemplate\":\"Region=ASIA (EX. NEAR EAST)         <br>GDP ($ per capita)=%{x}<br>Literacy (%)=%{y}<extra></extra>\",\"legendgroup\":\"ASIA (EX. NEAR EAST)         \",\"marker\":{\"color\":\"#636efa\",\"symbol\":\"circle\"},\"mode\":\"markers\",\"name\":\"ASIA (EX. NEAR EAST)         \",\"orientation\":\"v\",\"showlegend\":true,\"x\":[700.0,1900.0,1300.0,18600.0,1800.0,1900.0,5000.0,500.0,28800.0,2900.0,3200.0,7000.0,28200.0,1300.0,17800.0,1700.0,19400.0,9000.0,3900.0,1800.0,1400.0,2100.0,4600.0,23700.0,3700.0,23400.0,7400.0,2500.0],\"xaxis\":\"x\",\"y\":[36.0,43.1,42.2,93.9,85.3,69.4,90.9,58.6,93.5,59.5,87.9,79.4,99.0,99.0,97.9,66.4,94.5,88.7,97.2,97.8,45.2,45.7,92.6,92.5,92.3,96.1,92.6,90.3],\"yaxis\":\"y\",\"type\":\"scatter\"},{\"hovertemplate\":\"Region=EASTERN EUROPE                     <br>GDP ($ per capita)=%{x}<br>Literacy (%)=%{y}<extra></extra>\",\"legendgroup\":\"EASTERN EUROPE                     \",\"marker\":{\"color\":\"#EF553B\",\"symbol\":\"circle\"},\"mode\":\"markers\",\"name\":\"EASTERN EUROPE                     \",\"orientation\":\"v\",\"showlegend\":true,\"x\":[4500.0,6100.0,7600.0,10600.0,15700.0,13900.0,6700.0,11100.0,7000.0,2200.0,13300.0,19000.0],\"xaxis\":\"x\",\"y\":[86.5,null,98.6,98.5,99.9,99.4,null,99.8,98.4,93.0,null,99.7],\"yaxis\":\"y\",\"type\":\"scatter\"},{\"hovertemplate\":\"Region=NORTHERN AFRICA                    <br>GDP ($ per capita)=%{x}<br>Literacy (%)=%{y}<extra></extra>\",\"legendgroup\":\"NORTHERN AFRICA                    \",\"marker\":{\"color\":\"#00cc96\",\"symbol\":\"circle\"},\"mode\":\"markers\",\"name\":\"NORTHERN AFRICA                    \",\"orientation\":\"v\",\"showlegend\":true,\"x\":[6000.0,4000.0,6400.0,4000.0,6900.0,null],\"xaxis\":\"x\",\"y\":[70.0,57.7,82.6,51.7,74.2,null],\"yaxis\":\"y\",\"type\":\"scatter\"},{\"hovertemplate\":\"Region=OCEANIA                            <br>GDP ($ per capita)=%{x}<br>Literacy (%)=%{y}<extra></extra>\",\"legendgroup\":\"OCEANIA                            \",\"marker\":{\"color\":\"#ab63fa\",\"symbol\":\"circle\"},\"mode\":\"markers\",\"name\":\"OCEANIA                            \",\"orientation\":\"v\",\"showlegend\":true,\"x\":[8000.0,29000.0,5000.0,5800.0,17500.0,21000.0,800.0,1600.0,2000.0,5000.0,15000.0,21600.0,12500.0,9000.0,2200.0,5600.0,1700.0,2200.0,1100.0,2900.0,3700.0],\"xaxis\":\"x\",\"y\":[97.0,100.0,95.0,93.7,98.0,99.0,null,93.7,89.0,null,91.0,99.0,97.0,92.0,64.6,99.7,null,98.5,null,53.0,50.0],\"yaxis\":\"y\",\"type\":\"scatter\"},{\"hovertemplate\":\"Region=WESTERN EUROPE                     <br>GDP ($ per capita)=%{x}<br>Literacy (%)=%{y}<extra></extra>\",\"legendgroup\":\"WESTERN EUROPE                     \",\"marker\":{\"color\":\"#FFA15A\",\"symbol\":\"circle\"},\"mode\":\"markers\",\"name\":\"WESTERN EUROPE                     \",\"orientation\":\"v\",\"showlegend\":true,\"x\":[19000.0,30000.0,29100.0,31100.0,22000.0,27400.0,27600.0,27600.0,17500.0,20000.0,20000.0,30900.0,29600.0,21000.0,26700.0,24800.0,25000.0,55100.0,17700.0,27000.0,28600.0,37800.0,18000.0,34600.0,22000.0,26800.0,32700.0,27700.0],\"xaxis\":\"x\",\"y\":[100.0,98.0,98.0,100.0,null,100.0,99.0,99.0,null,97.5,null,99.9,98.0,null,98.6,null,100.0,100.0,92.8,99.0,99.0,100.0,93.3,96.0,97.9,99.0,99.0,99.0],\"yaxis\":\"y\",\"type\":\"scatter\"},{\"hovertemplate\":\"Region=SUB-SAHARAN AFRICA                 <br>GDP ($ per capita)=%{x}<br>Literacy (%)=%{y}<extra></extra>\",\"legendgroup\":\"SUB-SAHARAN AFRICA                 \",\"marker\":{\"color\":\"#19d3f3\",\"symbol\":\"circle\"},\"mode\":\"markers\",\"name\":\"SUB-SAHARAN AFRICA                 \",\"orientation\":\"v\",\"showlegend\":true,\"x\":[1900.0,1100.0,9000.0,1100.0,600.0,1800.0,1400.0,1100.0,1200.0,700.0,700.0,700.0,1400.0,1300.0,2700.0,700.0,700.0,5500.0,1700.0,2200.0,2100.0,800.0,1000.0,3000.0,1000.0,800.0,600.0,900.0,1800.0,11400.0,2600.0,1200.0,7200.0,800.0,900.0,5800.0,1300.0,2500.0,1200.0,1600.0,7800.0,500.0,500.0,10700.0,1900.0,4900.0,600.0,1500.0,1400.0,800.0,1900.0],\"xaxis\":\"x\",\"y\":[42.0,40.9,79.8,26.6,51.6,79.0,76.6,51.0,47.5,56.5,65.5,83.8,50.9,67.9,85.7,58.6,42.7,63.2,40.1,74.8,35.9,42.4,85.1,84.8,57.5,68.9,62.7,46.4,41.7,85.6,null,47.8,84.0,17.6,68.0,88.9,70.4,97.0,79.3,40.2,58.0,31.4,37.8,86.4,61.1,81.6,78.2,60.9,69.9,80.6,90.7],\"yaxis\":\"y\",\"type\":\"scatter\"},{\"hovertemplate\":\"Region=LATIN AMER. & CARIB    <br>GDP ($ per capita)=%{x}<br>Literacy (%)=%{y}<extra></extra>\",\"legendgroup\":\"LATIN AMER. & CARIB    \",\"marker\":{\"color\":\"#FF6692\",\"symbol\":\"circle\"},\"mode\":\"markers\",\"name\":\"LATIN AMER. & CARIB    \",\"orientation\":\"v\",\"showlegend\":true,\"x\":[8600.0,11000.0,11200.0,28000.0,16700.0,15700.0,4900.0,2400.0,7600.0,16000.0,35000.0,9900.0,6300.0,9100.0,2900.0,5400.0,6000.0,3300.0,4800.0,8300.0,5000.0,8000.0,4100.0,4000.0,1600.0,2600.0,3900.0,14400.0,9000.0,3400.0,11400.0,2300.0,6300.0,4700.0,5100.0,16800.0,8800.0,5400.0,2900.0,4000.0,9500.0,9600.0,12800.0,4800.0,17200.0],\"xaxis\":\"x\",\"y\":[95.0,89.0,97.1,97.0,95.6,97.4,94.1,87.2,86.4,97.8,98.0,96.2,92.5,96.0,97.0,94.0,84.7,92.5,80.2,83.0,98.0,90.0,70.6,98.8,52.9,76.2,87.9,97.7,92.2,97.0,96.7,67.5,92.6,94.0,90.9,94.1,97.0,67.0,96.0,93.0,98.6,98.0,98.0,93.4,null],\"yaxis\":\"y\",\"type\":\"scatter\"},{\"hovertemplate\":\"Region=C.W. OF IND. STATES <br>GDP ($ per capita)=%{x}<br>Literacy (%)=%{y}<extra></extra>\",\"legendgroup\":\"C.W. OF IND. STATES \",\"marker\":{\"color\":\"#B6E880\",\"symbol\":\"circle\"},\"mode\":\"markers\",\"name\":\"C.W. OF IND. STATES \",\"orientation\":\"v\",\"showlegend\":true,\"x\":[3500.0,3400.0,6100.0,2500.0,6300.0,1600.0,1800.0,8900.0,1000.0,5800.0,5400.0,1700.0],\"xaxis\":\"x\",\"y\":[98.6,97.0,99.6,99.0,98.4,97.0,99.1,99.6,99.4,98.0,99.7,99.3],\"yaxis\":\"y\",\"type\":\"scatter\"},{\"hovertemplate\":\"Region=NEAR EAST                          <br>GDP ($ per capita)=%{x}<br>Literacy (%)=%{y}<extra></extra>\",\"legendgroup\":\"NEAR EAST                          \",\"marker\":{\"color\":\"#FF97FF\",\"symbol\":\"circle\"},\"mode\":\"markers\",\"name\":\"NEAR EAST                          \",\"orientation\":\"v\",\"showlegend\":true,\"x\":[16900.0,19200.0,600.0,1500.0,19800.0,4300.0,19000.0,4800.0,13100.0,21500.0,11800.0,3300.0,6700.0,23200.0,800.0,800.0],\"xaxis\":\"x\",\"y\":[89.1,97.6,null,40.4,95.4,91.3,83.5,87.4,75.8,82.5,78.8,76.9,86.5,77.9,null,50.2],\"yaxis\":\"y\",\"type\":\"scatter\"},{\"hovertemplate\":\"Region=NORTHERN AMERICA                   <br>GDP ($ per capita)=%{x}<br>Literacy (%)=%{y}<extra></extra>\",\"legendgroup\":\"NORTHERN AMERICA                   \",\"marker\":{\"color\":\"#FECB52\",\"symbol\":\"circle\"},\"mode\":\"markers\",\"name\":\"NORTHERN AMERICA                   \",\"orientation\":\"v\",\"showlegend\":true,\"x\":[36000.0,29800.0,20000.0,6900.0,37800.0],\"xaxis\":\"x\",\"y\":[98.0,97.0,null,99.0,97.0],\"yaxis\":\"y\",\"type\":\"scatter\"},{\"hovertemplate\":\"Region=BALTICS                            <br>GDP ($ per capita)=%{x}<br>Literacy (%)=%{y}<extra></extra>\",\"legendgroup\":\"BALTICS                            \",\"marker\":{\"color\":\"#636efa\",\"symbol\":\"circle\"},\"mode\":\"markers\",\"name\":\"BALTICS                            \",\"orientation\":\"v\",\"showlegend\":true,\"x\":[12300.0,10200.0,11400.0],\"xaxis\":\"x\",\"y\":[99.8,99.8,99.6],\"yaxis\":\"y\",\"type\":\"scatter\"}],                        {\"template\":{\"data\":{\"histogram2dcontour\":[{\"type\":\"histogram2dcontour\",\"colorbar\":{\"outlinewidth\":0,\"ticks\":\"\"},\"colorscale\":[[0.0,\"#0d0887\"],[0.1111111111111111,\"#46039f\"],[0.2222222222222222,\"#7201a8\"],[0.3333333333333333,\"#9c179e\"],[0.4444444444444444,\"#bd3786\"],[0.5555555555555556,\"#d8576b\"],[0.6666666666666666,\"#ed7953\"],[0.7777777777777778,\"#fb9f3a\"],[0.8888888888888888,\"#fdca26\"],[1.0,\"#f0f921\"]]}],\"choropleth\":[{\"type\":\"choropleth\",\"colorbar\":{\"outlinewidth\":0,\"ticks\":\"\"}}],\"histogram2d\":[{\"type\":\"histogram2d\",\"colorbar\":{\"outlinewidth\":0,\"ticks\":\"\"},\"colorscale\":[[0.0,\"#0d0887\"],[0.1111111111111111,\"#46039f\"],[0.2222222222222222,\"#7201a8\"],[0.3333333333333333,\"#9c179e\"],[0.4444444444444444,\"#bd3786\"],[0.5555555555555556,\"#d8576b\"],[0.6666666666666666,\"#ed7953\"],[0.7777777777777778,\"#fb9f3a\"],[0.8888888888888888,\"#fdca26\"],[1.0,\"#f0f921\"]]}],\"heatmap\":[{\"type\":\"heatmap\",\"colorbar\":{\"outlinewidth\":0,\"ticks\":\"\"},\"colorscale\":[[0.0,\"#0d0887\"],[0.1111111111111111,\"#46039f\"],[0.2222222222222222,\"#7201a8\"],[0.3333333333333333,\"#9c179e\"],[0.4444444444444444,\"#bd3786\"],[0.5555555555555556,\"#d8576b\"],[0.6666666666666666,\"#ed7953\"],[0.7777777777777778,\"#fb9f3a\"],[0.8888888888888888,\"#fdca26\"],[1.0,\"#f0f921\"]]}],\"heatmapgl\":[{\"type\":\"heatmapgl\",\"colorbar\":{\"outlinewidth\":0,\"ticks\":\"\"},\"colorscale\":[[0.0,\"#0d0887\"],[0.1111111111111111,\"#46039f\"],[0.2222222222222222,\"#7201a8\"],[0.3333333333333333,\"#9c179e\"],[0.4444444444444444,\"#bd3786\"],[0.5555555555555556,\"#d8576b\"],[0.6666666666666666,\"#ed7953\"],[0.7777777777777778,\"#fb9f3a\"],[0.8888888888888888,\"#fdca26\"],[1.0,\"#f0f921\"]]}],\"contourcarpet\":[{\"type\":\"contourcarpet\",\"colorbar\":{\"outlinewidth\":0,\"ticks\":\"\"}}],\"contour\":[{\"type\":\"contour\",\"colorbar\":{\"outlinewidth\":0,\"ticks\":\"\"},\"colorscale\":[[0.0,\"#0d0887\"],[0.1111111111111111,\"#46039f\"],[0.2222222222222222,\"#7201a8\"],[0.3333333333333333,\"#9c179e\"],[0.4444444444444444,\"#bd3786\"],[0.5555555555555556,\"#d8576b\"],[0.6666666666666666,\"#ed7953\"],[0.7777777777777778,\"#fb9f3a\"],[0.8888888888888888,\"#fdca26\"],[1.0,\"#f0f921\"]]}],\"surface\":[{\"type\":\"surface\",\"colorbar\":{\"outlinewidth\":0,\"ticks\":\"\"},\"colorscale\":[[0.0,\"#0d0887\"],[0.1111111111111111,\"#46039f\"],[0.2222222222222222,\"#7201a8\"],[0.3333333333333333,\"#9c179e\"],[0.4444444444444444,\"#bd3786\"],[0.5555555555555556,\"#d8576b\"],[0.6666666666666666,\"#ed7953\"],[0.7777777777777778,\"#fb9f3a\"],[0.8888888888888888,\"#fdca26\"],[1.0,\"#f0f921\"]]}],\"mesh3d\":[{\"type\":\"mesh3d\",\"colorbar\":{\"outlinewidth\":0,\"ticks\":\"\"}}],\"scatter\":[{\"fillpattern\":{\"fillmode\":\"overlay\",\"size\":10,\"solidity\":0.2},\"type\":\"scatter\"}],\"parcoords\":[{\"type\":\"parcoords\",\"line\":{\"colorbar\":{\"outlinewidth\":0,\"ticks\":\"\"}}}],\"scatterpolargl\":[{\"type\":\"scatterpolargl\",\"marker\":{\"colorbar\":{\"outlinewidth\":0,\"ticks\":\"\"}}}],\"bar\":[{\"error_x\":{\"color\":\"#2a3f5f\"},\"error_y\":{\"color\":\"#2a3f5f\"},\"marker\":{\"line\":{\"color\":\"#E5ECF6\",\"width\":0.5},\"pattern\":{\"fillmode\":\"overlay\",\"size\":10,\"solidity\":0.2}},\"type\":\"bar\"}],\"scattergeo\":[{\"type\":\"scattergeo\",\"marker\":{\"colorbar\":{\"outlinewidth\":0,\"ticks\":\"\"}}}],\"scatterpolar\":[{\"type\":\"scatterpolar\",\"marker\":{\"colorbar\":{\"outlinewidth\":0,\"ticks\":\"\"}}}],\"histogram\":[{\"marker\":{\"pattern\":{\"fillmode\":\"overlay\",\"size\":10,\"solidity\":0.2}},\"type\":\"histogram\"}],\"scattergl\":[{\"type\":\"scattergl\",\"marker\":{\"colorbar\":{\"outlinewidth\":0,\"ticks\":\"\"}}}],\"scatter3d\":[{\"type\":\"scatter3d\",\"line\":{\"colorbar\":{\"outlinewidth\":0,\"ticks\":\"\"}},\"marker\":{\"colorbar\":{\"outlinewidth\":0,\"ticks\":\"\"}}}],\"scattermapbox\":[{\"type\":\"scattermapbox\",\"marker\":{\"colorbar\":{\"outlinewidth\":0,\"ticks\":\"\"}}}],\"scatterternary\":[{\"type\":\"scatterternary\",\"marker\":{\"colorbar\":{\"outlinewidth\":0,\"ticks\":\"\"}}}],\"scattercarpet\":[{\"type\":\"scattercarpet\",\"marker\":{\"colorbar\":{\"outlinewidth\":0,\"ticks\":\"\"}}}],\"carpet\":[{\"aaxis\":{\"endlinecolor\":\"#2a3f5f\",\"gridcolor\":\"white\",\"linecolor\":\"white\",\"minorgridcolor\":\"white\",\"startlinecolor\":\"#2a3f5f\"},\"baxis\":{\"endlinecolor\":\"#2a3f5f\",\"gridcolor\":\"white\",\"linecolor\":\"white\",\"minorgridcolor\":\"white\",\"startlinecolor\":\"#2a3f5f\"},\"type\":\"carpet\"}],\"table\":[{\"cells\":{\"fill\":{\"color\":\"#EBF0F8\"},\"line\":{\"color\":\"white\"}},\"header\":{\"fill\":{\"color\":\"#C8D4E3\"},\"line\":{\"color\":\"white\"}},\"type\":\"table\"}],\"barpolar\":[{\"marker\":{\"line\":{\"color\":\"#E5ECF6\",\"width\":0.5},\"pattern\":{\"fillmode\":\"overlay\",\"size\":10,\"solidity\":0.2}},\"type\":\"barpolar\"}],\"pie\":[{\"automargin\":true,\"type\":\"pie\"}]},\"layout\":{\"autotypenumbers\":\"strict\",\"colorway\":[\"#636efa\",\"#EF553B\",\"#00cc96\",\"#ab63fa\",\"#FFA15A\",\"#19d3f3\",\"#FF6692\",\"#B6E880\",\"#FF97FF\",\"#FECB52\"],\"font\":{\"color\":\"#2a3f5f\"},\"hovermode\":\"closest\",\"hoverlabel\":{\"align\":\"left\"},\"paper_bgcolor\":\"white\",\"plot_bgcolor\":\"#E5ECF6\",\"polar\":{\"bgcolor\":\"#E5ECF6\",\"angularaxis\":{\"gridcolor\":\"white\",\"linecolor\":\"white\",\"ticks\":\"\"},\"radialaxis\":{\"gridcolor\":\"white\",\"linecolor\":\"white\",\"ticks\":\"\"}},\"ternary\":{\"bgcolor\":\"#E5ECF6\",\"aaxis\":{\"gridcolor\":\"white\",\"linecolor\":\"white\",\"ticks\":\"\"},\"baxis\":{\"gridcolor\":\"white\",\"linecolor\":\"white\",\"ticks\":\"\"},\"caxis\":{\"gridcolor\":\"white\",\"linecolor\":\"white\",\"ticks\":\"\"}},\"coloraxis\":{\"colorbar\":{\"outlinewidth\":0,\"ticks\":\"\"}},\"colorscale\":{\"sequential\":[[0.0,\"#0d0887\"],[0.1111111111111111,\"#46039f\"],[0.2222222222222222,\"#7201a8\"],[0.3333333333333333,\"#9c179e\"],[0.4444444444444444,\"#bd3786\"],[0.5555555555555556,\"#d8576b\"],[0.6666666666666666,\"#ed7953\"],[0.7777777777777778,\"#fb9f3a\"],[0.8888888888888888,\"#fdca26\"],[1.0,\"#f0f921\"]],\"sequentialminus\":[[0.0,\"#0d0887\"],[0.1111111111111111,\"#46039f\"],[0.2222222222222222,\"#7201a8\"],[0.3333333333333333,\"#9c179e\"],[0.4444444444444444,\"#bd3786\"],[0.5555555555555556,\"#d8576b\"],[0.6666666666666666,\"#ed7953\"],[0.7777777777777778,\"#fb9f3a\"],[0.8888888888888888,\"#fdca26\"],[1.0,\"#f0f921\"]],\"diverging\":[[0,\"#8e0152\"],[0.1,\"#c51b7d\"],[0.2,\"#de77ae\"],[0.3,\"#f1b6da\"],[0.4,\"#fde0ef\"],[0.5,\"#f7f7f7\"],[0.6,\"#e6f5d0\"],[0.7,\"#b8e186\"],[0.8,\"#7fbc41\"],[0.9,\"#4d9221\"],[1,\"#276419\"]]},\"xaxis\":{\"gridcolor\":\"white\",\"linecolor\":\"white\",\"ticks\":\"\",\"title\":{\"standoff\":15},\"zerolinecolor\":\"white\",\"automargin\":true,\"zerolinewidth\":2},\"yaxis\":{\"gridcolor\":\"white\",\"linecolor\":\"white\",\"ticks\":\"\",\"title\":{\"standoff\":15},\"zerolinecolor\":\"white\",\"automargin\":true,\"zerolinewidth\":2},\"scene\":{\"xaxis\":{\"backgroundcolor\":\"#E5ECF6\",\"gridcolor\":\"white\",\"linecolor\":\"white\",\"showbackground\":true,\"ticks\":\"\",\"zerolinecolor\":\"white\",\"gridwidth\":2},\"yaxis\":{\"backgroundcolor\":\"#E5ECF6\",\"gridcolor\":\"white\",\"linecolor\":\"white\",\"showbackground\":true,\"ticks\":\"\",\"zerolinecolor\":\"white\",\"gridwidth\":2},\"zaxis\":{\"backgroundcolor\":\"#E5ECF6\",\"gridcolor\":\"white\",\"linecolor\":\"white\",\"showbackground\":true,\"ticks\":\"\",\"zerolinecolor\":\"white\",\"gridwidth\":2}},\"shapedefaults\":{\"line\":{\"color\":\"#2a3f5f\"}},\"annotationdefaults\":{\"arrowcolor\":\"#2a3f5f\",\"arrowhead\":0,\"arrowwidth\":1},\"geo\":{\"bgcolor\":\"white\",\"landcolor\":\"#E5ECF6\",\"subunitcolor\":\"white\",\"showland\":true,\"showlakes\":true,\"lakecolor\":\"white\"},\"title\":{\"x\":0.05},\"mapbox\":{\"style\":\"light\"}}},\"xaxis\":{\"anchor\":\"y\",\"domain\":[0.0,1.0],\"title\":{\"text\":\"GDP ($ per capita)\"}},\"yaxis\":{\"anchor\":\"x\",\"domain\":[0.0,1.0],\"title\":{\"text\":\"Literacy (%)\"}},\"legend\":{\"title\":{\"text\":\"Region\"},\"tracegroupgap\":0},\"margin\":{\"t\":60}},                        {\"responsive\": true}                    ).then(function(){\n",
       "                            \n",
       "var gd = document.getElementById('fe50115e-23ea-414d-8732-ef09eb740e6f');\n",
       "var x = new MutationObserver(function (mutations, observer) {{\n",
       "        var display = window.getComputedStyle(gd).display;\n",
       "        if (!display || display === 'none') {{\n",
       "            console.log([gd, 'removed!']);\n",
       "            Plotly.purge(gd);\n",
       "            observer.disconnect();\n",
       "        }}\n",
       "}});\n",
       "\n",
       "// Listen for the removal of the full notebook cells\n",
       "var notebookContainer = gd.closest('#notebook-container');\n",
       "if (notebookContainer) {{\n",
       "    x.observe(notebookContainer, {childList: true});\n",
       "}}\n",
       "\n",
       "// Listen for the clearing of the current output cell\n",
       "var outputEl = gd.closest('.output');\n",
       "if (outputEl) {{\n",
       "    x.observe(outputEl, {childList: true});\n",
       "}}\n",
       "\n",
       "                        })                };                });            </script>        </div>"
      ]
     },
     "metadata": {},
     "output_type": "display_data"
    }
   ],
   "source": [
    "px.scatter(df, x=\"GDP ($ per capita)\", y=\"Literacy (%)\",color=\"Region\")"
   ]
  },
  {
   "cell_type": "code",
   "execution_count": 12,
   "id": "edcd689d",
   "metadata": {
    "execution": {
     "iopub.execute_input": "2023-01-16T10:47:31.548483Z",
     "iopub.status.busy": "2023-01-16T10:47:31.548041Z",
     "iopub.status.idle": "2023-01-16T10:47:31.580854Z",
     "shell.execute_reply": "2023-01-16T10:47:31.579202Z"
    },
    "papermill": {
     "duration": 0.053914,
     "end_time": "2023-01-16T10:47:31.584001",
     "exception": false,
     "start_time": "2023-01-16T10:47:31.530087",
     "status": "completed"
    },
    "tags": []
   },
   "outputs": [
    {
     "data": {
      "text/html": [
       "<div>\n",
       "<style scoped>\n",
       "    .dataframe tbody tr th:only-of-type {\n",
       "        vertical-align: middle;\n",
       "    }\n",
       "\n",
       "    .dataframe tbody tr th {\n",
       "        vertical-align: top;\n",
       "    }\n",
       "\n",
       "    .dataframe thead th {\n",
       "        text-align: right;\n",
       "    }\n",
       "</style>\n",
       "<table border=\"1\" class=\"dataframe\">\n",
       "  <thead>\n",
       "    <tr style=\"text-align: right;\">\n",
       "      <th></th>\n",
       "      <th>Population</th>\n",
       "      <th>Area (sq. mi.)</th>\n",
       "      <th>Pop. Density (per sq. mi.)</th>\n",
       "      <th>Coastline (coast/area ratio)</th>\n",
       "      <th>Net migration</th>\n",
       "      <th>Infant mortality (per 1000 births)</th>\n",
       "      <th>GDP ($ per capita)</th>\n",
       "      <th>Literacy (%)</th>\n",
       "      <th>Phones (per 1000)</th>\n",
       "      <th>Arable (%)</th>\n",
       "      <th>Crops (%)</th>\n",
       "      <th>Other (%)</th>\n",
       "      <th>Climate</th>\n",
       "      <th>Birthrate</th>\n",
       "      <th>Deathrate</th>\n",
       "      <th>Agriculture</th>\n",
       "      <th>Industry</th>\n",
       "      <th>Service</th>\n",
       "    </tr>\n",
       "  </thead>\n",
       "  <tbody>\n",
       "    <tr>\n",
       "      <th>Population</th>\n",
       "      <td>1.000000</td>\n",
       "      <td>0.469985</td>\n",
       "      <td>-0.028190</td>\n",
       "      <td>-0.068199</td>\n",
       "      <td>0.000011</td>\n",
       "      <td>0.023003</td>\n",
       "      <td>-0.039324</td>\n",
       "      <td>-0.043481</td>\n",
       "      <td>-0.030819</td>\n",
       "      <td>0.188251</td>\n",
       "      <td>-0.060757</td>\n",
       "      <td>-0.120606</td>\n",
       "      <td>-0.026546</td>\n",
       "      <td>-0.045090</td>\n",
       "      <td>-0.028367</td>\n",
       "      <td>0.000376</td>\n",
       "      <td>0.099333</td>\n",
       "      <td>-0.080852</td>\n",
       "    </tr>\n",
       "    <tr>\n",
       "      <th>Area (sq. mi.)</th>\n",
       "      <td>0.469985</td>\n",
       "      <td>1.000000</td>\n",
       "      <td>-0.066917</td>\n",
       "      <td>-0.095627</td>\n",
       "      <td>0.047470</td>\n",
       "      <td>-0.007163</td>\n",
       "      <td>0.072185</td>\n",
       "      <td>0.035994</td>\n",
       "      <td>0.053403</td>\n",
       "      <td>-0.079714</td>\n",
       "      <td>-0.143916</td>\n",
       "      <td>0.138974</td>\n",
       "      <td>-0.117134</td>\n",
       "      <td>-0.066423</td>\n",
       "      <td>0.040079</td>\n",
       "      <td>-0.050640</td>\n",
       "      <td>0.121565</td>\n",
       "      <td>-0.054369</td>\n",
       "    </tr>\n",
       "    <tr>\n",
       "      <th>Pop. Density (per sq. mi.)</th>\n",
       "      <td>-0.028190</td>\n",
       "      <td>-0.066917</td>\n",
       "      <td>1.000000</td>\n",
       "      <td>0.241690</td>\n",
       "      <td>0.178038</td>\n",
       "      <td>-0.144238</td>\n",
       "      <td>0.195773</td>\n",
       "      <td>0.097230</td>\n",
       "      <td>0.280172</td>\n",
       "      <td>-0.081015</td>\n",
       "      <td>-0.031661</td>\n",
       "      <td>0.081859</td>\n",
       "      <td>0.009064</td>\n",
       "      <td>-0.159192</td>\n",
       "      <td>-0.070045</td>\n",
       "      <td>-0.107142</td>\n",
       "      <td>-0.139803</td>\n",
       "      <td>0.248774</td>\n",
       "    </tr>\n",
       "    <tr>\n",
       "      <th>Coastline (coast/area ratio)</th>\n",
       "      <td>-0.068199</td>\n",
       "      <td>-0.095627</td>\n",
       "      <td>0.241690</td>\n",
       "      <td>1.000000</td>\n",
       "      <td>-0.134145</td>\n",
       "      <td>-0.136577</td>\n",
       "      <td>0.049118</td>\n",
       "      <td>0.117095</td>\n",
       "      <td>0.152129</td>\n",
       "      <td>-0.120772</td>\n",
       "      <td>0.341820</td>\n",
       "      <td>-0.079494</td>\n",
       "      <td>-0.032579</td>\n",
       "      <td>-0.075765</td>\n",
       "      <td>-0.161866</td>\n",
       "      <td>-0.030250</td>\n",
       "      <td>-0.199995</td>\n",
       "      <td>0.196528</td>\n",
       "    </tr>\n",
       "    <tr>\n",
       "      <th>Net migration</th>\n",
       "      <td>0.000011</td>\n",
       "      <td>0.047470</td>\n",
       "      <td>0.178038</td>\n",
       "      <td>-0.134145</td>\n",
       "      <td>1.000000</td>\n",
       "      <td>-0.025015</td>\n",
       "      <td>0.382461</td>\n",
       "      <td>-0.008761</td>\n",
       "      <td>0.239601</td>\n",
       "      <td>-0.058170</td>\n",
       "      <td>-0.347968</td>\n",
       "      <td>0.225299</td>\n",
       "      <td>-0.015170</td>\n",
       "      <td>-0.066537</td>\n",
       "      <td>0.033611</td>\n",
       "      <td>-0.116719</td>\n",
       "      <td>-0.026324</td>\n",
       "      <td>0.127134</td>\n",
       "    </tr>\n",
       "    <tr>\n",
       "      <th>Infant mortality (per 1000 births)</th>\n",
       "      <td>0.023003</td>\n",
       "      <td>-0.007163</td>\n",
       "      <td>-0.144238</td>\n",
       "      <td>-0.136577</td>\n",
       "      <td>-0.025015</td>\n",
       "      <td>1.000000</td>\n",
       "      <td>-0.600774</td>\n",
       "      <td>-0.765536</td>\n",
       "      <td>-0.672312</td>\n",
       "      <td>-0.113859</td>\n",
       "      <td>-0.062366</td>\n",
       "      <td>0.124100</td>\n",
       "      <td>-0.374406</td>\n",
       "      <td>0.845764</td>\n",
       "      <td>0.656338</td>\n",
       "      <td>0.709475</td>\n",
       "      <td>0.003322</td>\n",
       "      <td>-0.633982</td>\n",
       "    </tr>\n",
       "    <tr>\n",
       "      <th>GDP ($ per capita)</th>\n",
       "      <td>-0.039324</td>\n",
       "      <td>0.072185</td>\n",
       "      <td>0.195773</td>\n",
       "      <td>0.049118</td>\n",
       "      <td>0.382461</td>\n",
       "      <td>-0.600774</td>\n",
       "      <td>1.000000</td>\n",
       "      <td>0.513144</td>\n",
       "      <td>0.834499</td>\n",
       "      <td>0.019768</td>\n",
       "      <td>-0.219229</td>\n",
       "      <td>0.097828</td>\n",
       "      <td>0.340791</td>\n",
       "      <td>-0.650137</td>\n",
       "      <td>-0.201661</td>\n",
       "      <td>-0.586769</td>\n",
       "      <td>-0.028926</td>\n",
       "      <td>0.550216</td>\n",
       "    </tr>\n",
       "    <tr>\n",
       "      <th>Literacy (%)</th>\n",
       "      <td>-0.043481</td>\n",
       "      <td>0.035994</td>\n",
       "      <td>0.097230</td>\n",
       "      <td>0.117095</td>\n",
       "      <td>-0.008761</td>\n",
       "      <td>-0.765536</td>\n",
       "      <td>0.513144</td>\n",
       "      <td>1.000000</td>\n",
       "      <td>0.601935</td>\n",
       "      <td>0.105021</td>\n",
       "      <td>0.042825</td>\n",
       "      <td>-0.107563</td>\n",
       "      <td>0.392081</td>\n",
       "      <td>-0.790846</td>\n",
       "      <td>-0.393946</td>\n",
       "      <td>-0.609638</td>\n",
       "      <td>0.064733</td>\n",
       "      <td>0.494607</td>\n",
       "    </tr>\n",
       "    <tr>\n",
       "      <th>Phones (per 1000)</th>\n",
       "      <td>-0.030819</td>\n",
       "      <td>0.053403</td>\n",
       "      <td>0.280172</td>\n",
       "      <td>0.152129</td>\n",
       "      <td>0.239601</td>\n",
       "      <td>-0.672312</td>\n",
       "      <td>0.834499</td>\n",
       "      <td>0.601935</td>\n",
       "      <td>1.000000</td>\n",
       "      <td>0.061022</td>\n",
       "      <td>-0.152420</td>\n",
       "      <td>0.029900</td>\n",
       "      <td>0.402161</td>\n",
       "      <td>-0.724614</td>\n",
       "      <td>-0.260309</td>\n",
       "      <td>-0.601739</td>\n",
       "      <td>-0.152452</td>\n",
       "      <td>0.683934</td>\n",
       "    </tr>\n",
       "    <tr>\n",
       "      <th>Arable (%)</th>\n",
       "      <td>0.188251</td>\n",
       "      <td>-0.079714</td>\n",
       "      <td>-0.081015</td>\n",
       "      <td>-0.120772</td>\n",
       "      <td>-0.058170</td>\n",
       "      <td>-0.113859</td>\n",
       "      <td>0.019768</td>\n",
       "      <td>0.105021</td>\n",
       "      <td>0.061022</td>\n",
       "      <td>1.000000</td>\n",
       "      <td>0.094361</td>\n",
       "      <td>-0.856763</td>\n",
       "      <td>0.380031</td>\n",
       "      <td>-0.186823</td>\n",
       "      <td>0.053472</td>\n",
       "      <td>-0.034822</td>\n",
       "      <td>-0.063618</td>\n",
       "      <td>0.091126</td>\n",
       "    </tr>\n",
       "    <tr>\n",
       "      <th>Crops (%)</th>\n",
       "      <td>-0.060757</td>\n",
       "      <td>-0.143916</td>\n",
       "      <td>-0.031661</td>\n",
       "      <td>0.341820</td>\n",
       "      <td>-0.347968</td>\n",
       "      <td>-0.062366</td>\n",
       "      <td>-0.219229</td>\n",
       "      <td>0.042825</td>\n",
       "      <td>-0.152420</td>\n",
       "      <td>0.094361</td>\n",
       "      <td>1.000000</td>\n",
       "      <td>-0.594254</td>\n",
       "      <td>0.004343</td>\n",
       "      <td>0.120687</td>\n",
       "      <td>-0.204961</td>\n",
       "      <td>0.052941</td>\n",
       "      <td>-0.117715</td>\n",
       "      <td>0.053946</td>\n",
       "    </tr>\n",
       "    <tr>\n",
       "      <th>Other (%)</th>\n",
       "      <td>-0.120606</td>\n",
       "      <td>0.138974</td>\n",
       "      <td>0.081859</td>\n",
       "      <td>-0.079494</td>\n",
       "      <td>0.225299</td>\n",
       "      <td>0.124100</td>\n",
       "      <td>0.097828</td>\n",
       "      <td>-0.107563</td>\n",
       "      <td>0.029900</td>\n",
       "      <td>-0.856763</td>\n",
       "      <td>-0.594254</td>\n",
       "      <td>1.000000</td>\n",
       "      <td>-0.305629</td>\n",
       "      <td>0.088586</td>\n",
       "      <td>0.062145</td>\n",
       "      <td>0.001078</td>\n",
       "      <td>0.112091</td>\n",
       "      <td>-0.101518</td>\n",
       "    </tr>\n",
       "    <tr>\n",
       "      <th>Climate</th>\n",
       "      <td>-0.026546</td>\n",
       "      <td>-0.117134</td>\n",
       "      <td>0.009064</td>\n",
       "      <td>-0.032579</td>\n",
       "      <td>-0.015170</td>\n",
       "      <td>-0.374406</td>\n",
       "      <td>0.340791</td>\n",
       "      <td>0.392081</td>\n",
       "      <td>0.402161</td>\n",
       "      <td>0.380031</td>\n",
       "      <td>0.004343</td>\n",
       "      <td>-0.305629</td>\n",
       "      <td>1.000000</td>\n",
       "      <td>-0.455097</td>\n",
       "      <td>0.011131</td>\n",
       "      <td>-0.210642</td>\n",
       "      <td>-0.094945</td>\n",
       "      <td>0.272518</td>\n",
       "    </tr>\n",
       "    <tr>\n",
       "      <th>Birthrate</th>\n",
       "      <td>-0.045090</td>\n",
       "      <td>-0.066423</td>\n",
       "      <td>-0.159192</td>\n",
       "      <td>-0.075765</td>\n",
       "      <td>-0.066537</td>\n",
       "      <td>0.845764</td>\n",
       "      <td>-0.650137</td>\n",
       "      <td>-0.790846</td>\n",
       "      <td>-0.724614</td>\n",
       "      <td>-0.186823</td>\n",
       "      <td>0.120687</td>\n",
       "      <td>0.088586</td>\n",
       "      <td>-0.455097</td>\n",
       "      <td>1.000000</td>\n",
       "      <td>0.395302</td>\n",
       "      <td>0.678207</td>\n",
       "      <td>-0.056953</td>\n",
       "      <td>-0.557694</td>\n",
       "    </tr>\n",
       "    <tr>\n",
       "      <th>Deathrate</th>\n",
       "      <td>-0.028367</td>\n",
       "      <td>0.040079</td>\n",
       "      <td>-0.070045</td>\n",
       "      <td>-0.161866</td>\n",
       "      <td>0.033611</td>\n",
       "      <td>0.656338</td>\n",
       "      <td>-0.201661</td>\n",
       "      <td>-0.393946</td>\n",
       "      <td>-0.260309</td>\n",
       "      <td>0.053472</td>\n",
       "      <td>-0.204961</td>\n",
       "      <td>0.062145</td>\n",
       "      <td>0.011131</td>\n",
       "      <td>0.395302</td>\n",
       "      <td>1.000000</td>\n",
       "      <td>0.382528</td>\n",
       "      <td>0.026864</td>\n",
       "      <td>-0.359717</td>\n",
       "    </tr>\n",
       "    <tr>\n",
       "      <th>Agriculture</th>\n",
       "      <td>0.000376</td>\n",
       "      <td>-0.050640</td>\n",
       "      <td>-0.107142</td>\n",
       "      <td>-0.030250</td>\n",
       "      <td>-0.116719</td>\n",
       "      <td>0.709475</td>\n",
       "      <td>-0.586769</td>\n",
       "      <td>-0.609638</td>\n",
       "      <td>-0.601739</td>\n",
       "      <td>-0.034822</td>\n",
       "      <td>0.052941</td>\n",
       "      <td>0.001078</td>\n",
       "      <td>-0.210642</td>\n",
       "      <td>0.678207</td>\n",
       "      <td>0.382528</td>\n",
       "      <td>1.000000</td>\n",
       "      <td>-0.322909</td>\n",
       "      <td>-0.617039</td>\n",
       "    </tr>\n",
       "    <tr>\n",
       "      <th>Industry</th>\n",
       "      <td>0.099333</td>\n",
       "      <td>0.121565</td>\n",
       "      <td>-0.139803</td>\n",
       "      <td>-0.199995</td>\n",
       "      <td>-0.026324</td>\n",
       "      <td>0.003322</td>\n",
       "      <td>-0.028926</td>\n",
       "      <td>0.064733</td>\n",
       "      <td>-0.152452</td>\n",
       "      <td>-0.063618</td>\n",
       "      <td>-0.117715</td>\n",
       "      <td>0.112091</td>\n",
       "      <td>-0.094945</td>\n",
       "      <td>-0.056953</td>\n",
       "      <td>0.026864</td>\n",
       "      <td>-0.322909</td>\n",
       "      <td>1.000000</td>\n",
       "      <td>-0.544594</td>\n",
       "    </tr>\n",
       "    <tr>\n",
       "      <th>Service</th>\n",
       "      <td>-0.080852</td>\n",
       "      <td>-0.054369</td>\n",
       "      <td>0.248774</td>\n",
       "      <td>0.196528</td>\n",
       "      <td>0.127134</td>\n",
       "      <td>-0.633982</td>\n",
       "      <td>0.550216</td>\n",
       "      <td>0.494607</td>\n",
       "      <td>0.683934</td>\n",
       "      <td>0.091126</td>\n",
       "      <td>0.053946</td>\n",
       "      <td>-0.101518</td>\n",
       "      <td>0.272518</td>\n",
       "      <td>-0.557694</td>\n",
       "      <td>-0.359717</td>\n",
       "      <td>-0.617039</td>\n",
       "      <td>-0.544594</td>\n",
       "      <td>1.000000</td>\n",
       "    </tr>\n",
       "  </tbody>\n",
       "</table>\n",
       "</div>"
      ],
      "text/plain": [
       "                                    Population  Area (sq. mi.)  \\\n",
       "Population                            1.000000        0.469985   \n",
       "Area (sq. mi.)                        0.469985        1.000000   \n",
       "Pop. Density (per sq. mi.)           -0.028190       -0.066917   \n",
       "Coastline (coast/area ratio)         -0.068199       -0.095627   \n",
       "Net migration                         0.000011        0.047470   \n",
       "Infant mortality (per 1000 births)    0.023003       -0.007163   \n",
       "GDP ($ per capita)                   -0.039324        0.072185   \n",
       "Literacy (%)                         -0.043481        0.035994   \n",
       "Phones (per 1000)                    -0.030819        0.053403   \n",
       "Arable (%)                            0.188251       -0.079714   \n",
       "Crops (%)                            -0.060757       -0.143916   \n",
       "Other (%)                            -0.120606        0.138974   \n",
       "Climate                              -0.026546       -0.117134   \n",
       "Birthrate                            -0.045090       -0.066423   \n",
       "Deathrate                            -0.028367        0.040079   \n",
       "Agriculture                           0.000376       -0.050640   \n",
       "Industry                              0.099333        0.121565   \n",
       "Service                              -0.080852       -0.054369   \n",
       "\n",
       "                                    Pop. Density (per sq. mi.)  \\\n",
       "Population                                           -0.028190   \n",
       "Area (sq. mi.)                                       -0.066917   \n",
       "Pop. Density (per sq. mi.)                            1.000000   \n",
       "Coastline (coast/area ratio)                          0.241690   \n",
       "Net migration                                         0.178038   \n",
       "Infant mortality (per 1000 births)                   -0.144238   \n",
       "GDP ($ per capita)                                    0.195773   \n",
       "Literacy (%)                                          0.097230   \n",
       "Phones (per 1000)                                     0.280172   \n",
       "Arable (%)                                           -0.081015   \n",
       "Crops (%)                                            -0.031661   \n",
       "Other (%)                                             0.081859   \n",
       "Climate                                               0.009064   \n",
       "Birthrate                                            -0.159192   \n",
       "Deathrate                                            -0.070045   \n",
       "Agriculture                                          -0.107142   \n",
       "Industry                                             -0.139803   \n",
       "Service                                               0.248774   \n",
       "\n",
       "                                    Coastline (coast/area ratio)  \\\n",
       "Population                                             -0.068199   \n",
       "Area (sq. mi.)                                         -0.095627   \n",
       "Pop. Density (per sq. mi.)                              0.241690   \n",
       "Coastline (coast/area ratio)                            1.000000   \n",
       "Net migration                                          -0.134145   \n",
       "Infant mortality (per 1000 births)                     -0.136577   \n",
       "GDP ($ per capita)                                      0.049118   \n",
       "Literacy (%)                                            0.117095   \n",
       "Phones (per 1000)                                       0.152129   \n",
       "Arable (%)                                             -0.120772   \n",
       "Crops (%)                                               0.341820   \n",
       "Other (%)                                              -0.079494   \n",
       "Climate                                                -0.032579   \n",
       "Birthrate                                              -0.075765   \n",
       "Deathrate                                              -0.161866   \n",
       "Agriculture                                            -0.030250   \n",
       "Industry                                               -0.199995   \n",
       "Service                                                 0.196528   \n",
       "\n",
       "                                    Net migration  \\\n",
       "Population                               0.000011   \n",
       "Area (sq. mi.)                           0.047470   \n",
       "Pop. Density (per sq. mi.)               0.178038   \n",
       "Coastline (coast/area ratio)            -0.134145   \n",
       "Net migration                            1.000000   \n",
       "Infant mortality (per 1000 births)      -0.025015   \n",
       "GDP ($ per capita)                       0.382461   \n",
       "Literacy (%)                            -0.008761   \n",
       "Phones (per 1000)                        0.239601   \n",
       "Arable (%)                              -0.058170   \n",
       "Crops (%)                               -0.347968   \n",
       "Other (%)                                0.225299   \n",
       "Climate                                 -0.015170   \n",
       "Birthrate                               -0.066537   \n",
       "Deathrate                                0.033611   \n",
       "Agriculture                             -0.116719   \n",
       "Industry                                -0.026324   \n",
       "Service                                  0.127134   \n",
       "\n",
       "                                    Infant mortality (per 1000 births)  \\\n",
       "Population                                                    0.023003   \n",
       "Area (sq. mi.)                                               -0.007163   \n",
       "Pop. Density (per sq. mi.)                                   -0.144238   \n",
       "Coastline (coast/area ratio)                                 -0.136577   \n",
       "Net migration                                                -0.025015   \n",
       "Infant mortality (per 1000 births)                            1.000000   \n",
       "GDP ($ per capita)                                           -0.600774   \n",
       "Literacy (%)                                                 -0.765536   \n",
       "Phones (per 1000)                                            -0.672312   \n",
       "Arable (%)                                                   -0.113859   \n",
       "Crops (%)                                                    -0.062366   \n",
       "Other (%)                                                     0.124100   \n",
       "Climate                                                      -0.374406   \n",
       "Birthrate                                                     0.845764   \n",
       "Deathrate                                                     0.656338   \n",
       "Agriculture                                                   0.709475   \n",
       "Industry                                                      0.003322   \n",
       "Service                                                      -0.633982   \n",
       "\n",
       "                                    GDP ($ per capita)  Literacy (%)  \\\n",
       "Population                                   -0.039324     -0.043481   \n",
       "Area (sq. mi.)                                0.072185      0.035994   \n",
       "Pop. Density (per sq. mi.)                    0.195773      0.097230   \n",
       "Coastline (coast/area ratio)                  0.049118      0.117095   \n",
       "Net migration                                 0.382461     -0.008761   \n",
       "Infant mortality (per 1000 births)           -0.600774     -0.765536   \n",
       "GDP ($ per capita)                            1.000000      0.513144   \n",
       "Literacy (%)                                  0.513144      1.000000   \n",
       "Phones (per 1000)                             0.834499      0.601935   \n",
       "Arable (%)                                    0.019768      0.105021   \n",
       "Crops (%)                                    -0.219229      0.042825   \n",
       "Other (%)                                     0.097828     -0.107563   \n",
       "Climate                                       0.340791      0.392081   \n",
       "Birthrate                                    -0.650137     -0.790846   \n",
       "Deathrate                                    -0.201661     -0.393946   \n",
       "Agriculture                                  -0.586769     -0.609638   \n",
       "Industry                                     -0.028926      0.064733   \n",
       "Service                                       0.550216      0.494607   \n",
       "\n",
       "                                    Phones (per 1000)  Arable (%)  Crops (%)  \\\n",
       "Population                                  -0.030819    0.188251  -0.060757   \n",
       "Area (sq. mi.)                               0.053403   -0.079714  -0.143916   \n",
       "Pop. Density (per sq. mi.)                   0.280172   -0.081015  -0.031661   \n",
       "Coastline (coast/area ratio)                 0.152129   -0.120772   0.341820   \n",
       "Net migration                                0.239601   -0.058170  -0.347968   \n",
       "Infant mortality (per 1000 births)          -0.672312   -0.113859  -0.062366   \n",
       "GDP ($ per capita)                           0.834499    0.019768  -0.219229   \n",
       "Literacy (%)                                 0.601935    0.105021   0.042825   \n",
       "Phones (per 1000)                            1.000000    0.061022  -0.152420   \n",
       "Arable (%)                                   0.061022    1.000000   0.094361   \n",
       "Crops (%)                                   -0.152420    0.094361   1.000000   \n",
       "Other (%)                                    0.029900   -0.856763  -0.594254   \n",
       "Climate                                      0.402161    0.380031   0.004343   \n",
       "Birthrate                                   -0.724614   -0.186823   0.120687   \n",
       "Deathrate                                   -0.260309    0.053472  -0.204961   \n",
       "Agriculture                                 -0.601739   -0.034822   0.052941   \n",
       "Industry                                    -0.152452   -0.063618  -0.117715   \n",
       "Service                                      0.683934    0.091126   0.053946   \n",
       "\n",
       "                                    Other (%)   Climate  Birthrate  Deathrate  \\\n",
       "Population                          -0.120606 -0.026546  -0.045090  -0.028367   \n",
       "Area (sq. mi.)                       0.138974 -0.117134  -0.066423   0.040079   \n",
       "Pop. Density (per sq. mi.)           0.081859  0.009064  -0.159192  -0.070045   \n",
       "Coastline (coast/area ratio)        -0.079494 -0.032579  -0.075765  -0.161866   \n",
       "Net migration                        0.225299 -0.015170  -0.066537   0.033611   \n",
       "Infant mortality (per 1000 births)   0.124100 -0.374406   0.845764   0.656338   \n",
       "GDP ($ per capita)                   0.097828  0.340791  -0.650137  -0.201661   \n",
       "Literacy (%)                        -0.107563  0.392081  -0.790846  -0.393946   \n",
       "Phones (per 1000)                    0.029900  0.402161  -0.724614  -0.260309   \n",
       "Arable (%)                          -0.856763  0.380031  -0.186823   0.053472   \n",
       "Crops (%)                           -0.594254  0.004343   0.120687  -0.204961   \n",
       "Other (%)                            1.000000 -0.305629   0.088586   0.062145   \n",
       "Climate                             -0.305629  1.000000  -0.455097   0.011131   \n",
       "Birthrate                            0.088586 -0.455097   1.000000   0.395302   \n",
       "Deathrate                            0.062145  0.011131   0.395302   1.000000   \n",
       "Agriculture                          0.001078 -0.210642   0.678207   0.382528   \n",
       "Industry                             0.112091 -0.094945  -0.056953   0.026864   \n",
       "Service                             -0.101518  0.272518  -0.557694  -0.359717   \n",
       "\n",
       "                                    Agriculture  Industry   Service  \n",
       "Population                             0.000376  0.099333 -0.080852  \n",
       "Area (sq. mi.)                        -0.050640  0.121565 -0.054369  \n",
       "Pop. Density (per sq. mi.)            -0.107142 -0.139803  0.248774  \n",
       "Coastline (coast/area ratio)          -0.030250 -0.199995  0.196528  \n",
       "Net migration                         -0.116719 -0.026324  0.127134  \n",
       "Infant mortality (per 1000 births)     0.709475  0.003322 -0.633982  \n",
       "GDP ($ per capita)                    -0.586769 -0.028926  0.550216  \n",
       "Literacy (%)                          -0.609638  0.064733  0.494607  \n",
       "Phones (per 1000)                     -0.601739 -0.152452  0.683934  \n",
       "Arable (%)                            -0.034822 -0.063618  0.091126  \n",
       "Crops (%)                              0.052941 -0.117715  0.053946  \n",
       "Other (%)                              0.001078  0.112091 -0.101518  \n",
       "Climate                               -0.210642 -0.094945  0.272518  \n",
       "Birthrate                              0.678207 -0.056953 -0.557694  \n",
       "Deathrate                              0.382528  0.026864 -0.359717  \n",
       "Agriculture                            1.000000 -0.322909 -0.617039  \n",
       "Industry                              -0.322909  1.000000 -0.544594  \n",
       "Service                               -0.617039 -0.544594  1.000000  "
      ]
     },
     "execution_count": 12,
     "metadata": {},
     "output_type": "execute_result"
    }
   ],
   "source": [
    "df.corr()"
   ]
  },
  {
   "cell_type": "markdown",
   "id": "d9247ef5",
   "metadata": {
    "papermill": {
     "duration": 0.018735,
     "end_time": "2023-01-16T10:47:31.621574",
     "exception": false,
     "start_time": "2023-01-16T10:47:31.602839",
     "status": "completed"
    },
    "tags": []
   },
   "source": [
    "There are some extremely correlated values spaced by some unrelated values as well. We cant really make much out of this information at the moment."
   ]
  },
  {
   "cell_type": "code",
   "execution_count": 13,
   "id": "583d04f9",
   "metadata": {
    "execution": {
     "iopub.execute_input": "2023-01-16T10:47:31.660081Z",
     "iopub.status.busy": "2023-01-16T10:47:31.659580Z",
     "iopub.status.idle": "2023-01-16T10:47:31.745164Z",
     "shell.execute_reply": "2023-01-16T10:47:31.743559Z"
    },
    "papermill": {
     "duration": 0.108522,
     "end_time": "2023-01-16T10:47:31.748101",
     "exception": false,
     "start_time": "2023-01-16T10:47:31.639579",
     "status": "completed"
    },
    "tags": []
   },
   "outputs": [
    {
     "data": {
      "text/html": [
       "<div>                            <div id=\"008cdc16-07cf-4657-bc4c-897842cab185\" class=\"plotly-graph-div\" style=\"height:525px; width:100%;\"></div>            <script type=\"text/javascript\">                require([\"plotly\"], function(Plotly) {                    window.PLOTLYENV=window.PLOTLYENV || {};                                    if (document.getElementById(\"008cdc16-07cf-4657-bc4c-897842cab185\")) {                    Plotly.newPlot(                        \"008cdc16-07cf-4657-bc4c-897842cab185\",                        [{\"coloraxis\":\"coloraxis\",\"name\":\"0\",\"x\":[\"Population\",\"Area (sq. mi.)\",\"Pop. Density (per sq. mi.)\",\"Coastline (coast/area ratio)\",\"Net migration\",\"Infant mortality (per 1000 births)\",\"GDP ($ per capita)\",\"Literacy (%)\",\"Phones (per 1000)\",\"Arable (%)\",\"Crops (%)\",\"Other (%)\",\"Climate\",\"Birthrate\",\"Deathrate\",\"Agriculture\",\"Industry\",\"Service\"],\"y\":[\"Population\",\"Area (sq. mi.)\",\"Pop. Density (per sq. mi.)\",\"Coastline (coast/area ratio)\",\"Net migration\",\"Infant mortality (per 1000 births)\",\"GDP ($ per capita)\",\"Literacy (%)\",\"Phones (per 1000)\",\"Arable (%)\",\"Crops (%)\",\"Other (%)\",\"Climate\",\"Birthrate\",\"Deathrate\",\"Agriculture\",\"Industry\",\"Service\"],\"z\":[[1.0,0.46998508371848186,-0.02819047419507408,-0.06819893686118715,0.000010872400204545705,0.02300310950231963,-0.039324458526711785,-0.04348061300975948,-0.03081923153502611,0.1882505430961688,-0.060756798048541644,-0.12060647918396353,-0.02654558311037134,-0.04509010528487485,-0.028366526943703035,0.0003755568918902551,0.09933257607555246,-0.08085158842324276],[0.46998508371848186,1.0,-0.06691699842088768,-0.09562748502395603,0.047469732089592986,-0.007163472278858006,0.07218500629352362,0.03599370777163802,0.05340294971981432,-0.07971352618355784,-0.14391599499234695,0.1389735045403273,-0.11713354170350185,-0.06642304199971938,0.0400793497512714,-0.050639603272810016,0.12156500710136467,-0.05436860623011201],[-0.02819047419507408,-0.06691699842088768,1.0,0.24168951946874723,0.17803772708867113,-0.14423829310626843,0.19577308948697564,0.09723003514867182,0.2801720422367115,-0.08101450639861511,-0.03166126445830144,0.08185923213769916,0.009064413816212712,-0.15919171567673385,-0.0700449000671097,-0.10714247090280485,-0.13980308042863057,0.2487739806119698],[-0.06819893686118715,-0.09562748502395603,0.24168951946874723,1.0,-0.13414505840341817,-0.13657734206937297,0.04911763369498479,0.11709480317634524,0.15212933377407115,-0.12077223002721675,0.3418197404035365,-0.07949369735930434,-0.03257912659951228,-0.07576525019401059,-0.1618661455992485,-0.030250368651904242,-0.19999482993823384,0.1965276904952252],[0.000010872400204545705,0.047469732089592986,0.17803772708867113,-0.13414505840341817,1.0,-0.025015349816718123,0.3824610416038586,-0.008761077558985166,0.23960106910379844,-0.058170417489731785,-0.3479679496025002,0.22529872721457034,-0.015170350026929156,-0.06653669481728261,0.03361107923254408,-0.1167186194002731,-0.026324475860454367,0.12713432010433653],[0.02300310950231963,-0.007163472278858006,-0.14423829310626843,-0.13657734206937297,-0.025015349816718123,1.0,-0.6007739662612172,-0.765535813624182,-0.6723118556711709,-0.11385902614376124,-0.06236616623328474,0.12409985185514935,-0.37440631328655816,0.8457641944976058,0.6563380061326062,0.7094750445695917,0.0033221125196594035,-0.6339824701168721],[-0.039324458526711785,0.07218500629352362,0.19577308948697564,0.04911763369498479,0.3824610416038586,-0.6007739662612172,1.0,0.5131435413092702,0.8344992754140452,0.01976782610720278,-0.2192294812877413,0.09782843468033425,0.3407909718249441,-0.6501370279422617,-0.20166112976632136,-0.5867685622247594,-0.028926438471156335,0.5502157117307871],[-0.04348061300975948,0.03599370777163802,0.09723003514867182,0.11709480317634524,-0.008761077558985166,-0.765535813624182,0.5131435413092702,1.0,0.6019350049670078,0.1050210454304029,0.04282450395870595,-0.1075627300125681,0.39208075681428795,-0.7908461681610454,-0.3939455736134904,-0.6096380702072323,0.06473302880228393,0.49460745204737944],[-0.03081923153502611,0.05340294971981432,0.2801720422367115,0.15212933377407115,0.23960106910379844,-0.6723118556711709,0.8344992754140452,0.6019350049670078,1.0,0.061021552541231684,-0.152420371110048,0.02989978490350831,0.4021606835768684,-0.7246144139500449,-0.2603086801420499,-0.6017388807453026,-0.15245177869536872,0.6839341196035671],[0.1882505430961688,-0.07971352618355784,-0.08101450639861511,-0.12077223002721675,-0.058170417489731785,-0.11385902614376124,0.01976782610720278,0.1050210454304029,0.061021552541231684,1.0,0.09436067368120957,-0.8567625920902615,0.3800313625215571,-0.18682340859858557,0.053472484422623395,-0.03482232974250502,-0.06361796541061894,0.09112553240034121],[-0.060756798048541644,-0.14391599499234695,-0.03166126445830144,0.3418197404035365,-0.3479679496025002,-0.06236616623328474,-0.2192294812877413,0.04282450395870595,-0.152420371110048,0.09436067368120957,1.0,-0.5942544139586199,0.004342862596473501,0.12068701493729242,-0.20496071662180906,0.05294136815798626,-0.11771512820421817,0.05394581742819324],[-0.12060647918396353,0.1389735045403273,0.08185923213769916,-0.07949369735930434,0.22529872721457034,0.12409985185514935,0.09782843468033425,-0.1075627300125681,0.02989978490350831,-0.8567625920902615,-0.5942544139586199,1.0,-0.3056288847092089,0.08858641620176792,0.062144736681685006,0.001078239205513827,0.11209127045999248,-0.10151844746062141],[-0.02654558311037134,-0.11713354170350185,0.009064413816212712,-0.03257912659951228,-0.015170350026929156,-0.37440631328655816,0.3407909718249441,0.39208075681428795,0.4021606835768684,0.3800313625215571,0.004342862596473501,-0.3056288847092089,1.0,-0.4550973586169024,0.011130600721387584,-0.21064199498934758,-0.0949453087763923,0.27251790251906705],[-0.04509010528487485,-0.06642304199971938,-0.15919171567673385,-0.07576525019401059,-0.06653669481728261,0.8457641944976058,-0.6501370279422617,-0.7908461681610454,-0.7246144139500449,-0.18682340859858557,0.12068701493729242,0.08858641620176792,-0.4550973586169024,1.0,0.39530212704984324,0.6782071350548269,-0.05695301991166429,-0.557693910521749],[-0.028366526943703035,0.0400793497512714,-0.0700449000671097,-0.1618661455992485,0.03361107923254408,0.6563380061326062,-0.20166112976632136,-0.3939455736134904,-0.2603086801420499,0.053472484422623395,-0.20496071662180906,0.062144736681685006,0.011130600721387584,0.39530212704984324,1.0,0.3825284377639553,0.026864425606133568,-0.35971724661666216],[0.0003755568918902551,-0.050639603272810016,-0.10714247090280485,-0.030250368651904242,-0.1167186194002731,0.7094750445695917,-0.5867685622247594,-0.6096380702072323,-0.6017388807453026,-0.03482232974250502,0.05294136815798626,0.001078239205513827,-0.21064199498934758,0.6782071350548269,0.3825284377639553,1.0,-0.32290896708555417,-0.6170388230633272],[0.09933257607555246,0.12156500710136467,-0.13980308042863057,-0.19999482993823384,-0.026324475860454367,0.0033221125196594035,-0.028926438471156335,0.06473302880228393,-0.15245177869536872,-0.06361796541061894,-0.11771512820421817,0.11209127045999248,-0.0949453087763923,-0.05695301991166429,0.026864425606133568,-0.32290896708555417,1.0,-0.5445940699994943],[-0.08085158842324276,-0.05436860623011201,0.2487739806119698,0.1965276904952252,0.12713432010433653,-0.6339824701168721,0.5502157117307871,0.49460745204737944,0.6839341196035671,0.09112553240034121,0.05394581742819324,-0.10151844746062141,0.27251790251906705,-0.557693910521749,-0.35971724661666216,-0.6170388230633272,-0.5445940699994943,1.0]],\"type\":\"heatmap\",\"xaxis\":\"x\",\"yaxis\":\"y\",\"hovertemplate\":\"x: %{x}<br>y: %{y}<br>color: %{z}<extra></extra>\"}],                        {\"template\":{\"data\":{\"histogram2dcontour\":[{\"type\":\"histogram2dcontour\",\"colorbar\":{\"outlinewidth\":0,\"ticks\":\"\"},\"colorscale\":[[0.0,\"#0d0887\"],[0.1111111111111111,\"#46039f\"],[0.2222222222222222,\"#7201a8\"],[0.3333333333333333,\"#9c179e\"],[0.4444444444444444,\"#bd3786\"],[0.5555555555555556,\"#d8576b\"],[0.6666666666666666,\"#ed7953\"],[0.7777777777777778,\"#fb9f3a\"],[0.8888888888888888,\"#fdca26\"],[1.0,\"#f0f921\"]]}],\"choropleth\":[{\"type\":\"choropleth\",\"colorbar\":{\"outlinewidth\":0,\"ticks\":\"\"}}],\"histogram2d\":[{\"type\":\"histogram2d\",\"colorbar\":{\"outlinewidth\":0,\"ticks\":\"\"},\"colorscale\":[[0.0,\"#0d0887\"],[0.1111111111111111,\"#46039f\"],[0.2222222222222222,\"#7201a8\"],[0.3333333333333333,\"#9c179e\"],[0.4444444444444444,\"#bd3786\"],[0.5555555555555556,\"#d8576b\"],[0.6666666666666666,\"#ed7953\"],[0.7777777777777778,\"#fb9f3a\"],[0.8888888888888888,\"#fdca26\"],[1.0,\"#f0f921\"]]}],\"heatmap\":[{\"type\":\"heatmap\",\"colorbar\":{\"outlinewidth\":0,\"ticks\":\"\"},\"colorscale\":[[0.0,\"#0d0887\"],[0.1111111111111111,\"#46039f\"],[0.2222222222222222,\"#7201a8\"],[0.3333333333333333,\"#9c179e\"],[0.4444444444444444,\"#bd3786\"],[0.5555555555555556,\"#d8576b\"],[0.6666666666666666,\"#ed7953\"],[0.7777777777777778,\"#fb9f3a\"],[0.8888888888888888,\"#fdca26\"],[1.0,\"#f0f921\"]]}],\"heatmapgl\":[{\"type\":\"heatmapgl\",\"colorbar\":{\"outlinewidth\":0,\"ticks\":\"\"},\"colorscale\":[[0.0,\"#0d0887\"],[0.1111111111111111,\"#46039f\"],[0.2222222222222222,\"#7201a8\"],[0.3333333333333333,\"#9c179e\"],[0.4444444444444444,\"#bd3786\"],[0.5555555555555556,\"#d8576b\"],[0.6666666666666666,\"#ed7953\"],[0.7777777777777778,\"#fb9f3a\"],[0.8888888888888888,\"#fdca26\"],[1.0,\"#f0f921\"]]}],\"contourcarpet\":[{\"type\":\"contourcarpet\",\"colorbar\":{\"outlinewidth\":0,\"ticks\":\"\"}}],\"contour\":[{\"type\":\"contour\",\"colorbar\":{\"outlinewidth\":0,\"ticks\":\"\"},\"colorscale\":[[0.0,\"#0d0887\"],[0.1111111111111111,\"#46039f\"],[0.2222222222222222,\"#7201a8\"],[0.3333333333333333,\"#9c179e\"],[0.4444444444444444,\"#bd3786\"],[0.5555555555555556,\"#d8576b\"],[0.6666666666666666,\"#ed7953\"],[0.7777777777777778,\"#fb9f3a\"],[0.8888888888888888,\"#fdca26\"],[1.0,\"#f0f921\"]]}],\"surface\":[{\"type\":\"surface\",\"colorbar\":{\"outlinewidth\":0,\"ticks\":\"\"},\"colorscale\":[[0.0,\"#0d0887\"],[0.1111111111111111,\"#46039f\"],[0.2222222222222222,\"#7201a8\"],[0.3333333333333333,\"#9c179e\"],[0.4444444444444444,\"#bd3786\"],[0.5555555555555556,\"#d8576b\"],[0.6666666666666666,\"#ed7953\"],[0.7777777777777778,\"#fb9f3a\"],[0.8888888888888888,\"#fdca26\"],[1.0,\"#f0f921\"]]}],\"mesh3d\":[{\"type\":\"mesh3d\",\"colorbar\":{\"outlinewidth\":0,\"ticks\":\"\"}}],\"scatter\":[{\"fillpattern\":{\"fillmode\":\"overlay\",\"size\":10,\"solidity\":0.2},\"type\":\"scatter\"}],\"parcoords\":[{\"type\":\"parcoords\",\"line\":{\"colorbar\":{\"outlinewidth\":0,\"ticks\":\"\"}}}],\"scatterpolargl\":[{\"type\":\"scatterpolargl\",\"marker\":{\"colorbar\":{\"outlinewidth\":0,\"ticks\":\"\"}}}],\"bar\":[{\"error_x\":{\"color\":\"#2a3f5f\"},\"error_y\":{\"color\":\"#2a3f5f\"},\"marker\":{\"line\":{\"color\":\"#E5ECF6\",\"width\":0.5},\"pattern\":{\"fillmode\":\"overlay\",\"size\":10,\"solidity\":0.2}},\"type\":\"bar\"}],\"scattergeo\":[{\"type\":\"scattergeo\",\"marker\":{\"colorbar\":{\"outlinewidth\":0,\"ticks\":\"\"}}}],\"scatterpolar\":[{\"type\":\"scatterpolar\",\"marker\":{\"colorbar\":{\"outlinewidth\":0,\"ticks\":\"\"}}}],\"histogram\":[{\"marker\":{\"pattern\":{\"fillmode\":\"overlay\",\"size\":10,\"solidity\":0.2}},\"type\":\"histogram\"}],\"scattergl\":[{\"type\":\"scattergl\",\"marker\":{\"colorbar\":{\"outlinewidth\":0,\"ticks\":\"\"}}}],\"scatter3d\":[{\"type\":\"scatter3d\",\"line\":{\"colorbar\":{\"outlinewidth\":0,\"ticks\":\"\"}},\"marker\":{\"colorbar\":{\"outlinewidth\":0,\"ticks\":\"\"}}}],\"scattermapbox\":[{\"type\":\"scattermapbox\",\"marker\":{\"colorbar\":{\"outlinewidth\":0,\"ticks\":\"\"}}}],\"scatterternary\":[{\"type\":\"scatterternary\",\"marker\":{\"colorbar\":{\"outlinewidth\":0,\"ticks\":\"\"}}}],\"scattercarpet\":[{\"type\":\"scattercarpet\",\"marker\":{\"colorbar\":{\"outlinewidth\":0,\"ticks\":\"\"}}}],\"carpet\":[{\"aaxis\":{\"endlinecolor\":\"#2a3f5f\",\"gridcolor\":\"white\",\"linecolor\":\"white\",\"minorgridcolor\":\"white\",\"startlinecolor\":\"#2a3f5f\"},\"baxis\":{\"endlinecolor\":\"#2a3f5f\",\"gridcolor\":\"white\",\"linecolor\":\"white\",\"minorgridcolor\":\"white\",\"startlinecolor\":\"#2a3f5f\"},\"type\":\"carpet\"}],\"table\":[{\"cells\":{\"fill\":{\"color\":\"#EBF0F8\"},\"line\":{\"color\":\"white\"}},\"header\":{\"fill\":{\"color\":\"#C8D4E3\"},\"line\":{\"color\":\"white\"}},\"type\":\"table\"}],\"barpolar\":[{\"marker\":{\"line\":{\"color\":\"#E5ECF6\",\"width\":0.5},\"pattern\":{\"fillmode\":\"overlay\",\"size\":10,\"solidity\":0.2}},\"type\":\"barpolar\"}],\"pie\":[{\"automargin\":true,\"type\":\"pie\"}]},\"layout\":{\"autotypenumbers\":\"strict\",\"colorway\":[\"#636efa\",\"#EF553B\",\"#00cc96\",\"#ab63fa\",\"#FFA15A\",\"#19d3f3\",\"#FF6692\",\"#B6E880\",\"#FF97FF\",\"#FECB52\"],\"font\":{\"color\":\"#2a3f5f\"},\"hovermode\":\"closest\",\"hoverlabel\":{\"align\":\"left\"},\"paper_bgcolor\":\"white\",\"plot_bgcolor\":\"#E5ECF6\",\"polar\":{\"bgcolor\":\"#E5ECF6\",\"angularaxis\":{\"gridcolor\":\"white\",\"linecolor\":\"white\",\"ticks\":\"\"},\"radialaxis\":{\"gridcolor\":\"white\",\"linecolor\":\"white\",\"ticks\":\"\"}},\"ternary\":{\"bgcolor\":\"#E5ECF6\",\"aaxis\":{\"gridcolor\":\"white\",\"linecolor\":\"white\",\"ticks\":\"\"},\"baxis\":{\"gridcolor\":\"white\",\"linecolor\":\"white\",\"ticks\":\"\"},\"caxis\":{\"gridcolor\":\"white\",\"linecolor\":\"white\",\"ticks\":\"\"}},\"coloraxis\":{\"colorbar\":{\"outlinewidth\":0,\"ticks\":\"\"}},\"colorscale\":{\"sequential\":[[0.0,\"#0d0887\"],[0.1111111111111111,\"#46039f\"],[0.2222222222222222,\"#7201a8\"],[0.3333333333333333,\"#9c179e\"],[0.4444444444444444,\"#bd3786\"],[0.5555555555555556,\"#d8576b\"],[0.6666666666666666,\"#ed7953\"],[0.7777777777777778,\"#fb9f3a\"],[0.8888888888888888,\"#fdca26\"],[1.0,\"#f0f921\"]],\"sequentialminus\":[[0.0,\"#0d0887\"],[0.1111111111111111,\"#46039f\"],[0.2222222222222222,\"#7201a8\"],[0.3333333333333333,\"#9c179e\"],[0.4444444444444444,\"#bd3786\"],[0.5555555555555556,\"#d8576b\"],[0.6666666666666666,\"#ed7953\"],[0.7777777777777778,\"#fb9f3a\"],[0.8888888888888888,\"#fdca26\"],[1.0,\"#f0f921\"]],\"diverging\":[[0,\"#8e0152\"],[0.1,\"#c51b7d\"],[0.2,\"#de77ae\"],[0.3,\"#f1b6da\"],[0.4,\"#fde0ef\"],[0.5,\"#f7f7f7\"],[0.6,\"#e6f5d0\"],[0.7,\"#b8e186\"],[0.8,\"#7fbc41\"],[0.9,\"#4d9221\"],[1,\"#276419\"]]},\"xaxis\":{\"gridcolor\":\"white\",\"linecolor\":\"white\",\"ticks\":\"\",\"title\":{\"standoff\":15},\"zerolinecolor\":\"white\",\"automargin\":true,\"zerolinewidth\":2},\"yaxis\":{\"gridcolor\":\"white\",\"linecolor\":\"white\",\"ticks\":\"\",\"title\":{\"standoff\":15},\"zerolinecolor\":\"white\",\"automargin\":true,\"zerolinewidth\":2},\"scene\":{\"xaxis\":{\"backgroundcolor\":\"#E5ECF6\",\"gridcolor\":\"white\",\"linecolor\":\"white\",\"showbackground\":true,\"ticks\":\"\",\"zerolinecolor\":\"white\",\"gridwidth\":2},\"yaxis\":{\"backgroundcolor\":\"#E5ECF6\",\"gridcolor\":\"white\",\"linecolor\":\"white\",\"showbackground\":true,\"ticks\":\"\",\"zerolinecolor\":\"white\",\"gridwidth\":2},\"zaxis\":{\"backgroundcolor\":\"#E5ECF6\",\"gridcolor\":\"white\",\"linecolor\":\"white\",\"showbackground\":true,\"ticks\":\"\",\"zerolinecolor\":\"white\",\"gridwidth\":2}},\"shapedefaults\":{\"line\":{\"color\":\"#2a3f5f\"}},\"annotationdefaults\":{\"arrowcolor\":\"#2a3f5f\",\"arrowhead\":0,\"arrowwidth\":1},\"geo\":{\"bgcolor\":\"white\",\"landcolor\":\"#E5ECF6\",\"subunitcolor\":\"white\",\"showland\":true,\"showlakes\":true,\"lakecolor\":\"white\"},\"title\":{\"x\":0.05},\"mapbox\":{\"style\":\"light\"}}},\"xaxis\":{\"anchor\":\"y\",\"domain\":[0.0,1.0],\"scaleanchor\":\"y\",\"constrain\":\"domain\"},\"yaxis\":{\"anchor\":\"x\",\"domain\":[0.0,1.0],\"autorange\":\"reversed\",\"constrain\":\"domain\"},\"coloraxis\":{\"colorscale\":[[0.0,\"#0d0887\"],[0.1111111111111111,\"#46039f\"],[0.2222222222222222,\"#7201a8\"],[0.3333333333333333,\"#9c179e\"],[0.4444444444444444,\"#bd3786\"],[0.5555555555555556,\"#d8576b\"],[0.6666666666666666,\"#ed7953\"],[0.7777777777777778,\"#fb9f3a\"],[0.8888888888888888,\"#fdca26\"],[1.0,\"#f0f921\"]]},\"margin\":{\"t\":60}},                        {\"responsive\": true}                    ).then(function(){\n",
       "                            \n",
       "var gd = document.getElementById('008cdc16-07cf-4657-bc4c-897842cab185');\n",
       "var x = new MutationObserver(function (mutations, observer) {{\n",
       "        var display = window.getComputedStyle(gd).display;\n",
       "        if (!display || display === 'none') {{\n",
       "            console.log([gd, 'removed!']);\n",
       "            Plotly.purge(gd);\n",
       "            observer.disconnect();\n",
       "        }}\n",
       "}});\n",
       "\n",
       "// Listen for the removal of the full notebook cells\n",
       "var notebookContainer = gd.closest('#notebook-container');\n",
       "if (notebookContainer) {{\n",
       "    x.observe(notebookContainer, {childList: true});\n",
       "}}\n",
       "\n",
       "// Listen for the clearing of the current output cell\n",
       "var outputEl = gd.closest('.output');\n",
       "if (outputEl) {{\n",
       "    x.observe(outputEl, {childList: true});\n",
       "}}\n",
       "\n",
       "                        })                };                });            </script>        </div>"
      ]
     },
     "metadata": {},
     "output_type": "display_data"
    }
   ],
   "source": [
    "px.imshow(df.corr())"
   ]
  },
  {
   "cell_type": "markdown",
   "id": "9b97484b",
   "metadata": {
    "papermill": {
     "duration": 0.018437,
     "end_time": "2023-01-16T10:47:31.785939",
     "exception": false,
     "start_time": "2023-01-16T10:47:31.767502",
     "status": "completed"
    },
    "tags": []
   },
   "source": [
    "# Dendogram  \n",
    "A dendrogram is a graphical representation of a hierarchical tree structure. It is commonly used to visualize the results of hierarchical clustering, a method of grouping similar objects based on their similarity or distance. In a dendrogram, each leaf represents a single object and each branch represents a group of objects that are more similar to each other than to objects in other branches. The length of the branches and the position of the branches on the tree can be used to represent the degree of similarity or distance between the objects.  \n",
    "We'll go ahead and create a dendogram for the correlation matrix"
   ]
  },
  {
   "cell_type": "code",
   "execution_count": 14,
   "id": "7e952a65",
   "metadata": {
    "execution": {
     "iopub.execute_input": "2023-01-16T10:47:31.826667Z",
     "iopub.status.busy": "2023-01-16T10:47:31.825847Z",
     "iopub.status.idle": "2023-01-16T10:47:31.872910Z",
     "shell.execute_reply": "2023-01-16T10:47:31.871607Z"
    },
    "papermill": {
     "duration": 0.0712,
     "end_time": "2023-01-16T10:47:31.875926",
     "exception": false,
     "start_time": "2023-01-16T10:47:31.804726",
     "status": "completed"
    },
    "tags": []
   },
   "outputs": [
    {
     "data": {
      "text/html": [
       "<div>                            <div id=\"79a7d7f5-439a-4713-90a5-d1b169dfe6bd\" class=\"plotly-graph-div\" style=\"height:infpx; width:infpx;\"></div>            <script type=\"text/javascript\">                require([\"plotly\"], function(Plotly) {                    window.PLOTLYENV=window.PLOTLYENV || {};                                    if (document.getElementById(\"79a7d7f5-439a-4713-90a5-d1b169dfe6bd\")) {                    Plotly.newPlot(                        \"79a7d7f5-439a-4713-90a5-d1b169dfe6bd\",                        [{\"hoverinfo\":\"text\",\"marker\":{\"color\":\"rgb(61,153,112)\"},\"mode\":\"lines\",\"x\":[25.0,25.0,35.0,35.0],\"xaxis\":\"x\",\"y\":[0.0,0.4040380702500136,0.4040380702500136,0.0],\"yaxis\":\"y\",\"type\":\"scatter\"},{\"hoverinfo\":\"text\",\"marker\":{\"color\":\"rgb(61,153,112)\"},\"mode\":\"lines\",\"x\":[15.0,15.0,30.0,30.0],\"xaxis\":\"x\",\"y\":[0.0,0.9559920615447448,0.9559920615447448,0.4040380702500136],\"yaxis\":\"y\",\"type\":\"scatter\"},{\"hoverinfo\":\"text\",\"marker\":{\"color\":\"rgb(61,153,112)\"},\"mode\":\"lines\",\"x\":[5.0,5.0,22.5,22.5],\"xaxis\":\"x\",\"y\":[0.0,1.017382328340397,1.017382328340397,0.9559920615447448],\"yaxis\":\"y\",\"type\":\"scatter\"},{\"hoverinfo\":\"text\",\"marker\":{\"color\":\"rgb(61,153,112)\"},\"mode\":\"lines\",\"x\":[45.0,45.0,55.0,55.0],\"xaxis\":\"x\",\"y\":[0.0,1.286131213050305,1.286131213050305,0.0],\"yaxis\":\"y\",\"type\":\"scatter\"},{\"hoverinfo\":\"text\",\"marker\":{\"color\":\"rgb(61,153,112)\"},\"mode\":\"lines\",\"x\":[75.0,75.0,85.0,85.0],\"xaxis\":\"x\",\"y\":[0.0,1.2185247681656215,1.2185247681656215,0.0],\"yaxis\":\"y\",\"type\":\"scatter\"},{\"hoverinfo\":\"text\",\"marker\":{\"color\":\"rgb(61,153,112)\"},\"mode\":\"lines\",\"x\":[65.0,65.0,80.0,80.0],\"xaxis\":\"x\",\"y\":[0.0,1.854693836451968,1.854693836451968,1.2185247681656215],\"yaxis\":\"y\",\"type\":\"scatter\"},{\"hoverinfo\":\"text\",\"marker\":{\"color\":\"rgb(61,153,112)\"},\"mode\":\"lines\",\"x\":[50.0,50.0,72.5,72.5],\"xaxis\":\"x\",\"y\":[1.286131213050305,1.9335400955815,1.9335400955815,1.854693836451968],\"yaxis\":\"y\",\"type\":\"scatter\"},{\"hoverinfo\":\"text\",\"marker\":{\"color\":\"rgb(61,153,112)\"},\"mode\":\"lines\",\"x\":[13.75,13.75,61.25,61.25],\"xaxis\":\"x\",\"y\":[1.017382328340397,2.6575654001672544,2.6575654001672544,1.9335400955815],\"yaxis\":\"y\",\"type\":\"scatter\"},{\"hoverinfo\":\"text\",\"marker\":{\"color\":\"rgb(255,65,54)\"},\"mode\":\"lines\",\"x\":[115.0,115.0,125.0,125.0],\"xaxis\":\"x\",\"y\":[0.0,0.43858788887239947,0.43858788887239947,0.0],\"yaxis\":\"y\",\"type\":\"scatter\"},{\"hoverinfo\":\"text\",\"marker\":{\"color\":\"rgb(255,65,54)\"},\"mode\":\"lines\",\"x\":[105.0,105.0,120.0,120.0],\"xaxis\":\"x\",\"y\":[0.0,0.702168103386858,0.702168103386858,0.43858788887239947],\"yaxis\":\"y\",\"type\":\"scatter\"},{\"hoverinfo\":\"text\",\"marker\":{\"color\":\"rgb(255,65,54)\"},\"mode\":\"lines\",\"x\":[95.0,95.0,112.5,112.5],\"xaxis\":\"x\",\"y\":[0.0,1.3762109671439662,1.3762109671439662,0.702168103386858],\"yaxis\":\"y\",\"type\":\"scatter\"},{\"hoverinfo\":\"text\",\"marker\":{\"color\":\"rgb(255,65,54)\"},\"mode\":\"lines\",\"x\":[145.0,145.0,155.0,155.0],\"xaxis\":\"x\",\"y\":[0.0,0.8696759229267387,0.8696759229267387,0.0],\"yaxis\":\"y\",\"type\":\"scatter\"},{\"hoverinfo\":\"text\",\"marker\":{\"color\":\"rgb(255,65,54)\"},\"mode\":\"lines\",\"x\":[135.0,135.0,150.0,150.0],\"xaxis\":\"x\",\"y\":[0.0,1.4998637603464824,1.4998637603464824,0.8696759229267387],\"yaxis\":\"y\",\"type\":\"scatter\"},{\"hoverinfo\":\"text\",\"marker\":{\"color\":\"rgb(255,65,54)\"},\"mode\":\"lines\",\"x\":[165.0,165.0,175.0,175.0],\"xaxis\":\"x\",\"y\":[0.0,1.5117662662620137,1.5117662662620137,0.0],\"yaxis\":\"y\",\"type\":\"scatter\"},{\"hoverinfo\":\"text\",\"marker\":{\"color\":\"rgb(255,65,54)\"},\"mode\":\"lines\",\"x\":[142.5,142.5,170.0,170.0],\"xaxis\":\"x\",\"y\":[1.4998637603464824,2.049906360181427,2.049906360181427,1.5117662662620137],\"yaxis\":\"y\",\"type\":\"scatter\"},{\"hoverinfo\":\"text\",\"marker\":{\"color\":\"rgb(255,65,54)\"},\"mode\":\"lines\",\"x\":[103.75,103.75,156.25,156.25],\"xaxis\":\"x\",\"y\":[1.3762109671439662,2.7302185366530796,2.7302185366530796,2.049906360181427],\"yaxis\":\"y\",\"type\":\"scatter\"},{\"hoverinfo\":\"text\",\"marker\":{\"color\":\"rgb(0,116,217)\"},\"mode\":\"lines\",\"x\":[37.5,37.5,130.0,130.0],\"xaxis\":\"x\",\"y\":[2.6575654001672544,4.1594118475354716,4.1594118475354716,2.7302185366530796],\"yaxis\":\"y\",\"type\":\"scatter\"}],                        {\"autosize\":false,\"height\":null,\"hovermode\":\"closest\",\"showlegend\":false,\"width\":null,\"xaxis\":{\"mirror\":\"allticks\",\"rangemode\":\"tozero\",\"showgrid\":false,\"showline\":true,\"showticklabels\":true,\"tickmode\":\"array\",\"ticks\":\"outside\",\"ticktext\":[\"17\",\"7\",\"6\",\"8\",\"9\",\"12\",\"10\",\"2\",\"3\",\"14\",\"15\",\"5\",\"13\",\"16\",\"0\",\"1\",\"4\",\"11\"],\"tickvals\":[5.0,15.0,25.0,35.0,45.0,55.0,65.0,75.0,85.0,95.0,105.0,115.0,125.0,135.0,145.0,155.0,165.0,175.0],\"type\":\"linear\",\"zeroline\":false},\"yaxis\":{\"mirror\":\"allticks\",\"rangemode\":\"tozero\",\"showgrid\":false,\"showline\":true,\"showticklabels\":true,\"ticks\":\"outside\",\"type\":\"linear\",\"zeroline\":false},\"template\":{\"data\":{\"histogram2dcontour\":[{\"type\":\"histogram2dcontour\",\"colorbar\":{\"outlinewidth\":0,\"ticks\":\"\"},\"colorscale\":[[0.0,\"#0d0887\"],[0.1111111111111111,\"#46039f\"],[0.2222222222222222,\"#7201a8\"],[0.3333333333333333,\"#9c179e\"],[0.4444444444444444,\"#bd3786\"],[0.5555555555555556,\"#d8576b\"],[0.6666666666666666,\"#ed7953\"],[0.7777777777777778,\"#fb9f3a\"],[0.8888888888888888,\"#fdca26\"],[1.0,\"#f0f921\"]]}],\"choropleth\":[{\"type\":\"choropleth\",\"colorbar\":{\"outlinewidth\":0,\"ticks\":\"\"}}],\"histogram2d\":[{\"type\":\"histogram2d\",\"colorbar\":{\"outlinewidth\":0,\"ticks\":\"\"},\"colorscale\":[[0.0,\"#0d0887\"],[0.1111111111111111,\"#46039f\"],[0.2222222222222222,\"#7201a8\"],[0.3333333333333333,\"#9c179e\"],[0.4444444444444444,\"#bd3786\"],[0.5555555555555556,\"#d8576b\"],[0.6666666666666666,\"#ed7953\"],[0.7777777777777778,\"#fb9f3a\"],[0.8888888888888888,\"#fdca26\"],[1.0,\"#f0f921\"]]}],\"heatmap\":[{\"type\":\"heatmap\",\"colorbar\":{\"outlinewidth\":0,\"ticks\":\"\"},\"colorscale\":[[0.0,\"#0d0887\"],[0.1111111111111111,\"#46039f\"],[0.2222222222222222,\"#7201a8\"],[0.3333333333333333,\"#9c179e\"],[0.4444444444444444,\"#bd3786\"],[0.5555555555555556,\"#d8576b\"],[0.6666666666666666,\"#ed7953\"],[0.7777777777777778,\"#fb9f3a\"],[0.8888888888888888,\"#fdca26\"],[1.0,\"#f0f921\"]]}],\"heatmapgl\":[{\"type\":\"heatmapgl\",\"colorbar\":{\"outlinewidth\":0,\"ticks\":\"\"},\"colorscale\":[[0.0,\"#0d0887\"],[0.1111111111111111,\"#46039f\"],[0.2222222222222222,\"#7201a8\"],[0.3333333333333333,\"#9c179e\"],[0.4444444444444444,\"#bd3786\"],[0.5555555555555556,\"#d8576b\"],[0.6666666666666666,\"#ed7953\"],[0.7777777777777778,\"#fb9f3a\"],[0.8888888888888888,\"#fdca26\"],[1.0,\"#f0f921\"]]}],\"contourcarpet\":[{\"type\":\"contourcarpet\",\"colorbar\":{\"outlinewidth\":0,\"ticks\":\"\"}}],\"contour\":[{\"type\":\"contour\",\"colorbar\":{\"outlinewidth\":0,\"ticks\":\"\"},\"colorscale\":[[0.0,\"#0d0887\"],[0.1111111111111111,\"#46039f\"],[0.2222222222222222,\"#7201a8\"],[0.3333333333333333,\"#9c179e\"],[0.4444444444444444,\"#bd3786\"],[0.5555555555555556,\"#d8576b\"],[0.6666666666666666,\"#ed7953\"],[0.7777777777777778,\"#fb9f3a\"],[0.8888888888888888,\"#fdca26\"],[1.0,\"#f0f921\"]]}],\"surface\":[{\"type\":\"surface\",\"colorbar\":{\"outlinewidth\":0,\"ticks\":\"\"},\"colorscale\":[[0.0,\"#0d0887\"],[0.1111111111111111,\"#46039f\"],[0.2222222222222222,\"#7201a8\"],[0.3333333333333333,\"#9c179e\"],[0.4444444444444444,\"#bd3786\"],[0.5555555555555556,\"#d8576b\"],[0.6666666666666666,\"#ed7953\"],[0.7777777777777778,\"#fb9f3a\"],[0.8888888888888888,\"#fdca26\"],[1.0,\"#f0f921\"]]}],\"mesh3d\":[{\"type\":\"mesh3d\",\"colorbar\":{\"outlinewidth\":0,\"ticks\":\"\"}}],\"scatter\":[{\"fillpattern\":{\"fillmode\":\"overlay\",\"size\":10,\"solidity\":0.2},\"type\":\"scatter\"}],\"parcoords\":[{\"type\":\"parcoords\",\"line\":{\"colorbar\":{\"outlinewidth\":0,\"ticks\":\"\"}}}],\"scatterpolargl\":[{\"type\":\"scatterpolargl\",\"marker\":{\"colorbar\":{\"outlinewidth\":0,\"ticks\":\"\"}}}],\"bar\":[{\"error_x\":{\"color\":\"#2a3f5f\"},\"error_y\":{\"color\":\"#2a3f5f\"},\"marker\":{\"line\":{\"color\":\"#E5ECF6\",\"width\":0.5},\"pattern\":{\"fillmode\":\"overlay\",\"size\":10,\"solidity\":0.2}},\"type\":\"bar\"}],\"scattergeo\":[{\"type\":\"scattergeo\",\"marker\":{\"colorbar\":{\"outlinewidth\":0,\"ticks\":\"\"}}}],\"scatterpolar\":[{\"type\":\"scatterpolar\",\"marker\":{\"colorbar\":{\"outlinewidth\":0,\"ticks\":\"\"}}}],\"histogram\":[{\"marker\":{\"pattern\":{\"fillmode\":\"overlay\",\"size\":10,\"solidity\":0.2}},\"type\":\"histogram\"}],\"scattergl\":[{\"type\":\"scattergl\",\"marker\":{\"colorbar\":{\"outlinewidth\":0,\"ticks\":\"\"}}}],\"scatter3d\":[{\"type\":\"scatter3d\",\"line\":{\"colorbar\":{\"outlinewidth\":0,\"ticks\":\"\"}},\"marker\":{\"colorbar\":{\"outlinewidth\":0,\"ticks\":\"\"}}}],\"scattermapbox\":[{\"type\":\"scattermapbox\",\"marker\":{\"colorbar\":{\"outlinewidth\":0,\"ticks\":\"\"}}}],\"scatterternary\":[{\"type\":\"scatterternary\",\"marker\":{\"colorbar\":{\"outlinewidth\":0,\"ticks\":\"\"}}}],\"scattercarpet\":[{\"type\":\"scattercarpet\",\"marker\":{\"colorbar\":{\"outlinewidth\":0,\"ticks\":\"\"}}}],\"carpet\":[{\"aaxis\":{\"endlinecolor\":\"#2a3f5f\",\"gridcolor\":\"white\",\"linecolor\":\"white\",\"minorgridcolor\":\"white\",\"startlinecolor\":\"#2a3f5f\"},\"baxis\":{\"endlinecolor\":\"#2a3f5f\",\"gridcolor\":\"white\",\"linecolor\":\"white\",\"minorgridcolor\":\"white\",\"startlinecolor\":\"#2a3f5f\"},\"type\":\"carpet\"}],\"table\":[{\"cells\":{\"fill\":{\"color\":\"#EBF0F8\"},\"line\":{\"color\":\"white\"}},\"header\":{\"fill\":{\"color\":\"#C8D4E3\"},\"line\":{\"color\":\"white\"}},\"type\":\"table\"}],\"barpolar\":[{\"marker\":{\"line\":{\"color\":\"#E5ECF6\",\"width\":0.5},\"pattern\":{\"fillmode\":\"overlay\",\"size\":10,\"solidity\":0.2}},\"type\":\"barpolar\"}],\"pie\":[{\"automargin\":true,\"type\":\"pie\"}]},\"layout\":{\"autotypenumbers\":\"strict\",\"colorway\":[\"#636efa\",\"#EF553B\",\"#00cc96\",\"#ab63fa\",\"#FFA15A\",\"#19d3f3\",\"#FF6692\",\"#B6E880\",\"#FF97FF\",\"#FECB52\"],\"font\":{\"color\":\"#2a3f5f\"},\"hovermode\":\"closest\",\"hoverlabel\":{\"align\":\"left\"},\"paper_bgcolor\":\"white\",\"plot_bgcolor\":\"#E5ECF6\",\"polar\":{\"bgcolor\":\"#E5ECF6\",\"angularaxis\":{\"gridcolor\":\"white\",\"linecolor\":\"white\",\"ticks\":\"\"},\"radialaxis\":{\"gridcolor\":\"white\",\"linecolor\":\"white\",\"ticks\":\"\"}},\"ternary\":{\"bgcolor\":\"#E5ECF6\",\"aaxis\":{\"gridcolor\":\"white\",\"linecolor\":\"white\",\"ticks\":\"\"},\"baxis\":{\"gridcolor\":\"white\",\"linecolor\":\"white\",\"ticks\":\"\"},\"caxis\":{\"gridcolor\":\"white\",\"linecolor\":\"white\",\"ticks\":\"\"}},\"coloraxis\":{\"colorbar\":{\"outlinewidth\":0,\"ticks\":\"\"}},\"colorscale\":{\"sequential\":[[0.0,\"#0d0887\"],[0.1111111111111111,\"#46039f\"],[0.2222222222222222,\"#7201a8\"],[0.3333333333333333,\"#9c179e\"],[0.4444444444444444,\"#bd3786\"],[0.5555555555555556,\"#d8576b\"],[0.6666666666666666,\"#ed7953\"],[0.7777777777777778,\"#fb9f3a\"],[0.8888888888888888,\"#fdca26\"],[1.0,\"#f0f921\"]],\"sequentialminus\":[[0.0,\"#0d0887\"],[0.1111111111111111,\"#46039f\"],[0.2222222222222222,\"#7201a8\"],[0.3333333333333333,\"#9c179e\"],[0.4444444444444444,\"#bd3786\"],[0.5555555555555556,\"#d8576b\"],[0.6666666666666666,\"#ed7953\"],[0.7777777777777778,\"#fb9f3a\"],[0.8888888888888888,\"#fdca26\"],[1.0,\"#f0f921\"]],\"diverging\":[[0,\"#8e0152\"],[0.1,\"#c51b7d\"],[0.2,\"#de77ae\"],[0.3,\"#f1b6da\"],[0.4,\"#fde0ef\"],[0.5,\"#f7f7f7\"],[0.6,\"#e6f5d0\"],[0.7,\"#b8e186\"],[0.8,\"#7fbc41\"],[0.9,\"#4d9221\"],[1,\"#276419\"]]},\"xaxis\":{\"gridcolor\":\"white\",\"linecolor\":\"white\",\"ticks\":\"\",\"title\":{\"standoff\":15},\"zerolinecolor\":\"white\",\"automargin\":true,\"zerolinewidth\":2},\"yaxis\":{\"gridcolor\":\"white\",\"linecolor\":\"white\",\"ticks\":\"\",\"title\":{\"standoff\":15},\"zerolinecolor\":\"white\",\"automargin\":true,\"zerolinewidth\":2},\"scene\":{\"xaxis\":{\"backgroundcolor\":\"#E5ECF6\",\"gridcolor\":\"white\",\"linecolor\":\"white\",\"showbackground\":true,\"ticks\":\"\",\"zerolinecolor\":\"white\",\"gridwidth\":2},\"yaxis\":{\"backgroundcolor\":\"#E5ECF6\",\"gridcolor\":\"white\",\"linecolor\":\"white\",\"showbackground\":true,\"ticks\":\"\",\"zerolinecolor\":\"white\",\"gridwidth\":2},\"zaxis\":{\"backgroundcolor\":\"#E5ECF6\",\"gridcolor\":\"white\",\"linecolor\":\"white\",\"showbackground\":true,\"ticks\":\"\",\"zerolinecolor\":\"white\",\"gridwidth\":2}},\"shapedefaults\":{\"line\":{\"color\":\"#2a3f5f\"}},\"annotationdefaults\":{\"arrowcolor\":\"#2a3f5f\",\"arrowhead\":0,\"arrowwidth\":1},\"geo\":{\"bgcolor\":\"white\",\"landcolor\":\"#E5ECF6\",\"subunitcolor\":\"white\",\"showland\":true,\"showlakes\":true,\"lakecolor\":\"white\"},\"title\":{\"x\":0.05},\"mapbox\":{\"style\":\"light\"}}}},                        {\"responsive\": true}                    ).then(function(){\n",
       "                            \n",
       "var gd = document.getElementById('79a7d7f5-439a-4713-90a5-d1b169dfe6bd');\n",
       "var x = new MutationObserver(function (mutations, observer) {{\n",
       "        var display = window.getComputedStyle(gd).display;\n",
       "        if (!display || display === 'none') {{\n",
       "            console.log([gd, 'removed!']);\n",
       "            Plotly.purge(gd);\n",
       "            observer.disconnect();\n",
       "        }}\n",
       "}});\n",
       "\n",
       "// Listen for the removal of the full notebook cells\n",
       "var notebookContainer = gd.closest('#notebook-container');\n",
       "if (notebookContainer) {{\n",
       "    x.observe(notebookContainer, {childList: true});\n",
       "}}\n",
       "\n",
       "// Listen for the clearing of the current output cell\n",
       "var outputEl = gd.closest('.output');\n",
       "if (outputEl) {{\n",
       "    x.observe(outputEl, {childList: true});\n",
       "}}\n",
       "\n",
       "                        })                };                });            </script>        </div>"
      ]
     },
     "metadata": {},
     "output_type": "display_data"
    }
   ],
   "source": [
    "ff.create_dendrogram(df.corr())"
   ]
  },
  {
   "cell_type": "markdown",
   "id": "c84096b3",
   "metadata": {
    "papermill": {
     "duration": 0.020132,
     "end_time": "2023-01-16T10:47:31.918622",
     "exception": false,
     "start_time": "2023-01-16T10:47:31.898490",
     "status": "completed"
    },
    "tags": []
   },
   "source": [
    "# Filling Null values"
   ]
  },
  {
   "cell_type": "code",
   "execution_count": 15,
   "id": "5ea94ada",
   "metadata": {
    "execution": {
     "iopub.execute_input": "2023-01-16T10:47:31.957906Z",
     "iopub.status.busy": "2023-01-16T10:47:31.957488Z",
     "iopub.status.idle": "2023-01-16T10:47:31.969048Z",
     "shell.execute_reply": "2023-01-16T10:47:31.967778Z"
    },
    "papermill": {
     "duration": 0.035962,
     "end_time": "2023-01-16T10:47:31.972939",
     "exception": false,
     "start_time": "2023-01-16T10:47:31.936977",
     "status": "completed"
    },
    "tags": []
   },
   "outputs": [
    {
     "data": {
      "text/plain": [
       "Country                                0\n",
       "Region                                 0\n",
       "Population                             0\n",
       "Area (sq. mi.)                         0\n",
       "Pop. Density (per sq. mi.)             0\n",
       "Coastline (coast/area ratio)           0\n",
       "Net migration                          3\n",
       "Infant mortality (per 1000 births)     3\n",
       "GDP ($ per capita)                     1\n",
       "Literacy (%)                          18\n",
       "Phones (per 1000)                      4\n",
       "Arable (%)                             2\n",
       "Crops (%)                              2\n",
       "Other (%)                              2\n",
       "Climate                               22\n",
       "Birthrate                              3\n",
       "Deathrate                              4\n",
       "Agriculture                           15\n",
       "Industry                              16\n",
       "Service                               15\n",
       "dtype: int64"
      ]
     },
     "execution_count": 15,
     "metadata": {},
     "output_type": "execute_result"
    }
   ],
   "source": [
    "df.isnull().sum()"
   ]
  },
  {
   "cell_type": "code",
   "execution_count": 16,
   "id": "d48a8e26",
   "metadata": {
    "execution": {
     "iopub.execute_input": "2023-01-16T10:47:32.012866Z",
     "iopub.status.busy": "2023-01-16T10:47:32.011690Z",
     "iopub.status.idle": "2023-01-16T10:47:32.021857Z",
     "shell.execute_reply": "2023-01-16T10:47:32.020960Z"
    },
    "papermill": {
     "duration": 0.032442,
     "end_time": "2023-01-16T10:47:32.024393",
     "exception": false,
     "start_time": "2023-01-16T10:47:31.991951",
     "status": "completed"
    },
    "tags": []
   },
   "outputs": [
    {
     "data": {
      "text/plain": [
       "3            American Samoa \n",
       "4                   Andorra \n",
       "78                Gibraltar \n",
       "80                Greenland \n",
       "83                     Guam \n",
       "134                 Mayotte \n",
       "140              Montserrat \n",
       "144                   Nauru \n",
       "153      N. Mariana Islands \n",
       "171            Saint Helena \n",
       "174    St Pierre & Miquelon \n",
       "177              San Marino \n",
       "208       Turks & Caicos Is \n",
       "221       Wallis and Futuna \n",
       "223          Western Sahara \n",
       "Name: Country, dtype: object"
      ]
     },
     "execution_count": 16,
     "metadata": {},
     "output_type": "execute_result"
    }
   ],
   "source": [
    "df[df['Agriculture'].isnull()]['Country']"
   ]
  },
  {
   "cell_type": "code",
   "execution_count": 17,
   "id": "f33fe06c",
   "metadata": {
    "execution": {
     "iopub.execute_input": "2023-01-16T10:47:32.067204Z",
     "iopub.status.busy": "2023-01-16T10:47:32.066203Z",
     "iopub.status.idle": "2023-01-16T10:47:32.082031Z",
     "shell.execute_reply": "2023-01-16T10:47:32.080474Z"
    },
    "papermill": {
     "duration": 0.04091,
     "end_time": "2023-01-16T10:47:32.085213",
     "exception": false,
     "start_time": "2023-01-16T10:47:32.044303",
     "status": "completed"
    },
    "tags": []
   },
   "outputs": [],
   "source": [
    "df[df['Agriculture'].isnull()] = df[df['Agriculture'].isnull()].fillna(0)"
   ]
  },
  {
   "cell_type": "markdown",
   "id": "856456df",
   "metadata": {
    "papermill": {
     "duration": 0.020257,
     "end_time": "2023-01-16T10:47:32.124844",
     "exception": false,
     "start_time": "2023-01-16T10:47:32.104587",
     "status": "completed"
    },
    "tags": []
   },
   "source": [
    "We can safely assume that the climate, literacy rate, etc in certain countries is similair to that of its surrounding countries. So we will group them and fill them in with the mean value of the regions."
   ]
  },
  {
   "cell_type": "code",
   "execution_count": 18,
   "id": "1da4e2e0",
   "metadata": {
    "execution": {
     "iopub.execute_input": "2023-01-16T10:47:32.167235Z",
     "iopub.status.busy": "2023-01-16T10:47:32.166445Z",
     "iopub.status.idle": "2023-01-16T10:47:32.175572Z",
     "shell.execute_reply": "2023-01-16T10:47:32.174399Z"
    },
    "papermill": {
     "duration": 0.032636,
     "end_time": "2023-01-16T10:47:32.178194",
     "exception": false,
     "start_time": "2023-01-16T10:47:32.145558",
     "status": "completed"
    },
    "tags": []
   },
   "outputs": [],
   "source": [
    "df['Climate'] = df['Climate'].fillna(df.groupby('Region')['Climate'].transform('mean'))"
   ]
  },
  {
   "cell_type": "code",
   "execution_count": 19,
   "id": "a863f536",
   "metadata": {
    "execution": {
     "iopub.execute_input": "2023-01-16T10:47:32.220385Z",
     "iopub.status.busy": "2023-01-16T10:47:32.219607Z",
     "iopub.status.idle": "2023-01-16T10:47:32.227150Z",
     "shell.execute_reply": "2023-01-16T10:47:32.225825Z"
    },
    "papermill": {
     "duration": 0.031064,
     "end_time": "2023-01-16T10:47:32.229961",
     "exception": false,
     "start_time": "2023-01-16T10:47:32.198897",
     "status": "completed"
    },
    "tags": []
   },
   "outputs": [],
   "source": [
    "df['Literacy (%)'] = df['Literacy (%)'].fillna(df.groupby('Region')['Literacy (%)'].transform('mean'))"
   ]
  },
  {
   "cell_type": "code",
   "execution_count": 20,
   "id": "35f4b77a",
   "metadata": {
    "execution": {
     "iopub.execute_input": "2023-01-16T10:47:32.270333Z",
     "iopub.status.busy": "2023-01-16T10:47:32.269868Z",
     "iopub.status.idle": "2023-01-16T10:47:32.278633Z",
     "shell.execute_reply": "2023-01-16T10:47:32.277152Z"
    },
    "papermill": {
     "duration": 0.031826,
     "end_time": "2023-01-16T10:47:32.281424",
     "exception": false,
     "start_time": "2023-01-16T10:47:32.249598",
     "status": "completed"
    },
    "tags": []
   },
   "outputs": [],
   "source": [
    "df = df.dropna()"
   ]
  },
  {
   "cell_type": "markdown",
   "id": "52665405",
   "metadata": {
    "papermill": {
     "duration": 0.018873,
     "end_time": "2023-01-16T10:47:32.319326",
     "exception": false,
     "start_time": "2023-01-16T10:47:32.300453",
     "status": "completed"
    },
    "tags": []
   },
   "source": [
    "# Creating our K-Means Model  \n",
    "K-means is a popular unsupervised machine learning algorithm for clustering. The goal of K-means is to partition a set of points into K clusters, where each point belongs to the cluster with the closest mean. The algorithm begins by randomly selecting K centroids, which are the initial means of the K clusters. It then assigns each point to the cluster whose centroid is closest to it, based on a distance metric such as Euclidean distance. Once all points have been assigned to a cluster, the centroids are recalculated as the mean of the points in each cluster. The process of assigning points to clusters and updating centroids is repeated iteratively until the clusters are stable. The final result is K clusters, each represented by a centroid, and each point is associated with one of the K clusters."
   ]
  },
  {
   "cell_type": "code",
   "execution_count": 21,
   "id": "46be008a",
   "metadata": {
    "execution": {
     "iopub.execute_input": "2023-01-16T10:47:32.358659Z",
     "iopub.status.busy": "2023-01-16T10:47:32.357881Z",
     "iopub.status.idle": "2023-01-16T10:47:32.364799Z",
     "shell.execute_reply": "2023-01-16T10:47:32.362757Z"
    },
    "papermill": {
     "duration": 0.029828,
     "end_time": "2023-01-16T10:47:32.368018",
     "exception": false,
     "start_time": "2023-01-16T10:47:32.338190",
     "status": "completed"
    },
    "tags": []
   },
   "outputs": [],
   "source": [
    "X = df.drop(\"Country\",axis=1)"
   ]
  },
  {
   "cell_type": "code",
   "execution_count": 22,
   "id": "6669974c",
   "metadata": {
    "execution": {
     "iopub.execute_input": "2023-01-16T10:47:32.407505Z",
     "iopub.status.busy": "2023-01-16T10:47:32.407020Z",
     "iopub.status.idle": "2023-01-16T10:47:32.437443Z",
     "shell.execute_reply": "2023-01-16T10:47:32.436150Z"
    },
    "papermill": {
     "duration": 0.052818,
     "end_time": "2023-01-16T10:47:32.440161",
     "exception": false,
     "start_time": "2023-01-16T10:47:32.387343",
     "status": "completed"
    },
    "tags": []
   },
   "outputs": [
    {
     "data": {
      "text/html": [
       "<div>\n",
       "<style scoped>\n",
       "    .dataframe tbody tr th:only-of-type {\n",
       "        vertical-align: middle;\n",
       "    }\n",
       "\n",
       "    .dataframe tbody tr th {\n",
       "        vertical-align: top;\n",
       "    }\n",
       "\n",
       "    .dataframe thead th {\n",
       "        text-align: right;\n",
       "    }\n",
       "</style>\n",
       "<table border=\"1\" class=\"dataframe\">\n",
       "  <thead>\n",
       "    <tr style=\"text-align: right;\">\n",
       "      <th></th>\n",
       "      <th>Population</th>\n",
       "      <th>Area (sq. mi.)</th>\n",
       "      <th>Pop. Density (per sq. mi.)</th>\n",
       "      <th>Coastline (coast/area ratio)</th>\n",
       "      <th>Net migration</th>\n",
       "      <th>Infant mortality (per 1000 births)</th>\n",
       "      <th>GDP ($ per capita)</th>\n",
       "      <th>Literacy (%)</th>\n",
       "      <th>Phones (per 1000)</th>\n",
       "      <th>Arable (%)</th>\n",
       "      <th>...</th>\n",
       "      <th>Region_BALTICS</th>\n",
       "      <th>Region_C.W. OF IND. STATES</th>\n",
       "      <th>Region_EASTERN EUROPE</th>\n",
       "      <th>Region_LATIN AMER. &amp; CARIB</th>\n",
       "      <th>Region_NEAR EAST</th>\n",
       "      <th>Region_NORTHERN AFRICA</th>\n",
       "      <th>Region_NORTHERN AMERICA</th>\n",
       "      <th>Region_OCEANIA</th>\n",
       "      <th>Region_SUB-SAHARAN AFRICA</th>\n",
       "      <th>Region_WESTERN EUROPE</th>\n",
       "    </tr>\n",
       "  </thead>\n",
       "  <tbody>\n",
       "    <tr>\n",
       "      <th>0</th>\n",
       "      <td>31056997</td>\n",
       "      <td>647500</td>\n",
       "      <td>48.0</td>\n",
       "      <td>0.00</td>\n",
       "      <td>23.06</td>\n",
       "      <td>163.07</td>\n",
       "      <td>700.0</td>\n",
       "      <td>36.0</td>\n",
       "      <td>3.2</td>\n",
       "      <td>12.13</td>\n",
       "      <td>...</td>\n",
       "      <td>0</td>\n",
       "      <td>0</td>\n",
       "      <td>0</td>\n",
       "      <td>0</td>\n",
       "      <td>0</td>\n",
       "      <td>0</td>\n",
       "      <td>0</td>\n",
       "      <td>0</td>\n",
       "      <td>0</td>\n",
       "      <td>0</td>\n",
       "    </tr>\n",
       "    <tr>\n",
       "      <th>1</th>\n",
       "      <td>3581655</td>\n",
       "      <td>28748</td>\n",
       "      <td>124.6</td>\n",
       "      <td>1.26</td>\n",
       "      <td>-4.93</td>\n",
       "      <td>21.52</td>\n",
       "      <td>4500.0</td>\n",
       "      <td>86.5</td>\n",
       "      <td>71.2</td>\n",
       "      <td>21.09</td>\n",
       "      <td>...</td>\n",
       "      <td>0</td>\n",
       "      <td>0</td>\n",
       "      <td>1</td>\n",
       "      <td>0</td>\n",
       "      <td>0</td>\n",
       "      <td>0</td>\n",
       "      <td>0</td>\n",
       "      <td>0</td>\n",
       "      <td>0</td>\n",
       "      <td>0</td>\n",
       "    </tr>\n",
       "    <tr>\n",
       "      <th>2</th>\n",
       "      <td>32930091</td>\n",
       "      <td>2381740</td>\n",
       "      <td>13.8</td>\n",
       "      <td>0.04</td>\n",
       "      <td>-0.39</td>\n",
       "      <td>31.00</td>\n",
       "      <td>6000.0</td>\n",
       "      <td>70.0</td>\n",
       "      <td>78.1</td>\n",
       "      <td>3.22</td>\n",
       "      <td>...</td>\n",
       "      <td>0</td>\n",
       "      <td>0</td>\n",
       "      <td>0</td>\n",
       "      <td>0</td>\n",
       "      <td>0</td>\n",
       "      <td>1</td>\n",
       "      <td>0</td>\n",
       "      <td>0</td>\n",
       "      <td>0</td>\n",
       "      <td>0</td>\n",
       "    </tr>\n",
       "    <tr>\n",
       "      <th>3</th>\n",
       "      <td>57794</td>\n",
       "      <td>199</td>\n",
       "      <td>290.4</td>\n",
       "      <td>58.29</td>\n",
       "      <td>-20.71</td>\n",
       "      <td>9.27</td>\n",
       "      <td>8000.0</td>\n",
       "      <td>97.0</td>\n",
       "      <td>259.5</td>\n",
       "      <td>10.00</td>\n",
       "      <td>...</td>\n",
       "      <td>0</td>\n",
       "      <td>0</td>\n",
       "      <td>0</td>\n",
       "      <td>0</td>\n",
       "      <td>0</td>\n",
       "      <td>0</td>\n",
       "      <td>0</td>\n",
       "      <td>1</td>\n",
       "      <td>0</td>\n",
       "      <td>0</td>\n",
       "    </tr>\n",
       "    <tr>\n",
       "      <th>4</th>\n",
       "      <td>71201</td>\n",
       "      <td>468</td>\n",
       "      <td>152.1</td>\n",
       "      <td>0.00</td>\n",
       "      <td>6.60</td>\n",
       "      <td>4.05</td>\n",
       "      <td>19000.0</td>\n",
       "      <td>100.0</td>\n",
       "      <td>497.2</td>\n",
       "      <td>2.22</td>\n",
       "      <td>...</td>\n",
       "      <td>0</td>\n",
       "      <td>0</td>\n",
       "      <td>0</td>\n",
       "      <td>0</td>\n",
       "      <td>0</td>\n",
       "      <td>0</td>\n",
       "      <td>0</td>\n",
       "      <td>0</td>\n",
       "      <td>0</td>\n",
       "      <td>1</td>\n",
       "    </tr>\n",
       "  </tbody>\n",
       "</table>\n",
       "<p>5 rows × 29 columns</p>\n",
       "</div>"
      ],
      "text/plain": [
       "   Population  Area (sq. mi.)  Pop. Density (per sq. mi.)  \\\n",
       "0    31056997          647500                        48.0   \n",
       "1     3581655           28748                       124.6   \n",
       "2    32930091         2381740                        13.8   \n",
       "3       57794             199                       290.4   \n",
       "4       71201             468                       152.1   \n",
       "\n",
       "   Coastline (coast/area ratio)  Net migration  \\\n",
       "0                          0.00          23.06   \n",
       "1                          1.26          -4.93   \n",
       "2                          0.04          -0.39   \n",
       "3                         58.29         -20.71   \n",
       "4                          0.00           6.60   \n",
       "\n",
       "   Infant mortality (per 1000 births)  GDP ($ per capita)  Literacy (%)  \\\n",
       "0                              163.07               700.0          36.0   \n",
       "1                               21.52              4500.0          86.5   \n",
       "2                               31.00              6000.0          70.0   \n",
       "3                                9.27              8000.0          97.0   \n",
       "4                                4.05             19000.0         100.0   \n",
       "\n",
       "   Phones (per 1000)  Arable (%)  ...  \\\n",
       "0                3.2       12.13  ...   \n",
       "1               71.2       21.09  ...   \n",
       "2               78.1        3.22  ...   \n",
       "3              259.5       10.00  ...   \n",
       "4              497.2        2.22  ...   \n",
       "\n",
       "   Region_BALTICS                              Region_C.W. OF IND. STATES   \\\n",
       "0                                           0                            0   \n",
       "1                                           0                            0   \n",
       "2                                           0                            0   \n",
       "3                                           0                            0   \n",
       "4                                           0                            0   \n",
       "\n",
       "   Region_EASTERN EUROPE                       Region_LATIN AMER. & CARIB      \\\n",
       "0                                           0                               0   \n",
       "1                                           1                               0   \n",
       "2                                           0                               0   \n",
       "3                                           0                               0   \n",
       "4                                           0                               0   \n",
       "\n",
       "   Region_NEAR EAST                            \\\n",
       "0                                           0   \n",
       "1                                           0   \n",
       "2                                           0   \n",
       "3                                           0   \n",
       "4                                           0   \n",
       "\n",
       "   Region_NORTHERN AFRICA                      \\\n",
       "0                                           0   \n",
       "1                                           0   \n",
       "2                                           1   \n",
       "3                                           0   \n",
       "4                                           0   \n",
       "\n",
       "   Region_NORTHERN AMERICA                     \\\n",
       "0                                           0   \n",
       "1                                           0   \n",
       "2                                           0   \n",
       "3                                           0   \n",
       "4                                           0   \n",
       "\n",
       "   Region_OCEANIA                              \\\n",
       "0                                           0   \n",
       "1                                           0   \n",
       "2                                           0   \n",
       "3                                           1   \n",
       "4                                           0   \n",
       "\n",
       "   Region_SUB-SAHARAN AFRICA                   \\\n",
       "0                                           0   \n",
       "1                                           0   \n",
       "2                                           0   \n",
       "3                                           0   \n",
       "4                                           0   \n",
       "\n",
       "   Region_WESTERN EUROPE                       \n",
       "0                                           0  \n",
       "1                                           0  \n",
       "2                                           0  \n",
       "3                                           0  \n",
       "4                                           1  \n",
       "\n",
       "[5 rows x 29 columns]"
      ]
     },
     "execution_count": 22,
     "metadata": {},
     "output_type": "execute_result"
    }
   ],
   "source": [
    "X = pd.get_dummies(X)\n",
    "X.head()"
   ]
  },
  {
   "cell_type": "markdown",
   "id": "ae108a9b",
   "metadata": {
    "papermill": {
     "duration": 0.020246,
     "end_time": "2023-01-16T10:47:32.479954",
     "exception": false,
     "start_time": "2023-01-16T10:47:32.459708",
     "status": "completed"
    },
    "tags": []
   },
   "source": [
    "Since we have values which are on varying scales, we are required to scale them down. Lets go ahead and do that."
   ]
  },
  {
   "cell_type": "code",
   "execution_count": 23,
   "id": "051c248d",
   "metadata": {
    "execution": {
     "iopub.execute_input": "2023-01-16T10:47:32.520800Z",
     "iopub.status.busy": "2023-01-16T10:47:32.520338Z",
     "iopub.status.idle": "2023-01-16T10:47:32.531885Z",
     "shell.execute_reply": "2023-01-16T10:47:32.530552Z"
    },
    "papermill": {
     "duration": 0.035954,
     "end_time": "2023-01-16T10:47:32.534594",
     "exception": false,
     "start_time": "2023-01-16T10:47:32.498640",
     "status": "completed"
    },
    "tags": []
   },
   "outputs": [],
   "source": [
    "scaler = StandardScaler()\n",
    "scaled_X = scaler.fit_transform(X)"
   ]
  },
  {
   "cell_type": "markdown",
   "id": "28b6f53f",
   "metadata": {
    "papermill": {
     "duration": 0.019649,
     "end_time": "2023-01-16T10:47:32.572449",
     "exception": false,
     "start_time": "2023-01-16T10:47:32.552800",
     "status": "completed"
    },
    "tags": []
   },
   "source": [
    "Now, unlike supervised learning algorithms where we can compare the error with known values, how do we compare and get the values when we do not have a label set at all? We instead change our perception of accuracy and determine it by computing the sum of the squared error (SSE) after the centroids converge, or match the previous iteration's assignment. The SSE is defined as the sum of the squared Euclidean distances of each point to its closest centroid. "
   ]
  },
  {
   "cell_type": "markdown",
   "id": "1b313b4c",
   "metadata": {
    "papermill": {
     "duration": 0.017826,
     "end_time": "2023-01-16T10:47:32.608918",
     "exception": false,
     "start_time": "2023-01-16T10:47:32.591092",
     "status": "completed"
    },
    "tags": []
   },
   "source": [
    "Lets calculate the K-means SSE for a few different models with different K values. Usually, the higher the K value the better the clusters SSE value, however we then become prone to overfitting."
   ]
  },
  {
   "cell_type": "markdown",
   "id": "24039db1",
   "metadata": {
    "papermill": {
     "duration": 0.019427,
     "end_time": "2023-01-16T10:47:32.646746",
     "exception": false,
     "start_time": "2023-01-16T10:47:32.627319",
     "status": "completed"
    },
    "tags": []
   },
   "source": [
    "Note that there are a large number of hyperparameters that can be modified in order to get the most optimal clusters. The main ones are:\n",
    "\n",
    "    1.n_clusters: The number of clusters to form as well as the number of centroids to generate.\n",
    "\n",
    "    2.init: The method for initialization of the centroids. It can take values such as 'k-means++' for a smart initialization, 'random' for selecting k observations (rows) at random from data for the centroids, or you can pass an ndarray with shape (n_clusters, n_features) giving the initial centers.\n",
    "\n",
    "    3.n_init: Number of time the k-means algorithm will be run with different centroid seeds. The final results will be the best output of n_init consecutive runs in terms of inertia.\n",
    "\n",
    "    4.max_iter : Maximum number of iterations of the k-means algorithm for a single run.\n",
    "\n",
    "    5.tol : relative tolerance with regards to inertia to declare convergence."
   ]
  },
  {
   "cell_type": "code",
   "execution_count": 24,
   "id": "749c85d1",
   "metadata": {
    "execution": {
     "iopub.execute_input": "2023-01-16T10:47:32.688377Z",
     "iopub.status.busy": "2023-01-16T10:47:32.687585Z",
     "iopub.status.idle": "2023-01-16T10:47:34.700466Z",
     "shell.execute_reply": "2023-01-16T10:47:34.699483Z"
    },
    "papermill": {
     "duration": 2.037032,
     "end_time": "2023-01-16T10:47:34.703091",
     "exception": false,
     "start_time": "2023-01-16T10:47:32.666059",
     "status": "completed"
    },
    "tags": []
   },
   "outputs": [],
   "source": [
    "ssd = []\n",
    "\n",
    "for k in range(2,30):\n",
    "    \n",
    "    model = KMeans(n_clusters=k)\n",
    "    \n",
    "    \n",
    "    model.fit(scaled_X)\n",
    "    \n",
    "    #Sum of squared distances of samples to their closest cluster center.\n",
    "    ssd.append(model.inertia_)"
   ]
  },
  {
   "cell_type": "markdown",
   "id": "51ab12c4",
   "metadata": {
    "papermill": {
     "duration": 0.018104,
     "end_time": "2023-01-16T10:47:34.743515",
     "exception": false,
     "start_time": "2023-01-16T10:47:34.725411",
     "status": "completed"
    },
    "tags": []
   },
   "source": [
    "Now we can plot this and attempty to find the elbow point, which is the point where this distortion declines the most."
   ]
  },
  {
   "cell_type": "code",
   "execution_count": 25,
   "id": "fa399766",
   "metadata": {
    "execution": {
     "iopub.execute_input": "2023-01-16T10:47:34.782771Z",
     "iopub.status.busy": "2023-01-16T10:47:34.782355Z",
     "iopub.status.idle": "2023-01-16T10:47:34.857833Z",
     "shell.execute_reply": "2023-01-16T10:47:34.856512Z"
    },
    "papermill": {
     "duration": 0.098342,
     "end_time": "2023-01-16T10:47:34.860623",
     "exception": false,
     "start_time": "2023-01-16T10:47:34.762281",
     "status": "completed"
    },
    "tags": []
   },
   "outputs": [
    {
     "data": {
      "text/html": [
       "<div>                            <div id=\"235667b8-72b0-4da1-b7cf-29e657479251\" class=\"plotly-graph-div\" style=\"height:525px; width:100%;\"></div>            <script type=\"text/javascript\">                require([\"plotly\"], function(Plotly) {                    window.PLOTLYENV=window.PLOTLYENV || {};                                    if (document.getElementById(\"235667b8-72b0-4da1-b7cf-29e657479251\")) {                    Plotly.newPlot(                        \"235667b8-72b0-4da1-b7cf-29e657479251\",                        [{\"hovertemplate\":\"x=%{x}<br>y=%{y}<extra></extra>\",\"legendgroup\":\"\",\"line\":{\"color\":\"#636efa\",\"dash\":\"solid\"},\"marker\":{\"symbol\":\"circle\"},\"mode\":\"lines+markers\",\"name\":\"\",\"orientation\":\"v\",\"showlegend\":false,\"x\":[2,3,4,5,6,7,8,9,10,11,12,13,14,15,16,17,18,19,20,21,22,23,24,25,26,27,28,29],\"xaxis\":\"x\",\"y\":[5496.1778057452575,4993.495020449009,4663.1723985628,4352.128707255119,4116.882672787753,3824.0065567688043,3603.8541922677255,3313.473659281125,3087.2677240914245,2823.351084305996,2608.499254755685,2438.2557010216015,2286.729181731571,2134.901795978555,2054.479761472022,2009.390613329787,1889.1348015733415,1831.561171511507,1814.6330347198416,1691.6812055009436,1640.9132138286095,1564.3819793071564,1535.9859362409263,1493.5534822505952,1433.1559880994262,1392.9506852103566,1380.412373440234,1335.9683009478272],\"yaxis\":\"y\",\"type\":\"scatter\"}],                        {\"template\":{\"data\":{\"histogram2dcontour\":[{\"type\":\"histogram2dcontour\",\"colorbar\":{\"outlinewidth\":0,\"ticks\":\"\"},\"colorscale\":[[0.0,\"#0d0887\"],[0.1111111111111111,\"#46039f\"],[0.2222222222222222,\"#7201a8\"],[0.3333333333333333,\"#9c179e\"],[0.4444444444444444,\"#bd3786\"],[0.5555555555555556,\"#d8576b\"],[0.6666666666666666,\"#ed7953\"],[0.7777777777777778,\"#fb9f3a\"],[0.8888888888888888,\"#fdca26\"],[1.0,\"#f0f921\"]]}],\"choropleth\":[{\"type\":\"choropleth\",\"colorbar\":{\"outlinewidth\":0,\"ticks\":\"\"}}],\"histogram2d\":[{\"type\":\"histogram2d\",\"colorbar\":{\"outlinewidth\":0,\"ticks\":\"\"},\"colorscale\":[[0.0,\"#0d0887\"],[0.1111111111111111,\"#46039f\"],[0.2222222222222222,\"#7201a8\"],[0.3333333333333333,\"#9c179e\"],[0.4444444444444444,\"#bd3786\"],[0.5555555555555556,\"#d8576b\"],[0.6666666666666666,\"#ed7953\"],[0.7777777777777778,\"#fb9f3a\"],[0.8888888888888888,\"#fdca26\"],[1.0,\"#f0f921\"]]}],\"heatmap\":[{\"type\":\"heatmap\",\"colorbar\":{\"outlinewidth\":0,\"ticks\":\"\"},\"colorscale\":[[0.0,\"#0d0887\"],[0.1111111111111111,\"#46039f\"],[0.2222222222222222,\"#7201a8\"],[0.3333333333333333,\"#9c179e\"],[0.4444444444444444,\"#bd3786\"],[0.5555555555555556,\"#d8576b\"],[0.6666666666666666,\"#ed7953\"],[0.7777777777777778,\"#fb9f3a\"],[0.8888888888888888,\"#fdca26\"],[1.0,\"#f0f921\"]]}],\"heatmapgl\":[{\"type\":\"heatmapgl\",\"colorbar\":{\"outlinewidth\":0,\"ticks\":\"\"},\"colorscale\":[[0.0,\"#0d0887\"],[0.1111111111111111,\"#46039f\"],[0.2222222222222222,\"#7201a8\"],[0.3333333333333333,\"#9c179e\"],[0.4444444444444444,\"#bd3786\"],[0.5555555555555556,\"#d8576b\"],[0.6666666666666666,\"#ed7953\"],[0.7777777777777778,\"#fb9f3a\"],[0.8888888888888888,\"#fdca26\"],[1.0,\"#f0f921\"]]}],\"contourcarpet\":[{\"type\":\"contourcarpet\",\"colorbar\":{\"outlinewidth\":0,\"ticks\":\"\"}}],\"contour\":[{\"type\":\"contour\",\"colorbar\":{\"outlinewidth\":0,\"ticks\":\"\"},\"colorscale\":[[0.0,\"#0d0887\"],[0.1111111111111111,\"#46039f\"],[0.2222222222222222,\"#7201a8\"],[0.3333333333333333,\"#9c179e\"],[0.4444444444444444,\"#bd3786\"],[0.5555555555555556,\"#d8576b\"],[0.6666666666666666,\"#ed7953\"],[0.7777777777777778,\"#fb9f3a\"],[0.8888888888888888,\"#fdca26\"],[1.0,\"#f0f921\"]]}],\"surface\":[{\"type\":\"surface\",\"colorbar\":{\"outlinewidth\":0,\"ticks\":\"\"},\"colorscale\":[[0.0,\"#0d0887\"],[0.1111111111111111,\"#46039f\"],[0.2222222222222222,\"#7201a8\"],[0.3333333333333333,\"#9c179e\"],[0.4444444444444444,\"#bd3786\"],[0.5555555555555556,\"#d8576b\"],[0.6666666666666666,\"#ed7953\"],[0.7777777777777778,\"#fb9f3a\"],[0.8888888888888888,\"#fdca26\"],[1.0,\"#f0f921\"]]}],\"mesh3d\":[{\"type\":\"mesh3d\",\"colorbar\":{\"outlinewidth\":0,\"ticks\":\"\"}}],\"scatter\":[{\"fillpattern\":{\"fillmode\":\"overlay\",\"size\":10,\"solidity\":0.2},\"type\":\"scatter\"}],\"parcoords\":[{\"type\":\"parcoords\",\"line\":{\"colorbar\":{\"outlinewidth\":0,\"ticks\":\"\"}}}],\"scatterpolargl\":[{\"type\":\"scatterpolargl\",\"marker\":{\"colorbar\":{\"outlinewidth\":0,\"ticks\":\"\"}}}],\"bar\":[{\"error_x\":{\"color\":\"#2a3f5f\"},\"error_y\":{\"color\":\"#2a3f5f\"},\"marker\":{\"line\":{\"color\":\"#E5ECF6\",\"width\":0.5},\"pattern\":{\"fillmode\":\"overlay\",\"size\":10,\"solidity\":0.2}},\"type\":\"bar\"}],\"scattergeo\":[{\"type\":\"scattergeo\",\"marker\":{\"colorbar\":{\"outlinewidth\":0,\"ticks\":\"\"}}}],\"scatterpolar\":[{\"type\":\"scatterpolar\",\"marker\":{\"colorbar\":{\"outlinewidth\":0,\"ticks\":\"\"}}}],\"histogram\":[{\"marker\":{\"pattern\":{\"fillmode\":\"overlay\",\"size\":10,\"solidity\":0.2}},\"type\":\"histogram\"}],\"scattergl\":[{\"type\":\"scattergl\",\"marker\":{\"colorbar\":{\"outlinewidth\":0,\"ticks\":\"\"}}}],\"scatter3d\":[{\"type\":\"scatter3d\",\"line\":{\"colorbar\":{\"outlinewidth\":0,\"ticks\":\"\"}},\"marker\":{\"colorbar\":{\"outlinewidth\":0,\"ticks\":\"\"}}}],\"scattermapbox\":[{\"type\":\"scattermapbox\",\"marker\":{\"colorbar\":{\"outlinewidth\":0,\"ticks\":\"\"}}}],\"scatterternary\":[{\"type\":\"scatterternary\",\"marker\":{\"colorbar\":{\"outlinewidth\":0,\"ticks\":\"\"}}}],\"scattercarpet\":[{\"type\":\"scattercarpet\",\"marker\":{\"colorbar\":{\"outlinewidth\":0,\"ticks\":\"\"}}}],\"carpet\":[{\"aaxis\":{\"endlinecolor\":\"#2a3f5f\",\"gridcolor\":\"white\",\"linecolor\":\"white\",\"minorgridcolor\":\"white\",\"startlinecolor\":\"#2a3f5f\"},\"baxis\":{\"endlinecolor\":\"#2a3f5f\",\"gridcolor\":\"white\",\"linecolor\":\"white\",\"minorgridcolor\":\"white\",\"startlinecolor\":\"#2a3f5f\"},\"type\":\"carpet\"}],\"table\":[{\"cells\":{\"fill\":{\"color\":\"#EBF0F8\"},\"line\":{\"color\":\"white\"}},\"header\":{\"fill\":{\"color\":\"#C8D4E3\"},\"line\":{\"color\":\"white\"}},\"type\":\"table\"}],\"barpolar\":[{\"marker\":{\"line\":{\"color\":\"#E5ECF6\",\"width\":0.5},\"pattern\":{\"fillmode\":\"overlay\",\"size\":10,\"solidity\":0.2}},\"type\":\"barpolar\"}],\"pie\":[{\"automargin\":true,\"type\":\"pie\"}]},\"layout\":{\"autotypenumbers\":\"strict\",\"colorway\":[\"#636efa\",\"#EF553B\",\"#00cc96\",\"#ab63fa\",\"#FFA15A\",\"#19d3f3\",\"#FF6692\",\"#B6E880\",\"#FF97FF\",\"#FECB52\"],\"font\":{\"color\":\"#2a3f5f\"},\"hovermode\":\"closest\",\"hoverlabel\":{\"align\":\"left\"},\"paper_bgcolor\":\"white\",\"plot_bgcolor\":\"#E5ECF6\",\"polar\":{\"bgcolor\":\"#E5ECF6\",\"angularaxis\":{\"gridcolor\":\"white\",\"linecolor\":\"white\",\"ticks\":\"\"},\"radialaxis\":{\"gridcolor\":\"white\",\"linecolor\":\"white\",\"ticks\":\"\"}},\"ternary\":{\"bgcolor\":\"#E5ECF6\",\"aaxis\":{\"gridcolor\":\"white\",\"linecolor\":\"white\",\"ticks\":\"\"},\"baxis\":{\"gridcolor\":\"white\",\"linecolor\":\"white\",\"ticks\":\"\"},\"caxis\":{\"gridcolor\":\"white\",\"linecolor\":\"white\",\"ticks\":\"\"}},\"coloraxis\":{\"colorbar\":{\"outlinewidth\":0,\"ticks\":\"\"}},\"colorscale\":{\"sequential\":[[0.0,\"#0d0887\"],[0.1111111111111111,\"#46039f\"],[0.2222222222222222,\"#7201a8\"],[0.3333333333333333,\"#9c179e\"],[0.4444444444444444,\"#bd3786\"],[0.5555555555555556,\"#d8576b\"],[0.6666666666666666,\"#ed7953\"],[0.7777777777777778,\"#fb9f3a\"],[0.8888888888888888,\"#fdca26\"],[1.0,\"#f0f921\"]],\"sequentialminus\":[[0.0,\"#0d0887\"],[0.1111111111111111,\"#46039f\"],[0.2222222222222222,\"#7201a8\"],[0.3333333333333333,\"#9c179e\"],[0.4444444444444444,\"#bd3786\"],[0.5555555555555556,\"#d8576b\"],[0.6666666666666666,\"#ed7953\"],[0.7777777777777778,\"#fb9f3a\"],[0.8888888888888888,\"#fdca26\"],[1.0,\"#f0f921\"]],\"diverging\":[[0,\"#8e0152\"],[0.1,\"#c51b7d\"],[0.2,\"#de77ae\"],[0.3,\"#f1b6da\"],[0.4,\"#fde0ef\"],[0.5,\"#f7f7f7\"],[0.6,\"#e6f5d0\"],[0.7,\"#b8e186\"],[0.8,\"#7fbc41\"],[0.9,\"#4d9221\"],[1,\"#276419\"]]},\"xaxis\":{\"gridcolor\":\"white\",\"linecolor\":\"white\",\"ticks\":\"\",\"title\":{\"standoff\":15},\"zerolinecolor\":\"white\",\"automargin\":true,\"zerolinewidth\":2},\"yaxis\":{\"gridcolor\":\"white\",\"linecolor\":\"white\",\"ticks\":\"\",\"title\":{\"standoff\":15},\"zerolinecolor\":\"white\",\"automargin\":true,\"zerolinewidth\":2},\"scene\":{\"xaxis\":{\"backgroundcolor\":\"#E5ECF6\",\"gridcolor\":\"white\",\"linecolor\":\"white\",\"showbackground\":true,\"ticks\":\"\",\"zerolinecolor\":\"white\",\"gridwidth\":2},\"yaxis\":{\"backgroundcolor\":\"#E5ECF6\",\"gridcolor\":\"white\",\"linecolor\":\"white\",\"showbackground\":true,\"ticks\":\"\",\"zerolinecolor\":\"white\",\"gridwidth\":2},\"zaxis\":{\"backgroundcolor\":\"#E5ECF6\",\"gridcolor\":\"white\",\"linecolor\":\"white\",\"showbackground\":true,\"ticks\":\"\",\"zerolinecolor\":\"white\",\"gridwidth\":2}},\"shapedefaults\":{\"line\":{\"color\":\"#2a3f5f\"}},\"annotationdefaults\":{\"arrowcolor\":\"#2a3f5f\",\"arrowhead\":0,\"arrowwidth\":1},\"geo\":{\"bgcolor\":\"white\",\"landcolor\":\"#E5ECF6\",\"subunitcolor\":\"white\",\"showland\":true,\"showlakes\":true,\"lakecolor\":\"white\"},\"title\":{\"x\":0.05},\"mapbox\":{\"style\":\"light\"}}},\"xaxis\":{\"anchor\":\"y\",\"domain\":[0.0,1.0],\"title\":{\"text\":\"x\"}},\"yaxis\":{\"anchor\":\"x\",\"domain\":[0.0,1.0],\"title\":{\"text\":\"y\"}},\"legend\":{\"tracegroupgap\":0},\"title\":{\"text\":\"SSE vs K Values\"}},                        {\"responsive\": true}                    ).then(function(){\n",
       "                            \n",
       "var gd = document.getElementById('235667b8-72b0-4da1-b7cf-29e657479251');\n",
       "var x = new MutationObserver(function (mutations, observer) {{\n",
       "        var display = window.getComputedStyle(gd).display;\n",
       "        if (!display || display === 'none') {{\n",
       "            console.log([gd, 'removed!']);\n",
       "            Plotly.purge(gd);\n",
       "            observer.disconnect();\n",
       "        }}\n",
       "}});\n",
       "\n",
       "// Listen for the removal of the full notebook cells\n",
       "var notebookContainer = gd.closest('#notebook-container');\n",
       "if (notebookContainer) {{\n",
       "    x.observe(notebookContainer, {childList: true});\n",
       "}}\n",
       "\n",
       "// Listen for the clearing of the current output cell\n",
       "var outputEl = gd.closest('.output');\n",
       "if (outputEl) {{\n",
       "    x.observe(outputEl, {childList: true});\n",
       "}}\n",
       "\n",
       "                        })                };                });            </script>        </div>"
      ]
     },
     "metadata": {},
     "output_type": "display_data"
    }
   ],
   "source": [
    "px.line(x=range(2,30), y=ssd, title='SSE vs K Values',markers=True)"
   ]
  },
  {
   "cell_type": "raw",
   "id": "82686e13",
   "metadata": {
    "papermill": {
     "duration": 0.019773,
     "end_time": "2023-01-16T10:47:34.900932",
     "exception": false,
     "start_time": "2023-01-16T10:47:34.881159",
     "status": "completed"
    },
    "tags": []
   },
   "source": [
    "There are a variety of such points that are present, but it can be seen that the point where distortion declines most is at the value k=3. We can go ahead and choose that as our main K value. Note that this is not the 'correct' value as such. Infact, the SSE value keeps going on decreasing as we increase the K, but we still choose to keep our value of 3."
   ]
  },
  {
   "cell_type": "code",
   "execution_count": 26,
   "id": "f75f9895",
   "metadata": {
    "execution": {
     "iopub.execute_input": "2023-01-16T10:47:34.945556Z",
     "iopub.status.busy": "2023-01-16T10:47:34.945104Z",
     "iopub.status.idle": "2023-01-16T10:47:34.992908Z",
     "shell.execute_reply": "2023-01-16T10:47:34.991605Z"
    },
    "papermill": {
     "duration": 0.073926,
     "end_time": "2023-01-16T10:47:34.995784",
     "exception": false,
     "start_time": "2023-01-16T10:47:34.921858",
     "status": "completed"
    },
    "tags": []
   },
   "outputs": [
    {
     "data": {
      "text/plain": [
       "array([1, 2, 2, 2, 0, 1, 2, 2, 2, 2, 0, 0, 0, 2, 2, 2, 2, 0, 0, 0, 2, 1,\n",
       "       0, 1, 2, 0, 1, 2, 0, 2, 0, 1, 2, 1, 2, 1, 0, 2, 0, 1, 1, 2, 2, 2,\n",
       "       1, 1, 1, 2, 1, 0, 2, 0, 0, 1, 2, 2, 2, 2, 2, 1, 1, 0, 1, 0, 2, 0,\n",
       "       0, 2, 2, 1, 1, 2, 2, 0, 1, 0, 0, 2, 2, 2, 2, 2, 1, 1, 2, 2, 2, 0,\n",
       "       0, 0, 2, 2, 2, 2, 0, 0, 0, 0, 2, 0, 0, 2, 2, 1, 2, 2, 0, 2, 2, 1,\n",
       "       0, 2, 1, 1, 2, 0, 0, 0, 0, 0, 1, 1, 2, 2, 1, 0, 2, 2, 1, 2, 1, 2,\n",
       "       2, 2, 2, 2, 2, 1, 1, 2, 1, 0, 2, 2, 0, 2, 1, 1, 2, 0, 2, 2, 2, 2,\n",
       "       2, 2, 2, 2, 0, 0, 2, 2, 2, 0, 2, 1, 2, 2, 2, 2, 2, 2, 0, 2, 2, 1,\n",
       "       2, 1, 0, 0, 0, 2, 1, 1, 0, 2, 1, 2, 1, 0, 0, 2, 0, 2, 1, 2, 1, 2,\n",
       "       2, 2, 2, 2, 2, 2, 1, 2, 2, 0, 0, 2, 2, 2, 2, 2, 2, 2, 2, 2, 2, 1,\n",
       "       1], dtype=int32)"
      ]
     },
     "execution_count": 26,
     "metadata": {},
     "output_type": "execute_result"
    }
   ],
   "source": [
    "model = KMeans(n_clusters=3)\n",
    "model.fit(scaled_X)\n",
    "model.labels_"
   ]
  },
  {
   "cell_type": "code",
   "execution_count": 27,
   "id": "a47efdcf",
   "metadata": {
    "execution": {
     "iopub.execute_input": "2023-01-16T10:47:35.039697Z",
     "iopub.status.busy": "2023-01-16T10:47:35.039303Z",
     "iopub.status.idle": "2023-01-16T10:47:35.046618Z",
     "shell.execute_reply": "2023-01-16T10:47:35.045133Z"
    },
    "papermill": {
     "duration": 0.030694,
     "end_time": "2023-01-16T10:47:35.049339",
     "exception": false,
     "start_time": "2023-01-16T10:47:35.018645",
     "status": "completed"
    },
    "tags": []
   },
   "outputs": [],
   "source": [
    "X['K=3 Clusters'] = model.labels_"
   ]
  },
  {
   "cell_type": "markdown",
   "id": "0bc4cd46",
   "metadata": {
    "papermill": {
     "duration": 0.019929,
     "end_time": "2023-01-16T10:47:35.090098",
     "exception": false,
     "start_time": "2023-01-16T10:47:35.070169",
     "status": "completed"
    },
    "tags": []
   },
   "source": [
    "We can now observe the correlation of the different columns with respect to the clusters. Seems like the algorithm chose certain features much higher than that of others."
   ]
  },
  {
   "cell_type": "code",
   "execution_count": 28,
   "id": "10670afe",
   "metadata": {
    "execution": {
     "iopub.execute_input": "2023-01-16T10:47:35.130874Z",
     "iopub.status.busy": "2023-01-16T10:47:35.130462Z",
     "iopub.status.idle": "2023-01-16T10:47:35.142825Z",
     "shell.execute_reply": "2023-01-16T10:47:35.141491Z"
    },
    "papermill": {
     "duration": 0.03546,
     "end_time": "2023-01-16T10:47:35.145694",
     "exception": false,
     "start_time": "2023-01-16T10:47:35.110234",
     "status": "completed"
    },
    "tags": []
   },
   "outputs": [
    {
     "data": {
      "text/plain": [
       "GDP ($ per capita)                           -0.589339\n",
       "Region_WESTERN EUROPE                        -0.553122\n",
       "Phones (per 1000)                            -0.494858\n",
       "Climate                                      -0.410376\n",
       "Net migration                                -0.356981\n",
       "Deathrate                                    -0.345268\n",
       "Region_EASTERN EUROPE                        -0.297113\n",
       "Service                                      -0.247332\n",
       "Arable (%)                                   -0.214653\n",
       "Region_BALTICS                               -0.177698\n",
       "Pop. Density (per sq. mi.)                   -0.174920\n",
       "Literacy (%)                                 -0.123004\n",
       "Region_SUB-SAHARAN AFRICA                    -0.100389\n",
       "Region_NORTHERN AMERICA                      -0.085462\n",
       "Area (sq. mi.)                                0.020773\n",
       "Other (%)                                     0.040395\n",
       "Region_ASIA (EX. NEAR EAST)                   0.060406\n",
       "Coastline (coast/area ratio)                  0.072183\n",
       "Population                                    0.078763\n",
       "Industry                                      0.082611\n",
       "Infant mortality (per 1000 births)            0.093521\n",
       "Agriculture                                   0.131072\n",
       "Region_NORTHERN AFRICA                        0.144986\n",
       "Region_C.W. OF IND. STATES                    0.160386\n",
       "Region_NEAR EAST                              0.191334\n",
       "Region_OCEANIA                                0.198612\n",
       "Birthrate                                     0.231078\n",
       "Crops (%)                                     0.268952\n",
       "Region_LATIN AMER. & CARIB                    0.331761\n",
       "K=3 Clusters                                  1.000000\n",
       "Name: K=3 Clusters, dtype: float64"
      ]
     },
     "execution_count": 28,
     "metadata": {},
     "output_type": "execute_result"
    }
   ],
   "source": [
    "X.corr()['K=3 Clusters'].sort_values()"
   ]
  },
  {
   "cell_type": "markdown",
   "id": "2c5acd6c",
   "metadata": {
    "papermill": {
     "duration": 0.021607,
     "end_time": "2023-01-16T10:47:35.187555",
     "exception": false,
     "start_time": "2023-01-16T10:47:35.165948",
     "status": "completed"
    },
    "tags": []
   },
   "source": [
    "# Creating our Geographical Model  \n",
    "The best way to interpret this clustering model is through visualizing the clusters of countries on a map. We can use the plotly cloropleth map which can generate an interactive world map for us with these cluster values filled in."
   ]
  },
  {
   "cell_type": "markdown",
   "id": "6d733a0f",
   "metadata": {
    "papermill": {
     "duration": 0.018883,
     "end_time": "2023-01-16T10:47:35.228721",
     "exception": false,
     "start_time": "2023-01-16T10:47:35.209838",
     "status": "completed"
    },
    "tags": []
   },
   "source": [
    "We will however require the ISO code of the various different countries. Lets make a dictionary and add in the respective countries ISO codes."
   ]
  },
  {
   "cell_type": "code",
   "execution_count": 29,
   "id": "f3121f85",
   "metadata": {
    "execution": {
     "iopub.execute_input": "2023-01-16T10:47:35.270520Z",
     "iopub.status.busy": "2023-01-16T10:47:35.270019Z",
     "iopub.status.idle": "2023-01-16T10:47:35.284827Z",
     "shell.execute_reply": "2023-01-16T10:47:35.283224Z"
    },
    "papermill": {
     "duration": 0.038595,
     "end_time": "2023-01-16T10:47:35.287635",
     "exception": false,
     "start_time": "2023-01-16T10:47:35.249040",
     "status": "completed"
    },
    "tags": []
   },
   "outputs": [],
   "source": [
    "iso_codes = pd.read_csv(\"/kaggle/input/countries-iso-codes-continent-flags-url/countries_continents_codes_flags_url.csv\")\n"
   ]
  },
  {
   "cell_type": "code",
   "execution_count": 30,
   "id": "68e2f871",
   "metadata": {
    "execution": {
     "iopub.execute_input": "2023-01-16T10:47:35.329709Z",
     "iopub.status.busy": "2023-01-16T10:47:35.328947Z",
     "iopub.status.idle": "2023-01-16T10:47:35.336607Z",
     "shell.execute_reply": "2023-01-16T10:47:35.335349Z"
    },
    "papermill": {
     "duration": 0.031857,
     "end_time": "2023-01-16T10:47:35.339583",
     "exception": false,
     "start_time": "2023-01-16T10:47:35.307726",
     "status": "completed"
    },
    "tags": []
   },
   "outputs": [],
   "source": [
    "iso_mapping = iso_codes.set_index('country')['alpha-3'].to_dict()"
   ]
  },
  {
   "cell_type": "code",
   "execution_count": 31,
   "id": "13e8d8c3",
   "metadata": {
    "execution": {
     "iopub.execute_input": "2023-01-16T10:47:35.382796Z",
     "iopub.status.busy": "2023-01-16T10:47:35.382341Z",
     "iopub.status.idle": "2023-01-16T10:47:35.394394Z",
     "shell.execute_reply": "2023-01-16T10:47:35.392998Z"
    },
    "papermill": {
     "duration": 0.036552,
     "end_time": "2023-01-16T10:47:35.397167",
     "exception": false,
     "start_time": "2023-01-16T10:47:35.360615",
     "status": "completed"
    },
    "tags": []
   },
   "outputs": [
    {
     "data": {
      "text/plain": [
       "0         Afghanistan\n",
       "1             Albania\n",
       "2             Algeria\n",
       "3      American Samoa\n",
       "4             Andorra\n",
       "            ...      \n",
       "222         West Bank\n",
       "223    Western Sahara\n",
       "224             Yemen\n",
       "225            Zambia\n",
       "226          Zimbabwe\n",
       "Name: Country, Length: 221, dtype: object"
      ]
     },
     "execution_count": 31,
     "metadata": {},
     "output_type": "execute_result"
    }
   ],
   "source": [
    "df['Country']=df['Country'].str.strip()\n",
    "df['Country']"
   ]
  },
  {
   "cell_type": "code",
   "execution_count": 32,
   "id": "9be1cf37",
   "metadata": {
    "execution": {
     "iopub.execute_input": "2023-01-16T10:47:35.439969Z",
     "iopub.status.busy": "2023-01-16T10:47:35.439253Z",
     "iopub.status.idle": "2023-01-16T10:47:35.447328Z",
     "shell.execute_reply": "2023-01-16T10:47:35.445994Z"
    },
    "papermill": {
     "duration": 0.032932,
     "end_time": "2023-01-16T10:47:35.450253",
     "exception": false,
     "start_time": "2023-01-16T10:47:35.417321",
     "status": "completed"
    },
    "tags": []
   },
   "outputs": [],
   "source": [
    "df['ISO Code'] = df['Country'].map(iso_mapping)\n"
   ]
  },
  {
   "cell_type": "markdown",
   "id": "1f4f5d04",
   "metadata": {
    "papermill": {
     "duration": 0.019734,
     "end_time": "2023-01-16T10:47:35.490827",
     "exception": false,
     "start_time": "2023-01-16T10:47:35.471093",
     "status": "completed"
    },
    "tags": []
   },
   "source": [
    "For this purpose, we would use a higher value of K for easier visual purposes and understanding. The next largest elbow point seems to occur at k=15, so lets pick that."
   ]
  },
  {
   "cell_type": "code",
   "execution_count": 33,
   "id": "3564eb6a",
   "metadata": {
    "execution": {
     "iopub.execute_input": "2023-01-16T10:47:35.539151Z",
     "iopub.status.busy": "2023-01-16T10:47:35.538700Z",
     "iopub.status.idle": "2023-01-16T10:47:35.622323Z",
     "shell.execute_reply": "2023-01-16T10:47:35.620850Z"
    },
    "papermill": {
     "duration": 0.11158,
     "end_time": "2023-01-16T10:47:35.625356",
     "exception": false,
     "start_time": "2023-01-16T10:47:35.513776",
     "status": "completed"
    },
    "tags": []
   },
   "outputs": [
    {
     "data": {
      "text/plain": [
       "KMeans(n_clusters=15)"
      ]
     },
     "execution_count": 33,
     "metadata": {},
     "output_type": "execute_result"
    }
   ],
   "source": [
    "model = KMeans(n_clusters=15)\n",
    "    \n",
    "model.fit(scaled_X)"
   ]
  },
  {
   "cell_type": "code",
   "execution_count": 34,
   "id": "be330a8a",
   "metadata": {
    "execution": {
     "iopub.execute_input": "2023-01-16T10:47:35.671978Z",
     "iopub.status.busy": "2023-01-16T10:47:35.671441Z",
     "iopub.status.idle": "2023-01-16T10:47:35.680063Z",
     "shell.execute_reply": "2023-01-16T10:47:35.678264Z"
    },
    "papermill": {
     "duration": 0.035168,
     "end_time": "2023-01-16T10:47:35.683146",
     "exception": false,
     "start_time": "2023-01-16T10:47:35.647978",
     "status": "completed"
    },
    "tags": []
   },
   "outputs": [],
   "source": [
    "df['Cluster'] = model.labels_"
   ]
  },
  {
   "cell_type": "code",
   "execution_count": 35,
   "id": "1f0a26d0",
   "metadata": {
    "execution": {
     "iopub.execute_input": "2023-01-16T10:47:35.729758Z",
     "iopub.status.busy": "2023-01-16T10:47:35.729336Z",
     "iopub.status.idle": "2023-01-16T10:47:35.872998Z",
     "shell.execute_reply": "2023-01-16T10:47:35.871544Z"
    },
    "papermill": {
     "duration": 0.172031,
     "end_time": "2023-01-16T10:47:35.876177",
     "exception": false,
     "start_time": "2023-01-16T10:47:35.704146",
     "status": "completed"
    },
    "tags": []
   },
   "outputs": [
    {
     "data": {
      "text/html": [
       "<div>                            <div id=\"93a9ff2b-fd3e-4442-aedb-bcfc3c9e7cd7\" class=\"plotly-graph-div\" style=\"height:525px; width:100%;\"></div>            <script type=\"text/javascript\">                require([\"plotly\"], function(Plotly) {                    window.PLOTLYENV=window.PLOTLYENV || {};                                    if (document.getElementById(\"93a9ff2b-fd3e-4442-aedb-bcfc3c9e7cd7\")) {                    Plotly.newPlot(                        \"93a9ff2b-fd3e-4442-aedb-bcfc3c9e7cd7\",                        [{\"coloraxis\":\"coloraxis\",\"geo\":\"geo\",\"hovertemplate\":\"<b>%{hovertext}</b><br><br>ISO Code=%{location}<br>Cluster=%{z}<extra></extra>\",\"hovertext\":[\"Afghanistan\",\"Albania\",\"Algeria\",\"American Samoa\",\"Andorra\",\"Angola\",\"Anguilla\",\"Antigua & Barbuda\",\"Argentina\",\"Armenia\",\"Aruba\",\"Australia\",\"Austria\",\"Azerbaijan\",\"Bahamas, The\",\"Bahrain\",\"Bangladesh\",\"Barbados\",\"Belarus\",\"Belgium\",\"Belize\",\"Benin\",\"Bermuda\",\"Bhutan\",\"Bolivia\",\"Bosnia & Herzegovina\",\"Botswana\",\"Brazil\",\"British Virgin Is.\",\"Brunei\",\"Bulgaria\",\"Burkina Faso\",\"Burma\",\"Burundi\",\"Cambodia\",\"Cameroon\",\"Canada\",\"Cape Verde\",\"Cayman Islands\",\"Central African Rep.\",\"Chad\",\"Chile\",\"China\",\"Colombia\",\"Comoros\",\"Congo, Dem. Rep.\",\"Congo, Repub. of the\",\"Costa Rica\",\"Cote d'Ivoire\",\"Croatia\",\"Cuba\",\"Czech Republic\",\"Denmark\",\"Djibouti\",\"Dominica\",\"Dominican Republic\",\"Ecuador\",\"Egypt\",\"El Salvador\",\"Equatorial Guinea\",\"Eritrea\",\"Estonia\",\"Ethiopia\",\"Faroe Islands\",\"Fiji\",\"Finland\",\"France\",\"French Guiana\",\"French Polynesia\",\"Gabon\",\"Gambia, The\",\"Gaza Strip\",\"Georgia\",\"Germany\",\"Ghana\",\"Gibraltar\",\"Greece\",\"Greenland\",\"Grenada\",\"Guadeloupe\",\"Guam\",\"Guatemala\",\"Guinea\",\"Guinea-Bissau\",\"Guyana\",\"Haiti\",\"Honduras\",\"Hong Kong\",\"Hungary\",\"Iceland\",\"India\",\"Indonesia\",\"Iran\",\"Iraq\",\"Ireland\",\"Isle of Man\",\"Israel\",\"Italy\",\"Jamaica\",\"Japan\",\"Jersey\",\"Jordan\",\"Kazakhstan\",\"Kenya\",\"Kiribati\",\"Korea, North\",\"Korea, South\",\"Kuwait\",\"Kyrgyzstan\",\"Laos\",\"Latvia\",\"Lebanon\",\"Lesotho\",\"Liberia\",\"Libya\",\"Liechtenstein\",\"Lithuania\",\"Luxembourg\",\"Macau\",\"Macedonia\",\"Madagascar\",\"Malawi\",\"Malaysia\",\"Maldives\",\"Mali\",\"Malta\",\"Marshall Islands\",\"Martinique\",\"Mauritania\",\"Mauritius\",\"Mayotte\",\"Mexico\",\"Micronesia, Fed. St.\",\"Moldova\",\"Mongolia\",\"Montserrat\",\"Morocco\",\"Mozambique\",\"Namibia\",\"Nauru\",\"Nepal\",\"Netherlands\",\"Netherlands Antilles\",\"New Caledonia\",\"New Zealand\",\"Nicaragua\",\"Niger\",\"Nigeria\",\"N. Mariana Islands\",\"Norway\",\"Oman\",\"Pakistan\",\"Palau\",\"Panama\",\"Papua New Guinea\",\"Paraguay\",\"Peru\",\"Philippines\",\"Poland\",\"Portugal\",\"Puerto Rico\",\"Qatar\",\"Reunion\",\"Romania\",\"Russia\",\"Rwanda\",\"Saint Helena\",\"Saint Kitts & Nevis\",\"Saint Lucia\",\"St Pierre & Miquelon\",\"Saint Vincent and the Grenadines\",\"Samoa\",\"San Marino\",\"Sao Tome & Principe\",\"Saudi Arabia\",\"Senegal\",\"Seychelles\",\"Sierra Leone\",\"Singapore\",\"Slovakia\",\"Slovenia\",\"Solomon Islands\",\"Somalia\",\"South Africa\",\"Spain\",\"Sri Lanka\",\"Sudan\",\"Suriname\",\"Swaziland\",\"Sweden\",\"Switzerland\",\"Syria\",\"Taiwan\",\"Tajikistan\",\"Tanzania\",\"Thailand\",\"Togo\",\"Tonga\",\"Trinidad & Tobago\",\"Tunisia\",\"Turkey\",\"Turkmenistan\",\"Turks & Caicos Is\",\"Tuvalu\",\"Uganda\",\"Ukraine\",\"United Arab Emirates\",\"United Kingdom\",\"United States\",\"Uruguay\",\"Uzbekistan\",\"Vanuatu\",\"Venezuela\",\"Vietnam\",\"Virgin Islands\",\"Wallis and Futuna\",\"West Bank\",\"Western Sahara\",\"Yemen\",\"Zambia\",\"Zimbabwe\"],\"locations\":[\"AFG\",\"ALB\",\"DZA\",\"ASM\",\"AND\",\"AGO\",\"AIA\",null,\"ARG\",\"ARM\",\"ABW\",\"AUS\",\"AUT\",\"AZE\",null,\"BHR\",\"BGD\",\"BRB\",\"BLR\",\"BEL\",\"BLZ\",\"BEN\",\"BMU\",\"BTN\",\"BOL\",null,\"BWA\",\"BRA\",null,null,\"BGR\",\"BFA\",null,\"BDI\",\"KHM\",\"CMR\",\"CAN\",null,\"CYM\",null,\"TCD\",\"CHL\",\"CHN\",\"COL\",\"COM\",null,null,\"CRI\",null,\"HRV\",\"CUB\",\"CZE\",\"DNK\",\"DJI\",\"DMA\",\"DOM\",\"ECU\",\"EGY\",\"SLV\",\"GNQ\",\"ERI\",\"EST\",\"ETH\",\"FRO\",\"FJI\",\"FIN\",\"FRA\",\"GUF\",\"PYF\",\"GAB\",null,null,\"GEO\",\"DEU\",\"GHA\",\"GIB\",\"GRC\",\"GRL\",\"GRD\",\"GLP\",\"GUM\",\"GTM\",\"GIN\",null,\"GUY\",\"HTI\",\"HND\",\"HKG\",\"HUN\",\"ISL\",\"IND\",\"IDN\",\"IRN\",\"IRQ\",\"IRL\",\"IMN\",\"ISR\",\"ITA\",\"JAM\",\"JPN\",\"JEY\",\"JOR\",\"KAZ\",\"KEN\",\"KIR\",null,null,\"KWT\",\"KGZ\",\"LAO\",\"LVA\",\"LBN\",\"LSO\",\"LBR\",\"LBY\",\"LIE\",\"LTU\",\"LUX\",null,\"MKD\",\"MDG\",\"MWI\",\"MYS\",\"MDV\",\"MLI\",\"MLT\",\"MHL\",\"MTQ\",\"MRT\",\"MUS\",\"MYT\",\"MEX\",null,\"MDA\",\"MNG\",\"MSR\",\"MAR\",\"MOZ\",\"NAM\",\"NRU\",\"NPL\",\"NLD\",null,\"NCL\",\"NZL\",\"NIC\",\"NER\",\"NGA\",null,\"NOR\",\"OMN\",\"PAK\",\"PLW\",\"PAN\",\"PNG\",\"PRY\",\"PER\",\"PHL\",\"POL\",\"PRT\",\"PRI\",\"QAT\",null,\"ROU\",\"RUS\",\"RWA\",null,null,\"LCA\",null,\"VCT\",\"WSM\",\"SMR\",null,\"SAU\",\"SEN\",\"SYC\",\"SLE\",\"SGP\",\"SVK\",\"SVN\",\"SLB\",\"SOM\",\"ZAF\",\"ESP\",\"LKA\",\"SDN\",\"SUR\",null,\"SWE\",\"CHE\",\"SYR\",\"TWN\",\"TJK\",\"TZA\",\"THA\",\"TGO\",\"TON\",null,\"TUN\",\"TUR\",\"TKM\",null,\"TUV\",\"UGA\",\"UKR\",\"ARE\",\"GBR\",\"USA\",\"URY\",\"UZB\",\"VUT\",\"VEN\",\"VNM\",null,\"WLF\",null,\"ESH\",\"YEM\",\"ZMB\",\"ZWE\"],\"name\":\"\",\"z\":[2,5,12,8,3,2,1,1,1,13,1,8,3,13,1,10,11,1,13,3,1,4,9,11,1,5,4,1,1,11,5,2,11,4,11,4,9,4,3,2,2,1,14,1,4,2,4,1,4,5,1,5,3,4,1,1,1,12,1,4,4,6,2,3,8,3,3,1,8,4,4,10,13,3,4,3,3,9,1,1,8,1,4,2,1,4,1,0,5,3,14,11,11,10,3,3,10,3,1,11,3,10,13,4,8,11,11,10,13,11,6,10,4,2,12,3,6,3,0,5,4,4,11,11,2,3,8,1,4,4,4,1,7,13,11,1,12,2,4,8,11,3,1,8,8,1,2,4,8,3,10,11,8,1,8,1,1,11,5,3,1,10,1,5,9,4,4,1,1,9,1,8,3,4,10,4,4,2,0,5,5,8,2,4,3,11,4,1,4,3,3,10,11,13,2,11,4,8,1,12,10,13,1,8,4,13,10,3,9,1,13,8,1,11,1,8,10,12,10,4,4],\"type\":\"choropleth\"}],                        {\"template\":{\"data\":{\"histogram2dcontour\":[{\"type\":\"histogram2dcontour\",\"colorbar\":{\"outlinewidth\":0,\"ticks\":\"\"},\"colorscale\":[[0.0,\"#0d0887\"],[0.1111111111111111,\"#46039f\"],[0.2222222222222222,\"#7201a8\"],[0.3333333333333333,\"#9c179e\"],[0.4444444444444444,\"#bd3786\"],[0.5555555555555556,\"#d8576b\"],[0.6666666666666666,\"#ed7953\"],[0.7777777777777778,\"#fb9f3a\"],[0.8888888888888888,\"#fdca26\"],[1.0,\"#f0f921\"]]}],\"choropleth\":[{\"type\":\"choropleth\",\"colorbar\":{\"outlinewidth\":0,\"ticks\":\"\"}}],\"histogram2d\":[{\"type\":\"histogram2d\",\"colorbar\":{\"outlinewidth\":0,\"ticks\":\"\"},\"colorscale\":[[0.0,\"#0d0887\"],[0.1111111111111111,\"#46039f\"],[0.2222222222222222,\"#7201a8\"],[0.3333333333333333,\"#9c179e\"],[0.4444444444444444,\"#bd3786\"],[0.5555555555555556,\"#d8576b\"],[0.6666666666666666,\"#ed7953\"],[0.7777777777777778,\"#fb9f3a\"],[0.8888888888888888,\"#fdca26\"],[1.0,\"#f0f921\"]]}],\"heatmap\":[{\"type\":\"heatmap\",\"colorbar\":{\"outlinewidth\":0,\"ticks\":\"\"},\"colorscale\":[[0.0,\"#0d0887\"],[0.1111111111111111,\"#46039f\"],[0.2222222222222222,\"#7201a8\"],[0.3333333333333333,\"#9c179e\"],[0.4444444444444444,\"#bd3786\"],[0.5555555555555556,\"#d8576b\"],[0.6666666666666666,\"#ed7953\"],[0.7777777777777778,\"#fb9f3a\"],[0.8888888888888888,\"#fdca26\"],[1.0,\"#f0f921\"]]}],\"heatmapgl\":[{\"type\":\"heatmapgl\",\"colorbar\":{\"outlinewidth\":0,\"ticks\":\"\"},\"colorscale\":[[0.0,\"#0d0887\"],[0.1111111111111111,\"#46039f\"],[0.2222222222222222,\"#7201a8\"],[0.3333333333333333,\"#9c179e\"],[0.4444444444444444,\"#bd3786\"],[0.5555555555555556,\"#d8576b\"],[0.6666666666666666,\"#ed7953\"],[0.7777777777777778,\"#fb9f3a\"],[0.8888888888888888,\"#fdca26\"],[1.0,\"#f0f921\"]]}],\"contourcarpet\":[{\"type\":\"contourcarpet\",\"colorbar\":{\"outlinewidth\":0,\"ticks\":\"\"}}],\"contour\":[{\"type\":\"contour\",\"colorbar\":{\"outlinewidth\":0,\"ticks\":\"\"},\"colorscale\":[[0.0,\"#0d0887\"],[0.1111111111111111,\"#46039f\"],[0.2222222222222222,\"#7201a8\"],[0.3333333333333333,\"#9c179e\"],[0.4444444444444444,\"#bd3786\"],[0.5555555555555556,\"#d8576b\"],[0.6666666666666666,\"#ed7953\"],[0.7777777777777778,\"#fb9f3a\"],[0.8888888888888888,\"#fdca26\"],[1.0,\"#f0f921\"]]}],\"surface\":[{\"type\":\"surface\",\"colorbar\":{\"outlinewidth\":0,\"ticks\":\"\"},\"colorscale\":[[0.0,\"#0d0887\"],[0.1111111111111111,\"#46039f\"],[0.2222222222222222,\"#7201a8\"],[0.3333333333333333,\"#9c179e\"],[0.4444444444444444,\"#bd3786\"],[0.5555555555555556,\"#d8576b\"],[0.6666666666666666,\"#ed7953\"],[0.7777777777777778,\"#fb9f3a\"],[0.8888888888888888,\"#fdca26\"],[1.0,\"#f0f921\"]]}],\"mesh3d\":[{\"type\":\"mesh3d\",\"colorbar\":{\"outlinewidth\":0,\"ticks\":\"\"}}],\"scatter\":[{\"fillpattern\":{\"fillmode\":\"overlay\",\"size\":10,\"solidity\":0.2},\"type\":\"scatter\"}],\"parcoords\":[{\"type\":\"parcoords\",\"line\":{\"colorbar\":{\"outlinewidth\":0,\"ticks\":\"\"}}}],\"scatterpolargl\":[{\"type\":\"scatterpolargl\",\"marker\":{\"colorbar\":{\"outlinewidth\":0,\"ticks\":\"\"}}}],\"bar\":[{\"error_x\":{\"color\":\"#2a3f5f\"},\"error_y\":{\"color\":\"#2a3f5f\"},\"marker\":{\"line\":{\"color\":\"#E5ECF6\",\"width\":0.5},\"pattern\":{\"fillmode\":\"overlay\",\"size\":10,\"solidity\":0.2}},\"type\":\"bar\"}],\"scattergeo\":[{\"type\":\"scattergeo\",\"marker\":{\"colorbar\":{\"outlinewidth\":0,\"ticks\":\"\"}}}],\"scatterpolar\":[{\"type\":\"scatterpolar\",\"marker\":{\"colorbar\":{\"outlinewidth\":0,\"ticks\":\"\"}}}],\"histogram\":[{\"marker\":{\"pattern\":{\"fillmode\":\"overlay\",\"size\":10,\"solidity\":0.2}},\"type\":\"histogram\"}],\"scattergl\":[{\"type\":\"scattergl\",\"marker\":{\"colorbar\":{\"outlinewidth\":0,\"ticks\":\"\"}}}],\"scatter3d\":[{\"type\":\"scatter3d\",\"line\":{\"colorbar\":{\"outlinewidth\":0,\"ticks\":\"\"}},\"marker\":{\"colorbar\":{\"outlinewidth\":0,\"ticks\":\"\"}}}],\"scattermapbox\":[{\"type\":\"scattermapbox\",\"marker\":{\"colorbar\":{\"outlinewidth\":0,\"ticks\":\"\"}}}],\"scatterternary\":[{\"type\":\"scatterternary\",\"marker\":{\"colorbar\":{\"outlinewidth\":0,\"ticks\":\"\"}}}],\"scattercarpet\":[{\"type\":\"scattercarpet\",\"marker\":{\"colorbar\":{\"outlinewidth\":0,\"ticks\":\"\"}}}],\"carpet\":[{\"aaxis\":{\"endlinecolor\":\"#2a3f5f\",\"gridcolor\":\"white\",\"linecolor\":\"white\",\"minorgridcolor\":\"white\",\"startlinecolor\":\"#2a3f5f\"},\"baxis\":{\"endlinecolor\":\"#2a3f5f\",\"gridcolor\":\"white\",\"linecolor\":\"white\",\"minorgridcolor\":\"white\",\"startlinecolor\":\"#2a3f5f\"},\"type\":\"carpet\"}],\"table\":[{\"cells\":{\"fill\":{\"color\":\"#EBF0F8\"},\"line\":{\"color\":\"white\"}},\"header\":{\"fill\":{\"color\":\"#C8D4E3\"},\"line\":{\"color\":\"white\"}},\"type\":\"table\"}],\"barpolar\":[{\"marker\":{\"line\":{\"color\":\"#E5ECF6\",\"width\":0.5},\"pattern\":{\"fillmode\":\"overlay\",\"size\":10,\"solidity\":0.2}},\"type\":\"barpolar\"}],\"pie\":[{\"automargin\":true,\"type\":\"pie\"}]},\"layout\":{\"autotypenumbers\":\"strict\",\"colorway\":[\"#636efa\",\"#EF553B\",\"#00cc96\",\"#ab63fa\",\"#FFA15A\",\"#19d3f3\",\"#FF6692\",\"#B6E880\",\"#FF97FF\",\"#FECB52\"],\"font\":{\"color\":\"#2a3f5f\"},\"hovermode\":\"closest\",\"hoverlabel\":{\"align\":\"left\"},\"paper_bgcolor\":\"white\",\"plot_bgcolor\":\"#E5ECF6\",\"polar\":{\"bgcolor\":\"#E5ECF6\",\"angularaxis\":{\"gridcolor\":\"white\",\"linecolor\":\"white\",\"ticks\":\"\"},\"radialaxis\":{\"gridcolor\":\"white\",\"linecolor\":\"white\",\"ticks\":\"\"}},\"ternary\":{\"bgcolor\":\"#E5ECF6\",\"aaxis\":{\"gridcolor\":\"white\",\"linecolor\":\"white\",\"ticks\":\"\"},\"baxis\":{\"gridcolor\":\"white\",\"linecolor\":\"white\",\"ticks\":\"\"},\"caxis\":{\"gridcolor\":\"white\",\"linecolor\":\"white\",\"ticks\":\"\"}},\"coloraxis\":{\"colorbar\":{\"outlinewidth\":0,\"ticks\":\"\"}},\"colorscale\":{\"sequential\":[[0.0,\"#0d0887\"],[0.1111111111111111,\"#46039f\"],[0.2222222222222222,\"#7201a8\"],[0.3333333333333333,\"#9c179e\"],[0.4444444444444444,\"#bd3786\"],[0.5555555555555556,\"#d8576b\"],[0.6666666666666666,\"#ed7953\"],[0.7777777777777778,\"#fb9f3a\"],[0.8888888888888888,\"#fdca26\"],[1.0,\"#f0f921\"]],\"sequentialminus\":[[0.0,\"#0d0887\"],[0.1111111111111111,\"#46039f\"],[0.2222222222222222,\"#7201a8\"],[0.3333333333333333,\"#9c179e\"],[0.4444444444444444,\"#bd3786\"],[0.5555555555555556,\"#d8576b\"],[0.6666666666666666,\"#ed7953\"],[0.7777777777777778,\"#fb9f3a\"],[0.8888888888888888,\"#fdca26\"],[1.0,\"#f0f921\"]],\"diverging\":[[0,\"#8e0152\"],[0.1,\"#c51b7d\"],[0.2,\"#de77ae\"],[0.3,\"#f1b6da\"],[0.4,\"#fde0ef\"],[0.5,\"#f7f7f7\"],[0.6,\"#e6f5d0\"],[0.7,\"#b8e186\"],[0.8,\"#7fbc41\"],[0.9,\"#4d9221\"],[1,\"#276419\"]]},\"xaxis\":{\"gridcolor\":\"white\",\"linecolor\":\"white\",\"ticks\":\"\",\"title\":{\"standoff\":15},\"zerolinecolor\":\"white\",\"automargin\":true,\"zerolinewidth\":2},\"yaxis\":{\"gridcolor\":\"white\",\"linecolor\":\"white\",\"ticks\":\"\",\"title\":{\"standoff\":15},\"zerolinecolor\":\"white\",\"automargin\":true,\"zerolinewidth\":2},\"scene\":{\"xaxis\":{\"backgroundcolor\":\"#E5ECF6\",\"gridcolor\":\"white\",\"linecolor\":\"white\",\"showbackground\":true,\"ticks\":\"\",\"zerolinecolor\":\"white\",\"gridwidth\":2},\"yaxis\":{\"backgroundcolor\":\"#E5ECF6\",\"gridcolor\":\"white\",\"linecolor\":\"white\",\"showbackground\":true,\"ticks\":\"\",\"zerolinecolor\":\"white\",\"gridwidth\":2},\"zaxis\":{\"backgroundcolor\":\"#E5ECF6\",\"gridcolor\":\"white\",\"linecolor\":\"white\",\"showbackground\":true,\"ticks\":\"\",\"zerolinecolor\":\"white\",\"gridwidth\":2}},\"shapedefaults\":{\"line\":{\"color\":\"#2a3f5f\"}},\"annotationdefaults\":{\"arrowcolor\":\"#2a3f5f\",\"arrowhead\":0,\"arrowwidth\":1},\"geo\":{\"bgcolor\":\"white\",\"landcolor\":\"#E5ECF6\",\"subunitcolor\":\"white\",\"showland\":true,\"showlakes\":true,\"lakecolor\":\"white\"},\"title\":{\"x\":0.05},\"mapbox\":{\"style\":\"light\"}}},\"geo\":{\"domain\":{\"x\":[0.0,1.0],\"y\":[0.0,1.0]},\"center\":{}},\"coloraxis\":{\"colorbar\":{\"title\":{\"text\":\"Cluster\"}},\"colorscale\":[[0.0,\"#30123b\"],[0.07142857142857142,\"#4145ab\"],[0.14285714285714285,\"#4675ed\"],[0.21428571428571427,\"#39a2fc\"],[0.2857142857142857,\"#1bcfd4\"],[0.35714285714285715,\"#24eca6\"],[0.42857142857142855,\"#61fc6c\"],[0.5,\"#a4fc3b\"],[0.5714285714285714,\"#d1e834\"],[0.6428571428571429,\"#f3c63a\"],[0.7142857142857143,\"#fe9b2d\"],[0.7857142857142857,\"#f36315\"],[0.8571428571428571,\"#d93806\"],[0.9285714285714286,\"#b11901\"],[1.0,\"#7a0402\"]]},\"legend\":{\"tracegroupgap\":0},\"margin\":{\"t\":60}},                        {\"responsive\": true}                    ).then(function(){\n",
       "                            \n",
       "var gd = document.getElementById('93a9ff2b-fd3e-4442-aedb-bcfc3c9e7cd7');\n",
       "var x = new MutationObserver(function (mutations, observer) {{\n",
       "        var display = window.getComputedStyle(gd).display;\n",
       "        if (!display || display === 'none') {{\n",
       "            console.log([gd, 'removed!']);\n",
       "            Plotly.purge(gd);\n",
       "            observer.disconnect();\n",
       "        }}\n",
       "}});\n",
       "\n",
       "// Listen for the removal of the full notebook cells\n",
       "var notebookContainer = gd.closest('#notebook-container');\n",
       "if (notebookContainer) {{\n",
       "    x.observe(notebookContainer, {childList: true});\n",
       "}}\n",
       "\n",
       "// Listen for the clearing of the current output cell\n",
       "var outputEl = gd.closest('.output');\n",
       "if (outputEl) {{\n",
       "    x.observe(outputEl, {childList: true});\n",
       "}}\n",
       "\n",
       "                        })                };                });            </script>        </div>"
      ]
     },
     "metadata": {},
     "output_type": "display_data"
    }
   ],
   "source": [
    "px.choropleth(df, locations=\"ISO Code\",\n",
    "                    color=\"Cluster\", # lifeExp is a column of gapminder\n",
    "                    hover_name=\"Country\", # column to add to hover information\n",
    "                    color_continuous_scale='Turbo'\n",
    "                    )"
   ]
  },
  {
   "cell_type": "markdown",
   "id": "dbf1f2f7",
   "metadata": {
    "papermill": {
     "duration": 0.0226,
     "end_time": "2023-01-16T10:47:35.923131",
     "exception": false,
     "start_time": "2023-01-16T10:47:35.900531",
     "status": "completed"
    },
    "tags": []
   },
   "source": [
    "There we have it! We experimented with different values for the algorithm and got our clusters. K Means is an extremely useful tool to get an insight into the dataset and explore various features.  \n",
    "Thas all for today!"
   ]
  }
 ],
 "metadata": {
  "kernelspec": {
   "display_name": "Python 3",
   "language": "python",
   "name": "python3"
  },
  "language_info": {
   "codemirror_mode": {
    "name": "ipython",
    "version": 3
   },
   "file_extension": ".py",
   "mimetype": "text/x-python",
   "name": "python",
   "nbconvert_exporter": "python",
   "pygments_lexer": "ipython3",
   "version": "3.7.12"
  },
  "papermill": {
   "default_parameters": {},
   "duration": 25.904959,
   "end_time": "2023-01-16T10:47:37.170144",
   "environment_variables": {},
   "exception": null,
   "input_path": "__notebook__.ipynb",
   "output_path": "__notebook__.ipynb",
   "parameters": {},
   "start_time": "2023-01-16T10:47:11.265185",
   "version": "2.3.4"
  }
 },
 "nbformat": 4,
 "nbformat_minor": 5
}
